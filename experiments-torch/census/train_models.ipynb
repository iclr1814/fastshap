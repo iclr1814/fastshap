{
 "cells": [
  {
   "cell_type": "markdown",
   "id": "residential-grocery",
   "metadata": {},
   "source": [
    "# Load data"
   ]
  },
  {
   "cell_type": "code",
   "execution_count": 1,
   "id": "incorrect-revolution",
   "metadata": {},
   "outputs": [],
   "source": [
    "import shap\n",
    "import numpy as np\n",
    "from sklearn.model_selection import train_test_split\n",
    "from sklearn.preprocessing import OneHotEncoder, StandardScaler"
   ]
  },
  {
   "cell_type": "code",
   "execution_count": 2,
   "id": "quiet-proxy",
   "metadata": {},
   "outputs": [],
   "source": [
    "# Load and split data\n",
    "X_train, X_test, Y_train, Y_test = train_test_split(\n",
    "    *shap.datasets.adult(), test_size=0.2, random_state=7)\n",
    "X_train, X_val, Y_train, Y_val = train_test_split(\n",
    "    X_train, Y_train, test_size=0.2, random_state=0)"
   ]
  },
  {
   "cell_type": "code",
   "execution_count": 3,
   "id": "sufficient-stroke",
   "metadata": {},
   "outputs": [],
   "source": [
    "# Neural network pre-processing\n",
    "enc = OneHotEncoder(sparse=False)\n",
    "Y_train_oh = enc.fit_transform(np.expand_dims(Y_train, -1))\n",
    "Y_val_oh = enc.fit_transform(np.expand_dims(Y_val, -1))\n",
    "Y_test_oh = enc.transform(np.expand_dims(Y_test, -1))\n",
    "\n",
    "ss = StandardScaler()\n",
    "ss.fit(X_train)\n",
    "X_train_std = ss.transform(X_train)\n",
    "X_val_std = ss.transform(X_val)\n",
    "X_test_std = ss.transform(X_test)"
   ]
  },
  {
   "cell_type": "markdown",
   "id": "recorded-cleaning",
   "metadata": {},
   "source": [
    "# Train model"
   ]
  },
  {
   "cell_type": "code",
   "execution_count": 4,
   "id": "potential-society",
   "metadata": {},
   "outputs": [],
   "source": [
    "import pickle\n",
    "import lightgbm as lgb"
   ]
  },
  {
   "cell_type": "code",
   "execution_count": 5,
   "id": "august-summary",
   "metadata": {},
   "outputs": [
    {
     "name": "stdout",
     "output_type": "stream",
     "text": [
      "Training until validation scores don't improve for 50 rounds\n",
      "Early stopping, best iteration is:\n",
      "[656]\tvalid_0's binary_logloss: 0.281561\n"
     ]
    }
   ],
   "source": [
    "# Setup\n",
    "params = {\n",
    "    \"max_bin\": 512,\n",
    "    \"learning_rate\": 0.05,\n",
    "    \"boosting_type\": \"gbdt\",\n",
    "    \"objective\": \"binary\",\n",
    "    \"metric\": \"binary_logloss\",\n",
    "    \"num_leaves\": 10,\n",
    "    \"verbose\": -1,\n",
    "    \"min_data\": 100,\n",
    "    \"boost_from_average\": True\n",
    "}\n",
    "\n",
    "# More setup\n",
    "d_train = lgb.Dataset(X_train, label=Y_train)\n",
    "d_test = lgb.Dataset(X_val, label=Y_val)\n",
    "\n",
    "# Train model\n",
    "model = lgb.train(params, d_train, 10000, valid_sets=[d_test], early_stopping_rounds=50, verbose_eval=1000)"
   ]
  },
  {
   "cell_type": "code",
   "execution_count": 6,
   "id": "boxed-complex",
   "metadata": {},
   "outputs": [],
   "source": [
    "with open('../models/census_model.pkl', 'wb') as f:\n",
    "    pickle.dump(model, f)"
   ]
  },
  {
   "cell_type": "markdown",
   "id": "headed-reception",
   "metadata": {},
   "source": [
    "# Train surrogate"
   ]
  },
  {
   "cell_type": "code",
   "execution_count": 7,
   "id": "stylish-agenda",
   "metadata": {},
   "outputs": [],
   "source": [
    "import torch\n",
    "import torch.nn as nn\n",
    "from fastshap_torch.utils import MaskLayer1d\n",
    "from fastshap_torch import Surrogate, SoftCrossEntropyLoss\n",
    "import matplotlib.pyplot as plt"
   ]
  },
  {
   "cell_type": "code",
   "execution_count": 8,
   "id": "frozen-shadow",
   "metadata": {},
   "outputs": [],
   "source": [
    "# Create data\n",
    "num_features = X_train.shape[1]\n",
    "Y_train_surrogate = model.predict(X_train)\n",
    "Y_train_surrogate = np.vstack([1 - Y_train_surrogate, Y_train_surrogate]).T\n",
    "Y_val_surrogate = model.predict(X_val)\n",
    "Y_val_surrogate = np.vstack([1 - Y_val_surrogate, Y_val_surrogate]).T"
   ]
  },
  {
   "cell_type": "code",
   "execution_count": 9,
   "id": "minus-translator",
   "metadata": {},
   "outputs": [
    {
     "name": "stdout",
     "output_type": "stream",
     "text": [
      "Loss given no information = 0.5500\n"
     ]
    }
   ],
   "source": [
    "# Get loss upper bound\n",
    "p = Y_train_surrogate.mean(axis=0)\n",
    "soft_ce = - np.mean(np.sum(np.log(p) * Y_train_surrogate, axis=1))\n",
    "print('Loss given no information = {:.4f}'.format(soft_ce))"
   ]
  },
  {
   "cell_type": "code",
   "execution_count": 10,
   "id": "desirable-malpractice",
   "metadata": {},
   "outputs": [],
   "source": [
    "# Set up device\n",
    "device = torch.device('cuda', 3)\n",
    "\n",
    "# Create model\n",
    "surrogate = nn.Sequential(\n",
    "    MaskLayer1d(value=0, append=True),\n",
    "    nn.Linear(2 * num_features, 128),\n",
    "    nn.ELU(inplace=True),\n",
    "    nn.Linear(128, 128),\n",
    "    nn.ELU(inplace=True),\n",
    "    nn.Linear(128, 2)).to(device)\n",
    "\n",
    "# Set up surrogate object\n",
    "surr = Surrogate(surrogate, num_features)"
   ]
  },
  {
   "cell_type": "code",
   "execution_count": 11,
   "id": "spiritual-community",
   "metadata": {},
   "outputs": [
    {
     "name": "stdout",
     "output_type": "stream",
     "text": [
      "Best loss = 0.3933\n",
      "Best loss = 0.3931\n",
      "Best loss = 0.3924\n"
     ]
    }
   ],
   "source": [
    "# Train\n",
    "for batch_size in (32, 512, 8192):\n",
    "    surr.train((X_train_std, Y_train_surrogate),\n",
    "               (X_val_std, Y_val_surrogate),\n",
    "               batch_size=batch_size,\n",
    "               max_epochs=100,\n",
    "               loss_fn=SoftCrossEntropyLoss(),\n",
    "               validation_samples=10,\n",
    "               validation_batch_size=10000,\n",
    "               verbose=False)\n",
    "    \n",
    "    print('Best loss = {:.4f}'.format(min(surr.loss_list)))"
   ]
  },
  {
   "cell_type": "code",
   "execution_count": 12,
   "id": "dominican-pricing",
   "metadata": {},
   "outputs": [],
   "source": [
    "surrogate.cpu()\n",
    "surrogate.eval()\n",
    "torch.save(surrogate, '../models/census_surrogate.pt')"
   ]
  },
  {
   "cell_type": "code",
   "execution_count": null,
   "id": "retired-lobby",
   "metadata": {},
   "outputs": [],
   "source": []
  }
 ],
 "metadata": {
  "kernelspec": {
   "display_name": "Python 3",
   "language": "python",
   "name": "python3"
  },
  "language_info": {
   "codemirror_mode": {
    "name": "ipython",
    "version": 3
   },
   "file_extension": ".py",
   "mimetype": "text/x-python",
   "name": "python",
   "nbconvert_exporter": "python",
   "pygments_lexer": "ipython3",
   "version": "3.6.13"
  }
 },
 "nbformat": 4,
 "nbformat_minor": 5
}
