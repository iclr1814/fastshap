{
 "cells": [
  {
   "cell_type": "code",
   "execution_count": 1,
   "id": "closed-funds",
   "metadata": {},
   "outputs": [
    {
     "ename": "RuntimeError",
     "evalue": "module compiled against API version 0xe but this version of numpy is 0xd",
     "output_type": "error",
     "traceback": [
      "\u001b[0;31m---------------------------------------------------------------------------\u001b[0m",
      "\u001b[0;31mRuntimeError\u001b[0m                              Traceback (most recent call last)",
      "\u001b[0;31mRuntimeError\u001b[0m: module compiled against API version 0xe but this version of numpy is 0xd"
     ]
    }
   ],
   "source": [
    "import sys\n",
    "sys.path.insert(0, '../../../fastshap_tf/')\n",
    "from fastshap import ResizeMask"
   ]
  },
  {
   "cell_type": "code",
   "execution_count": 2,
   "id": "comparable-nigeria",
   "metadata": {},
   "outputs": [],
   "source": [
    "import pickle\n",
    "import numpy as np\n",
    "import shap\n",
    "from tqdm.notebook import tqdm\n",
    "import time"
   ]
  },
  {
   "cell_type": "code",
   "execution_count": 3,
   "id": "authentic-emperor",
   "metadata": {},
   "outputs": [],
   "source": [
    "import tensorflow as tf\n",
    "import tensorflow_datasets as tfds\n",
    "\n",
    "from datetime import datetime\n",
    "import os"
   ]
  },
  {
   "cell_type": "code",
   "execution_count": 4,
   "id": "bacterial-blind",
   "metadata": {},
   "outputs": [],
   "source": [
    "from tensorflow.keras.layers import (Input, Layer, Dense, Lambda, \n",
    "                                     Dropout, Multiply, BatchNormalization, \n",
    "                                     Reshape, Concatenate, Conv2D, Permute)\n",
    "from tensorflow.keras.models import Model, Sequential\n",
    "from tensorflow.keras import regularizers\n",
    "from tensorflow.keras import backend as K\n",
    "from tensorflow.keras.callbacks import ModelCheckpoint, EarlyStopping, ReduceLROnPlateau\n",
    "from tensorflow.keras.layers.experimental.preprocessing import Resizing\n",
    "\n",
    "from tensorflow.keras.datasets import cifar10"
   ]
  },
  {
   "cell_type": "code",
   "execution_count": 5,
   "id": "laughing-vancouver",
   "metadata": {},
   "outputs": [],
   "source": [
    "#Select GPU\n",
    "os.environ['CUDA_VISIBLE_DEVICES'] = '2'"
   ]
  },
  {
   "cell_type": "markdown",
   "id": "unavailable-adobe",
   "metadata": {},
   "source": [
    "## Load Data"
   ]
  },
  {
   "cell_type": "code",
   "execution_count": 6,
   "id": "crude-ready",
   "metadata": {
    "ExecuteTime": {
     "end_time": "2021-03-16T19:34:35.186987Z",
     "start_time": "2021-03-16T19:34:35.180960Z"
    }
   },
   "outputs": [],
   "source": [
    "BATCH_SIZE = 32\n",
    "EPOCHS = 100\n",
    "LR = 1e-3\n",
    "INPUT_SHAPE = (224, 224, 3)"
   ]
  },
  {
   "cell_type": "markdown",
   "id": "needed-hours",
   "metadata": {},
   "source": [
    "### Load Data"
   ]
  },
  {
   "cell_type": "code",
   "execution_count": 7,
   "id": "intelligent-guinea",
   "metadata": {
    "ExecuteTime": {
     "end_time": "2021-03-16T19:34:36.732265Z",
     "start_time": "2021-03-16T19:34:36.267950Z"
    },
    "scrolled": false
   },
   "outputs": [
    {
     "name": "stdout",
     "output_type": "stream",
     "text": [
      "50000 train samples\n",
      "5000 val samples\n",
      "5000 test samples\n"
     ]
    }
   ],
   "source": [
    "from sklearn.model_selection import train_test_split\n",
    "\n",
    "num_classes = 10\n",
    "\n",
    "# the data, split between train and test sets\n",
    "(x_train, y_train), (x_test, y_test) = cifar10.load_data()\n",
    "x_test, x_val, y_test, y_val = train_test_split(x_test, y_test, train_size=0.5, random_state=420)\n",
    "\n",
    "x_train = x_train.astype('float32')\n",
    "x_val = x_val.astype('float32')\n",
    "x_test = x_test.astype('float32')\n",
    "#Resize to 224x224\n",
    "\n",
    "print(x_train.shape[0], 'train samples')\n",
    "print(x_val.shape[0], 'val samples')\n",
    "print(x_test.shape[0], 'test samples')\n",
    "\n",
    "# convert class vectors to binary class matrices\n",
    "y_train = tf.keras.utils.to_categorical(y_train, num_classes)\n",
    "y_val = tf.keras.utils.to_categorical(y_val, num_classes)\n",
    "y_test = tf.keras.utils.to_categorical(y_test, num_classes)\n",
    "\n",
    "# Make TF Dataset\n",
    "ds_train = tf.data.Dataset.from_tensor_slices((x_train, y_train))\n",
    "ds_val = tf.data.Dataset.from_tensor_slices((x_val, y_val))\n",
    "ds_test = tf.data.Dataset.from_tensor_slices((x_test, y_test))"
   ]
  },
  {
   "cell_type": "markdown",
   "id": "young-antibody",
   "metadata": {},
   "source": [
    "### Batch Data"
   ]
  },
  {
   "cell_type": "code",
   "execution_count": 8,
   "id": "mathematical-cartridge",
   "metadata": {
    "ExecuteTime": {
     "end_time": "2021-03-16T19:34:38.036975Z",
     "start_time": "2021-03-16T19:34:38.030145Z"
    }
   },
   "outputs": [],
   "source": [
    "def batch_data(dataset, fn, batch_size=32):\n",
    "    dataset = dataset.map(fn)\n",
    "    dataset = dataset.batch(batch_size)\n",
    "    dataset = dataset.prefetch(tf.data.experimental.AUTOTUNE)\n",
    "    \n",
    "    return dataset"
   ]
  },
  {
   "cell_type": "markdown",
   "id": "electrical-nature",
   "metadata": {},
   "source": [
    "### Reformat Data"
   ]
  },
  {
   "cell_type": "code",
   "execution_count": 9,
   "id": "hungry-master",
   "metadata": {
    "ExecuteTime": {
     "end_time": "2021-03-16T19:34:39.459330Z",
     "start_time": "2021-03-16T19:34:39.356585Z"
    }
   },
   "outputs": [],
   "source": [
    "def reformat(x, y):\n",
    "    \n",
    "    x = tf.cast(x, tf.float32)\n",
    "    x = Resizing(INPUT_SHAPE[0], INPUT_SHAPE[1], interpolation='nearest')(x)\n",
    "    x = tf.keras.applications.resnet50.preprocess_input(x)\n",
    "    \n",
    "    return (x, y)\n",
    "\n",
    "ds_train = batch_data(ds_train, reformat, BATCH_SIZE)\n",
    "ds_val = batch_data(ds_val, reformat, BATCH_SIZE)\n",
    "ds_test = batch_data(ds_test, reformat, BATCH_SIZE)"
   ]
  },
  {
   "cell_type": "markdown",
   "id": "warming-foster",
   "metadata": {},
   "source": [
    "## Load Model"
   ]
  },
  {
   "cell_type": "code",
   "execution_count": 10,
   "id": "encouraging-digit",
   "metadata": {},
   "outputs": [],
   "source": [
    "from tensorflow.keras.applications.resnet50 import ResNet50\n",
    "\n",
    "base_model = ResNet50(\n",
    "    include_top=False, weights='imagenet', \n",
    "    input_shape=INPUT_SHAPE, pooling='avg'\n",
    ")\n",
    "base_model.trainable = True\n",
    "\n",
    "model_input = Input(shape=INPUT_SHAPE, name='input')\n",
    "\n",
    "net = base_model(model_input)\n",
    "out = Dense(10, activation='softmax')(net)\n",
    "\n",
    "model = Model(model_input, out)\n",
    "\n",
    "model_weights_path = 'model/20210514_14_39_21/model_weights.h5'\n",
    "\n",
    "model.load_weights(model_weights_path)\n",
    "model.trainable = False"
   ]
  },
  {
   "cell_type": "markdown",
   "id": "eastern-diving",
   "metadata": {},
   "source": [
    "# Train Evaluator"
   ]
  },
  {
   "cell_type": "markdown",
   "id": "verbal-superintendent",
   "metadata": {},
   "source": [
    "### Prepare Dataset w/ Model Predictions"
   ]
  },
  {
   "cell_type": "code",
   "execution_count": 11,
   "id": "dynamic-bubble",
   "metadata": {},
   "outputs": [],
   "source": [
    "@tf.function\n",
    "def make_prediction_data(x, y):\n",
    "    with tf.device(\"gpu:2\"):\n",
    "        y_model = model(x)\n",
    "    \n",
    "    return (x, y_model)\n",
    "\n",
    "with tf.device(\"gpu:2\"):\n",
    "    ds_train_pred = ds_train.map(make_prediction_data)\n",
    "    ds_val_pred = ds_val.map(make_prediction_data)\n",
    "    ds_test_pred = ds_test.map(make_prediction_data)"
   ]
  },
  {
   "cell_type": "markdown",
   "id": "absent-wildlife",
   "metadata": {},
   "source": [
    "### Save Dir"
   ]
  },
  {
   "cell_type": "code",
   "execution_count": 12,
   "id": "rubber-pontiac",
   "metadata": {},
   "outputs": [],
   "source": [
    "save_dir = 'evaluator'\n",
    "model_dir = os.path.join(os.getcwd(), save_dir)\n",
    "if not os.path.isdir(model_dir):\n",
    "    os.makedirs(model_dir)"
   ]
  },
  {
   "cell_type": "markdown",
   "id": "egyptian-observation",
   "metadata": {},
   "source": [
    "### Initialize Model"
   ]
  },
  {
   "cell_type": "code",
   "execution_count": 13,
   "id": "loved-secret",
   "metadata": {},
   "outputs": [],
   "source": [
    "class Random_Bernoulli_Sampler(Layer):\n",
    "    '''\n",
    "    Layer to Sample r\n",
    "    '''\n",
    "    def __init__(self, num_features, **kwargs):\n",
    "        super(Random_Bernoulli_Sampler, self).__init__(**kwargs)\n",
    "        \n",
    "        self.num_features = num_features\n",
    "        \n",
    "        \n",
    "    def call(self,  logits):\n",
    "        batch_size = tf.shape(logits)[0]\n",
    "        \n",
    "        u = tf.random.uniform(shape=(batch_size, self.num_features),\n",
    "                                    minval=np.finfo(\n",
    "                                        tf.float32.as_numpy_dtype).tiny,\n",
    "                                    maxval=1.0) \n",
    "\n",
    "        r = K.cast(tf.stop_gradient(u > 0.5), tf.float32)\n",
    "        \n",
    "        return r"
   ]
  },
  {
   "cell_type": "code",
   "execution_count": 14,
   "id": "previous-attempt",
   "metadata": {},
   "outputs": [],
   "source": [
    "base_model = ResNet50(\n",
    "    include_top=False, weights='imagenet', \n",
    "    input_shape=INPUT_SHAPE, pooling='avg'\n",
    ")\n",
    "base_model.trainable = True\n",
    "\n",
    "model_input = Input(shape=INPUT_SHAPE, dtype='float32', name='input')\n",
    "R = Random_Bernoulli_Sampler(14*14)(model_input)\n",
    "R = ResizeMask(in_shape=INPUT_SHAPE, mask_size=14*14)(R)\n",
    "xr = Multiply()([model_input, R])\n",
    "\n",
    "net = base_model(xr)\n",
    "out = Dense(10, activation='softmax')(net)\n",
    "\n",
    "evaluator_model = Model(model_input, out)"
   ]
  },
  {
   "cell_type": "markdown",
   "id": "square-cedar",
   "metadata": {},
   "source": [
    "### Train Model"
   ]
  },
  {
   "cell_type": "code",
   "execution_count": 15,
   "id": "quality-drunk",
   "metadata": {},
   "outputs": [
    {
     "name": "stdout",
     "output_type": "stream",
     "text": [
      "Epoch 1/100\n",
      "1563/1563 [==============================] - ETA: 0s - loss: 1.1018 - auroc: 0.9307 - auprc: 0.6874 - accuracy: 0.6077\n",
      "Epoch 00001: val_loss improved from inf to 1.05396, saving model to /gpfs/data/paulab/nj594/fast_shap/experiments/images/cifar10/evaluation/evaluator/model_weights.h5\n",
      "1563/1563 [==============================] - 276s 177ms/step - loss: 1.1018 - auroc: 0.9307 - auprc: 0.6874 - accuracy: 0.6077 - val_loss: 1.0540 - val_auroc: 0.9372 - val_auprc: 0.7145 - val_accuracy: 0.6372\n",
      "Epoch 2/100\n",
      "1563/1563 [==============================] - ETA: 0s - loss: 0.7203 - auroc: 0.9694 - auprc: 0.8408 - accuracy: 0.7486\n",
      "Epoch 00002: val_loss improved from 1.05396 to 0.84839, saving model to /gpfs/data/paulab/nj594/fast_shap/experiments/images/cifar10/evaluation/evaluator/model_weights.h5\n",
      "1563/1563 [==============================] - 175s 112ms/step - loss: 0.7203 - auroc: 0.9694 - auprc: 0.8408 - accuracy: 0.7486 - val_loss: 0.8484 - val_auroc: 0.9586 - val_auprc: 0.7940 - val_accuracy: 0.7034\n",
      "Epoch 3/100\n",
      "1433/1563 [==========================>...] - ETA: 13s - loss: 0.5762 - auroc: 0.9801 - auprc: 0.8903 - accuracy: 0.7993"
     ]
    },
    {
     "name": "stderr",
     "output_type": "stream",
     "text": [
      "IOPub message rate exceeded.\n",
      "The notebook server will temporarily stop sending output\n",
      "to the client in order to avoid crashing it.\n",
      "To change this limit, set the config variable\n",
      "`--NotebookApp.iopub_msg_rate_limit`.\n",
      "\n",
      "Current values:\n",
      "NotebookApp.iopub_msg_rate_limit=1000.0 (msgs/sec)\n",
      "NotebookApp.rate_limit_window=3.0 (secs)\n",
      "\n"
     ]
    },
    {
     "name": "stdout",
     "output_type": "stream",
     "text": [
      "1563/1563 [==============================] - ETA: 0s - loss: 0.2023 - auroc: 0.9970 - auprc: 0.9810 - accuracy: 0.9276\n",
      "Epoch 00008: val_loss did not improve from 0.52764\n",
      "1563/1563 [==============================] - 173s 111ms/step - loss: 0.2023 - auroc: 0.9970 - auprc: 0.9810 - accuracy: 0.9276 - val_loss: 0.5880 - val_auroc: 0.9775 - val_auprc: 0.9029 - val_accuracy: 0.8238\n",
      "Epoch 9/100\n",
      "1563/1563 [==============================] - ETA: 0s - loss: 0.1612 - auroc: 0.9980 - auprc: 0.9874 - accuracy: 0.9431\n",
      "Epoch 00009: val_loss did not improve from 0.52764\n",
      "1563/1563 [==============================] - 174s 111ms/step - loss: 0.1612 - auroc: 0.9980 - auprc: 0.9874 - accuracy: 0.9431 - val_loss: 0.6555 - val_auroc: 0.9721 - val_auprc: 0.8899 - val_accuracy: 0.8158\n",
      "Epoch 10/100\n",
      " 613/1563 [==========>...................] - ETA: 1:39 - loss: 0.1511 - auroc: 0.9981 - auprc: 0.9886 - accuracy: 0.9458"
     ]
    },
    {
     "name": "stderr",
     "output_type": "stream",
     "text": [
      "IOPub message rate exceeded.\n",
      "The notebook server will temporarily stop sending output\n",
      "to the client in order to avoid crashing it.\n",
      "To change this limit, set the config variable\n",
      "`--NotebookApp.iopub_msg_rate_limit`.\n",
      "\n",
      "Current values:\n",
      "NotebookApp.iopub_msg_rate_limit=1000.0 (msgs/sec)\n",
      "NotebookApp.rate_limit_window=3.0 (secs)\n",
      "\n"
     ]
    },
    {
     "name": "stdout",
     "output_type": "stream",
     "text": [
      "1563/1563 [==============================] - ETA: 0s - loss: 0.0791 - auroc: 0.9992 - auprc: 0.9959 - accuracy: 0.9727\n",
      "Epoch 00014: val_loss did not improve from 0.52764\n",
      "1563/1563 [==============================] - 165s 105ms/step - loss: 0.0791 - auroc: 0.9992 - auprc: 0.9959 - accuracy: 0.9727 - val_loss: 0.6241 - val_auroc: 0.9737 - val_auprc: 0.9080 - val_accuracy: 0.8462\n",
      "Epoch 15/100\n",
      "1563/1563 [==============================] - ETA: 0s - loss: 0.0745 - auroc: 0.9993 - auprc: 0.9964 - accuracy: 0.9739\n",
      "Epoch 00015: val_loss did not improve from 0.52764\n",
      "1563/1563 [==============================] - 165s 105ms/step - loss: 0.0745 - auroc: 0.9993 - auprc: 0.9964 - accuracy: 0.9739 - val_loss: 0.5998 - val_auroc: 0.9759 - val_auprc: 0.9097 - val_accuracy: 0.8480\n",
      "Epoch 16/100\n",
      "1352/1563 [========================>.....] - ETA: 21s - loss: 0.0666 - auroc: 0.9994 - auprc: 0.9969 - accuracy: 0.9772"
     ]
    },
    {
     "name": "stderr",
     "output_type": "stream",
     "text": [
      "IOPub message rate exceeded.\n",
      "The notebook server will temporarily stop sending output\n",
      "to the client in order to avoid crashing it.\n",
      "To change this limit, set the config variable\n",
      "`--NotebookApp.iopub_msg_rate_limit`.\n",
      "\n",
      "Current values:\n",
      "NotebookApp.iopub_msg_rate_limit=1000.0 (msgs/sec)\n",
      "NotebookApp.rate_limit_window=3.0 (secs)\n",
      "\n"
     ]
    },
    {
     "name": "stdout",
     "output_type": "stream",
     "text": [
      "1563/1563 [==============================] - ETA: 0s - loss: 0.0482 - auroc: 0.9996 - auprc: 0.9982 - accuracy: 0.9834\n",
      "Epoch 00021: val_loss did not improve from 0.52764\n",
      "1563/1563 [==============================] - 165s 105ms/step - loss: 0.0482 - auroc: 0.9996 - auprc: 0.9982 - accuracy: 0.9834 - val_loss: 0.6689 - val_auroc: 0.9707 - val_auprc: 0.9016 - val_accuracy: 0.8446\n",
      "Epoch 22/100\n",
      "1563/1563 [==============================] - ETA: 0s - loss: 0.0446 - auroc: 0.9997 - auprc: 0.9985 - accuracy: 0.9843\n",
      "Epoch 00022: val_loss did not improve from 0.52764\n",
      "\n",
      "Epoch 00022: ReduceLROnPlateau reducing learning rate to 0.0008573750033974647.\n",
      "1563/1563 [==============================] - 165s 105ms/step - loss: 0.0446 - auroc: 0.9997 - auprc: 0.9985 - accuracy: 0.9843 - val_loss: 0.6696 - val_auroc: 0.9711 - val_auprc: 0.9035 - val_accuracy: 0.8490\n",
      "Epoch 23/100\n",
      "  16/1563 [..............................] - ETA: 2:28 - loss: 0.0552 - auroc: 0.9998 - auprc: 0.9984 - accuracy: 0.9746"
     ]
    },
    {
     "name": "stderr",
     "output_type": "stream",
     "text": [
      "IOPub message rate exceeded.\n",
      "The notebook server will temporarily stop sending output\n",
      "to the client in order to avoid crashing it.\n",
      "To change this limit, set the config variable\n",
      "`--NotebookApp.iopub_msg_rate_limit`.\n",
      "\n",
      "Current values:\n",
      "NotebookApp.iopub_msg_rate_limit=1000.0 (msgs/sec)\n",
      "NotebookApp.rate_limit_window=3.0 (secs)\n",
      "\n"
     ]
    },
    {
     "name": "stdout",
     "output_type": "stream",
     "text": [
      "1563/1563 [==============================] - ETA: 0s - loss: 0.0336 - auroc: 0.9998 - auprc: 0.9990 - accuracy: 0.9883\n",
      "Epoch 00027: val_loss did not improve from 0.52764\n",
      "\n",
      "Epoch 00027: ReduceLROnPlateau reducing learning rate to 0.0008145062311086804.\n",
      "1563/1563 [==============================] - 165s 105ms/step - loss: 0.0336 - auroc: 0.9998 - auprc: 0.9990 - accuracy: 0.9883 - val_loss: 0.7099 - val_auroc: 0.9693 - val_auprc: 0.9000 - val_accuracy: 0.8518\n",
      "/gpfs/data/paulab/nj594/fast_shap/experiments/images/cifar10/evaluation/evaluator/model_weights.h5\n"
     ]
    }
   ],
   "source": [
    "LR = 1e-3\n",
    "\n",
    "# Metrics\n",
    "METRICS = [ \n",
    "  tf.keras.metrics.AUC(name='auroc'),\n",
    "  tf.keras.metrics.AUC(curve='PR', name='auprc'),\n",
    "  tf.keras.metrics.TopKCategoricalAccuracy(k=1, name='accuracy'),\n",
    "]\n",
    "\n",
    "# Model Checkpointing\n",
    "model_weights_path = os.path.join(model_dir, 'model_weights.h5')\n",
    "checkpoint = ModelCheckpoint(model_weights_path, monitor='val_loss', verbose=1, \n",
    "                             save_best_only=True, mode='min', save_weights_only=True)\n",
    "\n",
    "# LR Schedule\n",
    "reduceLR = ReduceLROnPlateau(monitor='val_loss', factor=0.95, patience=5, \n",
    "                             verbose=1, mode='min', cooldown=1, min_lr=1e-3/10)\n",
    "\n",
    "# Early Stopping \n",
    "earlyStop = EarlyStopping(monitor=\"val_loss\", mode=\"min\", patience=20) \n",
    "\n",
    "# Compile Model\n",
    "CALLBACKS = [checkpoint, earlyStop, reduceLR]\n",
    "OPTIMIZER = tf.keras.optimizers.Adam(LR)\n",
    "\n",
    "evaluator_model.compile(\n",
    "    loss='categorical_crossentropy',\n",
    "    optimizer=OPTIMIZER,\n",
    "    metrics=METRICS,\n",
    ")\n",
    "\n",
    "# Train Model\n",
    "evaluator_model.fit(ds_train,\n",
    "          epochs = 100,\n",
    "          validation_data = ds_val,\n",
    "          callbacks = CALLBACKS)\n",
    "\n",
    "# Get Checkpointed Model\n",
    "print(model_weights_path)\n",
    "evaluator_model.load_weights(model_weights_path)\n",
    "evaluator_model = Sequential(   \n",
    "            [l for l in evaluator_model.layers[-2:]]\n",
    "        )\n",
    "evaluator_model.trainable = False"
   ]
  },
  {
   "cell_type": "code",
   "execution_count": 18,
   "id": "critical-bubble",
   "metadata": {},
   "outputs": [
    {
     "name": "stdout",
     "output_type": "stream",
     "text": [
      "157/157 [==============================] - 5s 33ms/step - loss: 0.4717 - auroc: 0.9782 - auprc: 0.9174 - accuracy: 0.8558\n"
     ]
    },
    {
     "data": {
      "text/plain": [
       "[0.47172021865844727,\n",
       " 0.9782240986824036,\n",
       " 0.9173834323883057,\n",
       " 0.8557999730110168]"
      ]
     },
     "execution_count": 18,
     "metadata": {},
     "output_type": "execute_result"
    }
   ],
   "source": [
    "# Evaluate\n",
    "evaluator_model.compile(\n",
    "    loss='categorical_crossentropy',\n",
    "    optimizer=OPTIMIZER,\n",
    "    metrics=METRICS,\n",
    ")\n",
    "evaluator_model.evaluate(ds_test)"
   ]
  },
  {
   "cell_type": "code",
   "execution_count": 19,
   "id": "discrete-laundry",
   "metadata": {},
   "outputs": [
    {
     "name": "stdout",
     "output_type": "stream",
     "text": [
      "Model: \"sequential\"\n",
      "_________________________________________________________________\n",
      "Layer (type)                 Output Shape              Param #   \n",
      "=================================================================\n",
      "resnet50 (Functional)        (None, 2048)              23587712  \n",
      "_________________________________________________________________\n",
      "dense_1 (Dense)              (None, 10)                20490     \n",
      "=================================================================\n",
      "Total params: 23,608,202\n",
      "Trainable params: 0\n",
      "Non-trainable params: 23,608,202\n",
      "_________________________________________________________________\n"
     ]
    }
   ],
   "source": [
    "evaluator_model.summary()"
   ]
  },
  {
   "cell_type": "code",
   "execution_count": null,
   "id": "complete-organic",
   "metadata": {},
   "outputs": [],
   "source": []
  }
 ],
 "metadata": {
  "kernelspec": {
   "display_name": "Python 3",
   "language": "python",
   "name": "python3"
  },
  "language_info": {
   "codemirror_mode": {
    "name": "ipython",
    "version": 3
   },
   "file_extension": ".py",
   "mimetype": "text/x-python",
   "name": "python",
   "nbconvert_exporter": "python",
   "pygments_lexer": "ipython3",
   "version": "3.7.9"
  }
 },
 "nbformat": 4,
 "nbformat_minor": 5
}
