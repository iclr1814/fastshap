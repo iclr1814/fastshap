{
 "cells": [
  {
   "cell_type": "code",
   "execution_count": 8,
   "id": "planned-niagara",
   "metadata": {},
   "outputs": [],
   "source": [
    "import numpy as np\n",
    "import sys\n",
    "\n",
    "import tensorflow as tf\n",
    "from tensorflow.keras.layers import (Input, Layer, Dense, Lambda, \n",
    "                                     Dropout, Multiply, BatchNormalization, \n",
    "                                     Reshape, Concatenate, Conv2D, Permute)\n",
    "from tensorflow.keras.models import Model, Sequential\n",
    "from tensorflow.keras import regularizers\n",
    "from tensorflow.keras import backend as K\n",
    "from tensorflow.keras.callbacks import ModelCheckpoint, EarlyStopping, ReduceLROnPlateau\n",
    "from tensorflow.keras.layers.experimental.preprocessing import Resizing\n",
    "\n",
    "from tensorflow.keras.datasets import cifar10\n",
    "\n",
    "from datetime import datetime\n",
    "import os\n",
    "\n",
    "#Select GPU\n",
    "os.environ['CUDA_VISIBLE_DEVICES'] = '0'"
   ]
  },
  {
   "cell_type": "code",
   "execution_count": 2,
   "id": "wired-survival",
   "metadata": {},
   "outputs": [],
   "source": [
    "# IMPORTANT: SET RANDOM SEEDS FOR REPRODUCIBILITY\n",
    "os.environ['PYTHONHASHSEED'] = str(420)\n",
    "import random\n",
    "random.seed(420)\n",
    "np.random.seed(420)\n",
    "tf.random.set_seed(420)"
   ]
  },
  {
   "cell_type": "markdown",
   "id": "danish-stereo",
   "metadata": {},
   "source": [
    "# Train Model to Be Explained"
   ]
  },
  {
   "cell_type": "markdown",
   "id": "radical-wisconsin",
   "metadata": {
    "ExecuteTime": {
     "end_time": "2021-03-16T18:52:03.110664Z",
     "start_time": "2021-03-16T18:52:03.106719Z"
    }
   },
   "source": [
    "### Parameters"
   ]
  },
  {
   "cell_type": "code",
   "execution_count": 3,
   "id": "crude-ready",
   "metadata": {
    "ExecuteTime": {
     "end_time": "2021-03-16T19:34:35.186987Z",
     "start_time": "2021-03-16T19:34:35.180960Z"
    }
   },
   "outputs": [],
   "source": [
    "BATCH_SIZE = 32\n",
    "EPOCHS = 100\n",
    "LR = 1e-3\n",
    "INPUT_SHAPE = (224, 224, 3)"
   ]
  },
  {
   "cell_type": "markdown",
   "id": "unavailable-adobe",
   "metadata": {},
   "source": [
    "### Load Data"
   ]
  },
  {
   "cell_type": "code",
   "execution_count": 25,
   "id": "intelligent-guinea",
   "metadata": {
    "ExecuteTime": {
     "end_time": "2021-03-16T19:34:36.732265Z",
     "start_time": "2021-03-16T19:34:36.267950Z"
    },
    "scrolled": false
   },
   "outputs": [
    {
     "name": "stdout",
     "output_type": "stream",
     "text": [
      "50000 train samples\n",
      "5000 val samples\n",
      "5000 test samples\n"
     ]
    }
   ],
   "source": [
    "from sklearn.model_selection import train_test_split\n",
    "\n",
    "num_classes = 10\n",
    "\n",
    "# the data, split between train and test sets\n",
    "(x_train, y_train), (x_test, y_test) = cifar10.load_data()\n",
    "x_test, x_val, y_test, y_val = train_test_split(x_test, y_test, train_size=0.5, random_state=420)\n",
    "\n",
    "x_train = x_train.astype('float32')\n",
    "x_val = x_val.astype('float32')\n",
    "x_test = x_test.astype('float32')\n",
    "#Resize to 224x224\n",
    "\n",
    "print(x_train.shape[0], 'train samples')\n",
    "print(x_val.shape[0], 'val samples')\n",
    "print(x_test.shape[0], 'test samples')\n",
    "\n",
    "# convert class vectors to binary class matrices\n",
    "y_train = tf.keras.utils.to_categorical(y_train, num_classes)\n",
    "y_val = tf.keras.utils.to_categorical(y_val, num_classes)\n",
    "y_test = tf.keras.utils.to_categorical(y_test, num_classes)\n",
    "\n",
    "# Make TF Dataset\n",
    "ds_train = tf.data.Dataset.from_tensor_slices((x_train, y_train))\n",
    "ds_val = tf.data.Dataset.from_tensor_slices((x_val, y_val))\n",
    "ds_test = tf.data.Dataset.from_tensor_slices((x_test, y_test))"
   ]
  },
  {
   "cell_type": "markdown",
   "id": "young-antibody",
   "metadata": {},
   "source": [
    "### Batch Data"
   ]
  },
  {
   "cell_type": "code",
   "execution_count": 26,
   "id": "mathematical-cartridge",
   "metadata": {
    "ExecuteTime": {
     "end_time": "2021-03-16T19:34:38.036975Z",
     "start_time": "2021-03-16T19:34:38.030145Z"
    }
   },
   "outputs": [],
   "source": [
    "def batch_data(dataset, fn, batch_size=32):\n",
    "    dataset = dataset.map(fn)\n",
    "    dataset = dataset.batch(batch_size)\n",
    "    dataset = dataset.prefetch(tf.data.experimental.AUTOTUNE)\n",
    "    \n",
    "    return dataset"
   ]
  },
  {
   "cell_type": "markdown",
   "id": "electrical-nature",
   "metadata": {},
   "source": [
    "### Reformat Data"
   ]
  },
  {
   "cell_type": "code",
   "execution_count": 27,
   "id": "hungry-master",
   "metadata": {
    "ExecuteTime": {
     "end_time": "2021-03-16T19:34:39.459330Z",
     "start_time": "2021-03-16T19:34:39.356585Z"
    }
   },
   "outputs": [],
   "source": [
    "def reformat(x, y):\n",
    "    \n",
    "    x = tf.cast(x, tf.float32)\n",
    "    x = Resizing(INPUT_SHAPE[0], INPUT_SHAPE[1], interpolation='nearest')(x)\n",
    "    x = tf.keras.applications.resnet50.preprocess_input(x)\n",
    "    \n",
    "    return (x, y)\n",
    "\n",
    "ds_train = batch_data(ds_train, reformat, BATCH_SIZE)\n",
    "ds_val = batch_data(ds_val, reformat, BATCH_SIZE)\n",
    "ds_test = batch_data(ds_test, reformat, BATCH_SIZE)"
   ]
  },
  {
   "cell_type": "markdown",
   "id": "seven-distance",
   "metadata": {},
   "source": [
    "### Model"
   ]
  },
  {
   "cell_type": "code",
   "execution_count": 29,
   "id": "beneficial-attachment",
   "metadata": {
    "ExecuteTime": {
     "end_time": "2021-03-16T19:34:55.664420Z",
     "start_time": "2021-03-16T19:34:51.327748Z"
    }
   },
   "outputs": [
    {
     "name": "stdout",
     "output_type": "stream",
     "text": [
      "Epoch 1/100\n",
      "1563/1563 [==============================] - ETA: 0s - loss: 0.7552 - auroc: 0.9664 - auprc: 0.8329 - accuracy: 0.7432\n",
      "Epoch 00001: val_loss improved from inf to 0.88190, saving model to /gpfs/data/paulab/nj594/fast_shap/experiments/images/cifar10/model/20210514_14_39_21/model_weights.h5\n",
      "1563/1563 [==============================] - 173s 111ms/step - loss: 0.7552 - auroc: 0.9664 - auprc: 0.8329 - accuracy: 0.7432 - val_loss: 0.8819 - val_auroc: 0.9553 - val_auprc: 0.8019 - val_accuracy: 0.7072\n",
      "Epoch 2/100\n",
      "1563/1563 [==============================] - ETA: 0s - loss: 0.4232 - auroc: 0.9886 - auprc: 0.9349 - accuracy: 0.8552\n",
      "Epoch 00002: val_loss improved from 0.88190 to 0.61423, saving model to /gpfs/data/paulab/nj594/fast_shap/experiments/images/cifar10/model/20210514_14_39_21/model_weights.h5\n",
      "1563/1563 [==============================] - 171s 110ms/step - loss: 0.4232 - auroc: 0.9886 - auprc: 0.9349 - accuracy: 0.8552 - val_loss: 0.6142 - val_auroc: 0.9758 - val_auprc: 0.8809 - val_accuracy: 0.7908\n",
      "Epoch 3/100\n",
      "1563/1563 [==============================] - ETA: 0s - loss: 0.2882 - auroc: 0.9941 - auprc: 0.9657 - accuracy: 0.9001\n",
      "Epoch 00003: val_loss improved from 0.61423 to 0.55199, saving model to /gpfs/data/paulab/nj594/fast_shap/experiments/images/cifar10/model/20210514_14_39_21/model_weights.h5\n",
      "1563/1563 [==============================] - 169s 108ms/step - loss: 0.2882 - auroc: 0.9941 - auprc: 0.9657 - accuracy: 0.9001 - val_loss: 0.5520 - val_auroc: 0.9798 - val_auprc: 0.9017 - val_accuracy: 0.8248\n",
      "Epoch 4/100\n",
      "1563/1563 [==============================] - ETA: 0s - loss: 0.2060 - auroc: 0.9968 - auprc: 0.9805 - accuracy: 0.9277\n",
      "Epoch 00004: val_loss did not improve from 0.55199\n",
      "1563/1563 [==============================] - 164s 105ms/step - loss: 0.2060 - auroc: 0.9968 - auprc: 0.9805 - accuracy: 0.9277 - val_loss: 0.6066 - val_auroc: 0.9757 - val_auprc: 0.9000 - val_accuracy: 0.8246\n",
      "Epoch 5/100\n",
      "1563/1563 [==============================] - ETA: 0s - loss: 0.1447 - auroc: 0.9981 - auprc: 0.9891 - accuracy: 0.9494\n",
      "Epoch 00005: val_loss improved from 0.55199 to 0.53182, saving model to /gpfs/data/paulab/nj594/fast_shap/experiments/images/cifar10/model/20210514_14_39_21/model_weights.h5\n",
      "1563/1563 [==============================] - 164s 105ms/step - loss: 0.1447 - auroc: 0.9981 - auprc: 0.9891 - accuracy: 0.9494 - val_loss: 0.5318 - val_auroc: 0.9793 - val_auprc: 0.9207 - val_accuracy: 0.8500\n",
      "Epoch 6/100\n",
      "1563/1563 [==============================] - ETA: 0s - loss: 0.1113 - auroc: 0.9988 - auprc: 0.9930 - accuracy: 0.9615\n",
      "Epoch 00006: val_loss did not improve from 0.53182\n",
      "1563/1563 [==============================] - 166s 106ms/step - loss: 0.1113 - auroc: 0.9988 - auprc: 0.9930 - accuracy: 0.9615 - val_loss: 0.5705 - val_auroc: 0.9789 - val_auprc: 0.9152 - val_accuracy: 0.8442\n",
      "Epoch 7/100\n",
      "1563/1563 [==============================] - ETA: 0s - loss: 0.0848 - auroc: 0.9993 - auprc: 0.9958 - accuracy: 0.9697\n",
      "Epoch 00007: val_loss did not improve from 0.53182\n",
      "1563/1563 [==============================] - 169s 108ms/step - loss: 0.0848 - auroc: 0.9993 - auprc: 0.9958 - accuracy: 0.9697 - val_loss: 0.6667 - val_auroc: 0.9711 - val_auprc: 0.9027 - val_accuracy: 0.8450\n",
      "Epoch 8/100\n",
      "1563/1563 [==============================] - ETA: 0s - loss: 0.0720 - auroc: 0.9993 - auprc: 0.9965 - accuracy: 0.9743\n",
      "Epoch 00008: val_loss improved from 0.53182 to 0.48942, saving model to /gpfs/data/paulab/nj594/fast_shap/experiments/images/cifar10/model/20210514_14_39_21/model_weights.h5\n",
      "1563/1563 [==============================] - 164s 105ms/step - loss: 0.0720 - auroc: 0.9993 - auprc: 0.9965 - accuracy: 0.9743 - val_loss: 0.4894 - val_auroc: 0.9807 - val_auprc: 0.9312 - val_accuracy: 0.8736\n",
      "Epoch 9/100\n",
      "1563/1563 [==============================] - ETA: 0s - loss: 0.0625 - auroc: 0.9993 - auprc: 0.9969 - accuracy: 0.9791\n",
      "Epoch 00009: val_loss did not improve from 0.48942\n",
      "1563/1563 [==============================] - 164s 105ms/step - loss: 0.0625 - auroc: 0.9993 - auprc: 0.9969 - accuracy: 0.9791 - val_loss: 0.6663 - val_auroc: 0.9712 - val_auprc: 0.9035 - val_accuracy: 0.8522\n",
      "Epoch 10/100\n",
      "1563/1563 [==============================] - ETA: 0s - loss: 0.0571 - auroc: 0.9994 - auprc: 0.9974 - accuracy: 0.9805\n",
      "Epoch 00010: val_loss did not improve from 0.48942\n",
      "1563/1563 [==============================] - 164s 105ms/step - loss: 0.0571 - auroc: 0.9994 - auprc: 0.9974 - accuracy: 0.9805 - val_loss: 0.5979 - val_auroc: 0.9741 - val_auprc: 0.9181 - val_accuracy: 0.8678\n",
      "Epoch 11/100\n",
      "1563/1563 [==============================] - ETA: 0s - loss: 0.0499 - auroc: 0.9996 - auprc: 0.9980 - accuracy: 0.9829\n",
      "Epoch 00011: val_loss did not improve from 0.48942\n",
      "\n",
      "Epoch 00011: ReduceLROnPlateau reducing learning rate to 0.0009500000451225787.\n",
      "1563/1563 [==============================] - 164s 105ms/step - loss: 0.0499 - auroc: 0.9996 - auprc: 0.9980 - accuracy: 0.9829 - val_loss: 0.5802 - val_auroc: 0.9765 - val_auprc: 0.9222 - val_accuracy: 0.8664\n",
      "Epoch 12/100\n",
      "1563/1563 [==============================] - ETA: 0s - loss: 0.0405 - auroc: 0.9995 - auprc: 0.9981 - accuracy: 0.9865\n",
      "Epoch 00012: val_loss improved from 0.48942 to 0.47743, saving model to /gpfs/data/paulab/nj594/fast_shap/experiments/images/cifar10/model/20210514_14_39_21/model_weights.h5\n",
      "1563/1563 [==============================] - 164s 105ms/step - loss: 0.0405 - auroc: 0.9995 - auprc: 0.9981 - accuracy: 0.9865 - val_loss: 0.4774 - val_auroc: 0.9812 - val_auprc: 0.9365 - val_accuracy: 0.8870\n",
      "Epoch 13/100\n",
      "1563/1563 [==============================] - ETA: 0s - loss: 0.0311 - auroc: 0.9997 - auprc: 0.9989 - accuracy: 0.9893\n",
      "Epoch 00013: val_loss did not improve from 0.47743\n",
      "1563/1563 [==============================] - 164s 105ms/step - loss: 0.0311 - auroc: 0.9997 - auprc: 0.9989 - accuracy: 0.9893 - val_loss: 0.5279 - val_auroc: 0.9789 - val_auprc: 0.9320 - val_accuracy: 0.8846\n",
      "Epoch 14/100\n",
      "1563/1563 [==============================] - ETA: 0s - loss: 0.0385 - auroc: 0.9997 - auprc: 0.9985 - accuracy: 0.9872\n",
      "Epoch 00014: val_loss did not improve from 0.47743\n",
      "1563/1563 [==============================] - 164s 105ms/step - loss: 0.0385 - auroc: 0.9997 - auprc: 0.9985 - accuracy: 0.9872 - val_loss: 0.5534 - val_auroc: 0.9764 - val_auprc: 0.9253 - val_accuracy: 0.8806\n",
      "Epoch 15/100\n",
      "1563/1563 [==============================] - ETA: 0s - loss: 0.0338 - auroc: 0.9997 - auprc: 0.9987 - accuracy: 0.9886\n",
      "Epoch 00015: val_loss did not improve from 0.47743\n",
      "\n",
      "Epoch 00015: ReduceLROnPlateau reducing learning rate to 0.0009025000152178108.\n",
      "1563/1563 [==============================] - 164s 105ms/step - loss: 0.0338 - auroc: 0.9997 - auprc: 0.9987 - accuracy: 0.9886 - val_loss: 0.6494 - val_auroc: 0.9726 - val_auprc: 0.9088 - val_accuracy: 0.8588\n",
      "Epoch 16/100\n",
      "1563/1563 [==============================] - ETA: 0s - loss: 0.0248 - auroc: 0.9997 - auprc: 0.9991 - accuracy: 0.9920\n",
      "Epoch 00016: val_loss did not improve from 0.47743\n",
      "1563/1563 [==============================] - 164s 105ms/step - loss: 0.0248 - auroc: 0.9997 - auprc: 0.9991 - accuracy: 0.9920 - val_loss: 0.4985 - val_auroc: 0.9799 - val_auprc: 0.9339 - val_accuracy: 0.8966\n",
      "Epoch 17/100\n",
      "1563/1563 [==============================] - ETA: 0s - loss: 0.0234 - auroc: 0.9998 - auprc: 0.9992 - accuracy: 0.9922\n",
      "Epoch 00017: val_loss did not improve from 0.47743\n",
      "1563/1563 [==============================] - 164s 105ms/step - loss: 0.0234 - auroc: 0.9998 - auprc: 0.9992 - accuracy: 0.9922 - val_loss: 0.5396 - val_auroc: 0.9784 - val_auprc: 0.9306 - val_accuracy: 0.8818\n",
      "Epoch 18/100\n",
      "1563/1563 [==============================] - ETA: 0s - loss: 0.0243 - auroc: 0.9997 - auprc: 0.9988 - accuracy: 0.9923\n",
      "Epoch 00018: val_loss did not improve from 0.47743\n",
      "\n",
      "Epoch 00018: ReduceLROnPlateau reducing learning rate to 0.0008573750033974647.\n",
      "1563/1563 [==============================] - 164s 105ms/step - loss: 0.0243 - auroc: 0.9997 - auprc: 0.9988 - accuracy: 0.9923 - val_loss: 0.7569 - val_auroc: 0.9672 - val_auprc: 0.8958 - val_accuracy: 0.8518\n",
      "Epoch 19/100\n",
      "1563/1563 [==============================] - ETA: 0s - loss: 0.0239 - auroc: 0.9997 - auprc: 0.9989 - accuracy: 0.9921\n",
      "Epoch 00019: val_loss did not improve from 0.47743\n",
      "1563/1563 [==============================] - 164s 105ms/step - loss: 0.0239 - auroc: 0.9997 - auprc: 0.9989 - accuracy: 0.9921 - val_loss: 0.6067 - val_auroc: 0.9744 - val_auprc: 0.9197 - val_accuracy: 0.8764\n"
     ]
    },
    {
     "name": "stdout",
     "output_type": "stream",
     "text": [
      "Epoch 20/100\n",
      "1563/1563 [==============================] - ETA: 0s - loss: 0.0164 - auroc: 0.9998 - auprc: 0.9993 - accuracy: 0.9948\n",
      "Epoch 00020: val_loss did not improve from 0.47743\n",
      "1563/1563 [==============================] - 164s 105ms/step - loss: 0.0164 - auroc: 0.9998 - auprc: 0.9993 - accuracy: 0.9948 - val_loss: 0.6253 - val_auroc: 0.9736 - val_auprc: 0.9189 - val_accuracy: 0.8724\n",
      "Epoch 21/100\n",
      "1563/1563 [==============================] - ETA: 0s - loss: 0.0190 - auroc: 0.9999 - auprc: 0.9995 - accuracy: 0.9933\n",
      "Epoch 00021: val_loss did not improve from 0.47743\n",
      "\n",
      "Epoch 00021: ReduceLROnPlateau reducing learning rate to 0.0008145062311086804.\n",
      "1563/1563 [==============================] - 164s 105ms/step - loss: 0.0190 - auroc: 0.9999 - auprc: 0.9995 - accuracy: 0.9933 - val_loss: 0.6210 - val_auroc: 0.9745 - val_auprc: 0.9212 - val_accuracy: 0.8794\n",
      "Epoch 22/100\n",
      "1563/1563 [==============================] - ETA: 0s - loss: 0.0172 - auroc: 0.9998 - auprc: 0.9993 - accuracy: 0.9946\n",
      "Epoch 00022: val_loss did not improve from 0.47743\n",
      "1563/1563 [==============================] - 164s 105ms/step - loss: 0.0172 - auroc: 0.9998 - auprc: 0.9993 - accuracy: 0.9946 - val_loss: 0.5580 - val_auroc: 0.9769 - val_auprc: 0.9286 - val_accuracy: 0.8984\n",
      "/gpfs/data/paulab/nj594/fast_shap/experiments/images/cifar10/model/20210514_14_39_21/model_weights.h5\n",
      "157/157 [==============================] - 5s 31ms/step - loss: 0.5486 - auroc: 0.9773 - auprc: 0.9264 - accuracy: 0.8786\n"
     ]
    },
    {
     "data": {
      "text/plain": [
       "[0.5485545992851257, 0.9772732853889465, 0.9263914823532104, 0.878600001335144]"
      ]
     },
     "execution_count": 29,
     "metadata": {},
     "output_type": "execute_result"
    }
   ],
   "source": [
    "from tensorflow.keras.applications.resnet50 import ResNet50\n",
    "\n",
    "base_model = ResNet50(\n",
    "    include_top=False, weights='imagenet', \n",
    "    input_shape=INPUT_SHAPE, pooling='avg'\n",
    ")\n",
    "base_model.trainable = True\n",
    "\n",
    "model_input = Input(shape=INPUT_SHAPE, name='input')\n",
    "\n",
    "net = base_model(model_input)\n",
    "out = Dense(10, activation='softmax')(net)\n",
    "\n",
    "model = Model(model_input, out)\n",
    "\n",
    "# Metrics\n",
    "METRICS = [ \n",
    "  tf.keras.metrics.AUC(name='auroc'),\n",
    "  tf.keras.metrics.AUC(curve='PR', name='auprc'),\n",
    "  tf.keras.metrics.TopKCategoricalAccuracy(k=1, name='accuracy'),\n",
    "]\n",
    "\n",
    "# Model Checkpointing\n",
    "time = datetime.now().strftime(\"%Y%m%d_%H_%M_%S\")\n",
    "save_dir = 'model'\n",
    "model_dir = os.path.join(os.getcwd(), save_dir, time)\n",
    "if not os.path.isdir(model_dir):\n",
    "    os.makedirs(model_dir)\n",
    "model_weights_path = os.path.join(model_dir, 'model_weights.h5')\n",
    "checkpoint = ModelCheckpoint(model_weights_path, monitor='val_loss', verbose=1, \n",
    "                             save_best_only=True, mode='min', save_weights_only=True)\n",
    "\n",
    "# LR Schedule\n",
    "reduceLR = ReduceLROnPlateau(monitor='val_loss', factor=0.95, patience=3, \n",
    "                             verbose=1, mode='min', cooldown=1, min_lr=1e-4)\n",
    "\n",
    "# Early Stopping \n",
    "earlyStop = EarlyStopping(monitor=\"val_loss\", mode=\"min\", patience=10) \n",
    "\n",
    "# Compile Model\n",
    "CALLBACKS = [checkpoint, earlyStop, reduceLR]\n",
    "OPTIMIZER = tf.keras.optimizers.Adam(LR)\n",
    "\n",
    "model.compile(\n",
    "    loss='categorical_crossentropy',\n",
    "    optimizer=OPTIMIZER,\n",
    "    metrics=METRICS,\n",
    ")\n",
    "\n",
    "# Train Model\n",
    "model.fit(ds_train,\n",
    "          epochs = EPOCHS,\n",
    "          validation_data = ds_val,\n",
    "          callbacks = CALLBACKS)\n",
    "\n",
    "# Get Checkpointed Model\n",
    "print(model_weights_path)\n",
    "model.load_weights(model_weights_path)\n",
    "model.trainable = False\n",
    "\n",
    "# Evaluate\n",
    "model.evaluate(ds_test)"
   ]
  },
  {
   "cell_type": "markdown",
   "id": "august-shift",
   "metadata": {},
   "source": [
    "# Save Images"
   ]
  },
  {
   "cell_type": "code",
   "execution_count": 30,
   "id": "early-commons",
   "metadata": {},
   "outputs": [],
   "source": [
    "#Get Directory \n",
    "save_dir = 'images'\n",
    "images_dir = os.path.join(os.getcwd(), save_dir)\n",
    "if not os.path.isdir(images_dir):\n",
    "    os.makedirs(images_dir)\n",
    "    \n",
    "#unbatch\n",
    "ds_test = ds_test.unbatch()\n",
    "    \n",
    "# Load 1,000 Images\n",
    "processed_imgs = []\n",
    "labels = []\n",
    "for i, (x, y) in enumerate(ds_test):\n",
    "    processed_imgs.append(x.numpy())\n",
    "    labels.append(y.numpy())\n",
    "    if i >= 999:\n",
    "        break\n",
    "        \n",
    "# imgs = np.array(imgs)\n",
    "processed_imgs = np.array(processed_imgs)\n",
    "labels = np.array(labels)\n",
    "\n",
    "# imgs.dump(os.path.join(images_dir, 'images.npy'))\n",
    "processed_imgs.dump(os.path.join(images_dir, 'processed_images.npy'))\n",
    "labels.dump(os.path.join(images_dir, 'labels.npy'))\n",
    "\n",
    "#predictions\n",
    "predictions = model.predict(processed_imgs)\n",
    "predictions.dump(os.path.join(images_dir, 'predictions.npy'))"
   ]
  }
 ],
 "metadata": {
  "kernelspec": {
   "display_name": "Python 3",
   "language": "python",
   "name": "python3"
  },
  "language_info": {
   "codemirror_mode": {
    "name": "ipython",
    "version": 3
   },
   "file_extension": ".py",
   "mimetype": "text/x-python",
   "name": "python",
   "nbconvert_exporter": "python",
   "pygments_lexer": "ipython3",
   "version": "3.7.9"
  }
 },
 "nbformat": 4,
 "nbformat_minor": 5
}
