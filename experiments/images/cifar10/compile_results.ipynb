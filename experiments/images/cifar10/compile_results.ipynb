{
 "cells": [
  {
   "cell_type": "code",
   "execution_count": 3,
   "id": "variable-costs",
   "metadata": {},
   "outputs": [],
   "source": [
    "import pickle\n",
    "import numpy as np\n",
    "import os\n",
    "from tqdm.notebook import tqdm"
   ]
  },
  {
   "cell_type": "code",
   "execution_count": 4,
   "id": "irish-athens",
   "metadata": {},
   "outputs": [
    {
     "data": {
      "application/vnd.jupyter.widget-view+json": {
       "model_id": "1f5108a4c0bd405394f0aa0118b093da",
       "version_major": 2,
       "version_minor": 0
      },
      "text/plain": [
       "  0%|          | 0/1000 [00:00<?, ?it/s]"
      ]
     },
     "metadata": {},
     "output_type": "display_data"
    },
    {
     "data": {
      "application/vnd.jupyter.widget-view+json": {
       "model_id": "b3174ae9ff974a7493584dd6071ad7f1",
       "version_major": 2,
       "version_minor": 0
      },
      "text/plain": [
       "  0%|          | 0/1000 [00:00<?, ?it/s]"
      ]
     },
     "metadata": {},
     "output_type": "display_data"
    }
   ],
   "source": [
    "for method in ['kernelshap','kernelshap_plus']:\n",
    "    shap_values = []\n",
    "    explaining_times = []\n",
    "    for i in tqdm(range(1000)):\n",
    "        run_dir = os.path.join(method, str(i))\n",
    "        \n",
    "        try:\n",
    "            with open(os.path.join(run_dir, 'shap_values.pkl'), 'rb') as f:\n",
    "                shap_value = pickle.load(f)\n",
    "\n",
    "            with open(os.path.join(run_dir, 'explaining_time.pkl'), 'rb') as f:\n",
    "                explaining_time = pickle.load(f)\n",
    "\n",
    "            shap_values.append(np.array(shap_value, dtype=\"float32\").squeeze())\n",
    "            explaining_times.append(explaining_time)\n",
    "        \n",
    "        except:\n",
    "            print('missing:', i)\n",
    "        \n",
    "    shap_values = [np.stack(shap_values, 0)[:,i,:,:] for i in range(10)]\n",
    "    explaining_total_time = np.array(explaining_times).sum()/3600\n",
    "    \n",
    "    # Save\n",
    "    results_dir = os.path.join(method, 'results')\n",
    "    if not os.path.isdir(results_dir):\n",
    "        os.mkdir(results_dir)\n",
    "    \n",
    "    with open(os.path.join(results_dir, 'shap_values.pkl'), 'wb') as f:\n",
    "        pickle.dump(shap_values, f)\n",
    "        \n",
    "    with open(os.path.join(results_dir, 'explaining_time.pkl'), 'wb') as f:\n",
    "        pickle.dump(explaining_total_time, f)"
   ]
  },
  {
   "cell_type": "code",
   "execution_count": null,
   "id": "reliable-wichita",
   "metadata": {},
   "outputs": [],
   "source": []
  }
 ],
 "metadata": {
  "kernelspec": {
   "display_name": "Python 3",
   "language": "python",
   "name": "python3"
  },
  "language_info": {
   "codemirror_mode": {
    "name": "ipython",
    "version": 3
   },
   "file_extension": ".py",
   "mimetype": "text/x-python",
   "name": "python",
   "nbconvert_exporter": "python",
   "pygments_lexer": "ipython3",
   "version": "3.7.9"
  }
 },
 "nbformat": 4,
 "nbformat_minor": 5
}
