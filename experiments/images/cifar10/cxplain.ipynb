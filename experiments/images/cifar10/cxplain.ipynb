{
 "cells": [
  {
   "cell_type": "code",
   "execution_count": 1,
   "id": "ahead-endorsement",
   "metadata": {},
   "outputs": [
    {
     "ename": "RuntimeError",
     "evalue": "module compiled against API version 0xe but this version of numpy is 0xd",
     "output_type": "error",
     "traceback": [
      "\u001b[0;31m---------------------------------------------------------------------------\u001b[0m",
      "\u001b[0;31mRuntimeError\u001b[0m                              Traceback (most recent call last)",
      "\u001b[0;31mRuntimeError\u001b[0m: module compiled against API version 0xe but this version of numpy is 0xd"
     ]
    }
   ],
   "source": [
    "import sys\n",
    "sys.path.insert(0, '../../../fastshap_tf/')\n",
    "from surrogate import ImageSurrogate"
   ]
  },
  {
   "cell_type": "code",
   "execution_count": 2,
   "id": "comparable-nigeria",
   "metadata": {},
   "outputs": [],
   "source": [
    "import pickle\n",
    "import numpy as np\n",
    "import shap\n",
    "from tqdm.notebook import tqdm\n",
    "import time"
   ]
  },
  {
   "cell_type": "code",
   "execution_count": 3,
   "id": "bacterial-citizenship",
   "metadata": {},
   "outputs": [
    {
     "name": "stdout",
     "output_type": "stream",
     "text": [
      "WARNING:tensorflow:From /gpfs/data/paulab/miniconda3/envs/tf23/lib/python3.7/site-packages/tensorflow/python/compat/v2_compat.py:96: disable_resource_variables (from tensorflow.python.ops.variable_scope) is deprecated and will be removed in a future version.\n",
      "Instructions for updating:\n",
      "non-resource variables are not supported in the long term\n"
     ]
    }
   ],
   "source": [
    "import tensorflow as tf\n",
    "tf.compat.v1.disable_v2_behavior()\n",
    "from tensorflow.keras.layers import (Input, Layer, Dense, Lambda, \n",
    "                                     Dropout, Multiply, BatchNormalization, \n",
    "                                     Reshape, Concatenate, Conv2D, Permute)\n",
    "from tensorflow.keras.models import Model, Sequential\n",
    "from tensorflow.keras import regularizers\n",
    "from tensorflow.keras import backend as K\n",
    "from tensorflow.keras.callbacks import ModelCheckpoint, EarlyStopping, ReduceLROnPlateau\n",
    "from tensorflow.keras.layers.experimental.preprocessing import Resizing\n",
    "\n",
    "from tensorflow.keras.datasets import cifar10\n",
    "\n",
    "from datetime import datetime\n",
    "import os"
   ]
  },
  {
   "cell_type": "code",
   "execution_count": 4,
   "id": "reasonable-trinity",
   "metadata": {},
   "outputs": [],
   "source": [
    "# IMPORTANT: SET RANDOM SEEDS FOR REPRODUCIBILITY\n",
    "os.environ['PYTHONHASHSEED'] = str(420)\n",
    "import random\n",
    "random.seed(420)\n",
    "np.random.seed(420)\n",
    "tf.random.set_seed(420)"
   ]
  },
  {
   "cell_type": "code",
   "execution_count": 5,
   "id": "environmental-color",
   "metadata": {},
   "outputs": [],
   "source": [
    "#Select GPU\n",
    "os.environ['CUDA_VISIBLE_DEVICES'] = '0'"
   ]
  },
  {
   "cell_type": "markdown",
   "id": "unavailable-adobe",
   "metadata": {},
   "source": [
    "## Load Data"
   ]
  },
  {
   "cell_type": "code",
   "execution_count": 6,
   "id": "crude-ready",
   "metadata": {
    "ExecuteTime": {
     "end_time": "2021-03-16T19:34:35.186987Z",
     "start_time": "2021-03-16T19:34:35.180960Z"
    }
   },
   "outputs": [],
   "source": [
    "BATCH_SIZE = 32\n",
    "EPOCHS = 100\n",
    "LR = 1e-3\n",
    "INPUT_SHAPE = (224, 224, 3)"
   ]
  },
  {
   "cell_type": "markdown",
   "id": "interstate-module",
   "metadata": {},
   "source": [
    "### Load Data"
   ]
  },
  {
   "cell_type": "code",
   "execution_count": 7,
   "id": "intelligent-guinea",
   "metadata": {
    "ExecuteTime": {
     "end_time": "2021-03-16T19:34:36.732265Z",
     "start_time": "2021-03-16T19:34:36.267950Z"
    },
    "scrolled": false
   },
   "outputs": [
    {
     "name": "stdout",
     "output_type": "stream",
     "text": [
      "50000 train samples\n",
      "5000 val samples\n",
      "5000 test samples\n"
     ]
    }
   ],
   "source": [
    "from sklearn.model_selection import train_test_split\n",
    "\n",
    "num_classes = 10\n",
    "\n",
    "# the data, split between train and test sets\n",
    "(x_train, y_train), (x_test, y_test) = cifar10.load_data()\n",
    "x_test, x_val, y_test, y_val = train_test_split(x_test, y_test, train_size=0.5, random_state=420)\n",
    "\n",
    "x_train = x_train.astype('float32')\n",
    "x_val = x_val.astype('float32')\n",
    "x_test = x_test.astype('float32')\n",
    "#Resize to 224x224\n",
    "\n",
    "print(x_train.shape[0], 'train samples')\n",
    "print(x_val.shape[0], 'val samples')\n",
    "print(x_test.shape[0], 'test samples')\n",
    "\n",
    "# convert class vectors to binary class matrices\n",
    "y_train = tf.keras.utils.to_categorical(y_train, num_classes)\n",
    "y_val = tf.keras.utils.to_categorical(y_val, num_classes)\n",
    "y_test = tf.keras.utils.to_categorical(y_test, num_classes)\n",
    "\n",
    "# Resize\n",
    "import cv2\n",
    "x_train = np.array([cv2.resize(x,(224,224)) for x in x_train])\n",
    "x_val = np.array([cv2.resize(x,(224,224)) for x in x_val])\n",
    "x_test = np.array([cv2.resize(x,(224,224)) for x in x_test])\n",
    "\n",
    "# Preprocess\n",
    "x_train = tf.keras.applications.resnet50.preprocess_input(x_train)\n",
    "x_val = tf.keras.applications.resnet50.preprocess_input(x_val)\n",
    "x_test = tf.keras.applications.resnet50.preprocess_input(x_test) "
   ]
  },
  {
   "cell_type": "markdown",
   "id": "warming-foster",
   "metadata": {},
   "source": [
    "## Load Model"
   ]
  },
  {
   "cell_type": "code",
   "execution_count": 8,
   "id": "encouraging-digit",
   "metadata": {},
   "outputs": [],
   "source": [
    "from tensorflow.keras.applications.resnet50 import ResNet50\n",
    "\n",
    "base_model = ResNet50(\n",
    "    include_top=False, weights='imagenet', \n",
    "    input_shape=INPUT_SHAPE, pooling='avg'\n",
    ")\n",
    "base_model.trainable = True\n",
    "\n",
    "model_input = Input(shape=INPUT_SHAPE, name='input')\n",
    "\n",
    "net = base_model(model_input)\n",
    "out = Dense(10, activation='softmax')(net)\n",
    "\n",
    "model = Model(model_input, out)\n",
    "\n",
    "model_weights_path = 'model/20210514_14_39_21/model_weights.h5'\n",
    "\n",
    "model.load_weights(model_weights_path)\n",
    "model.trainable = False"
   ]
  },
  {
   "cell_type": "markdown",
   "id": "becoming-advertising",
   "metadata": {},
   "source": [
    "# CXPlain"
   ]
  },
  {
   "cell_type": "code",
   "execution_count": 17,
   "id": "fleet-constitution",
   "metadata": {},
   "outputs": [],
   "source": [
    "sys.path.insert(1, '../../../cxplain')\n",
    "from tensorflow.python.keras.losses import categorical_crossentropy\n",
    "from cxplain.backend.masking.zero_masking import ZeroMasking\n",
    "from cxplain.backend.tensorflow_cxplain import TensorflowCXPlain as CXPlain"
   ]
  },
  {
   "cell_type": "code",
   "execution_count": 18,
   "id": "desirable-poland",
   "metadata": {},
   "outputs": [],
   "source": [
    "downsample_factors = (16, 16)\n",
    "batch_size = 32\n",
    "learning_rate=0.001\n",
    "masking_operation = ZeroMasking()\n",
    "loss = categorical_crossentropy"
   ]
  },
  {
   "cell_type": "code",
   "execution_count": 19,
   "id": "protective-bachelor",
   "metadata": {},
   "outputs": [],
   "source": [
    "## ResNet Explainer Model Builder Class\n",
    "from cxplain.backend.model_builders.base_model_builder import BaseModelBuilder\n",
    "from tensorflow.keras.applications.resnet50 import ResNet50\n",
    "from tensorflow.keras.models import Model\n",
    "\n",
    "\n",
    "class ResNetModelBuilder(BaseModelBuilder):\n",
    "    def __init__(self, downsample_factors, \n",
    "                 callbacks=list([]), early_stopping_patience=12,\n",
    "                 batch_size=64, num_epochs=100, validation_fraction=0.1, shuffle=True,\n",
    "                 learning_rate=0.0001, optimizer=None, verbose=0):\n",
    "        super(ResNetModelBuilder, self).__init__(callbacks, early_stopping_patience, batch_size, num_epochs,\n",
    "                                                 validation_fraction, shuffle, learning_rate, optimizer, verbose)\n",
    "        self.downsample_factors = downsample_factors\n",
    "        self.num_output_channels = 1\n",
    "\n",
    "    def build(self, input_layer):\n",
    "        downsampling_factor = int(np.prod(self.downsample_factors))\n",
    "        last_layer = input_layer\n",
    "        \n",
    "        base_model = ResNet50(\n",
    "            include_top=False, weights='imagenet', \n",
    "            input_shape=(224,224,3)\n",
    "        )\n",
    "        base_model = Model(base_model.input, base_model.get_layer('conv4_block3_2_conv').output)\n",
    "        base_model.trainable = True\n",
    "\n",
    "        last_layer = base_model(last_layer)\n",
    "\n",
    "        # Learn Phi \n",
    "        last_layer = Conv2D(1, 1)(last_layer)\n",
    "        \n",
    "        return last_layer"
   ]
  },
  {
   "cell_type": "code",
   "execution_count": 20,
   "id": "freelance-container",
   "metadata": {},
   "outputs": [],
   "source": [
    "model_input = Input((224,224,3))\n",
    "base_model = ResNet50(\n",
    "            include_top=False, weights='imagenet', \n",
    "            input_shape=(224,224,3)\n",
    "        )\n",
    "base_model = Model(base_model.input, base_model.get_layer('conv4_block3_2_conv').output)\n",
    "base_model.trainable = True\n",
    "\n",
    "last_layer = base_model(model_input)\n",
    "\n",
    "# Learn Phi \n",
    "last_layer = Conv2D(1, 1)(last_layer)\n",
    "\n",
    "m = Model(model_input, last_layer)"
   ]
  },
  {
   "cell_type": "code",
   "execution_count": 21,
   "id": "czech-incident",
   "metadata": {},
   "outputs": [],
   "source": [
    "model_builder = ResNetModelBuilder(downsample_factors, verbose=1,\n",
    "                                   batch_size=batch_size, learning_rate=learning_rate)\n",
    "\n",
    "explainer = CXPlain(model, model_builder, masking_operation, loss, \n",
    "                    num_models=1, downsample_factors=downsample_factors, flatten_for_explained_model=False)"
   ]
  },
  {
   "cell_type": "code",
   "execution_count": 22,
   "id": "technological-elimination",
   "metadata": {},
   "outputs": [],
   "source": [
    "save_dir = 'cxplain'\n",
    "model_dir = os.path.join(os.getcwd(), save_dir, 'results')\n",
    "if not os.path.isdir(model_dir):\n",
    "    os.makedirs(model_dir)"
   ]
  },
  {
   "cell_type": "code",
   "execution_count": 23,
   "id": "canadian-words",
   "metadata": {
    "scrolled": true
   },
   "outputs": [
    {
     "data": {
      "application/vnd.jupyter.widget-view+json": {
       "model_id": "95a23fc17f1645dfa03296d628a48fb7",
       "version_major": 2,
       "version_minor": 0
      },
      "text/plain": [
       "  0%|          | 0/625 [00:00<?, ?it/s]"
      ]
     },
     "metadata": {},
     "output_type": "display_data"
    },
    {
     "name": "stdout",
     "output_type": "stream",
     "text": [
      "Created Masked Data\n",
      "Fitting Explainer Model\n",
      "Train on 18000 samples, validate on 2000 samples\n",
      "Epoch 1/100\n",
      "18000/18000 [==============================] - 179s 10ms/sample - loss: 1.7088 - lambda_6_loss: 1.6931 - all_loss: 0.0074 - lambda_7_loss: 0.0081 - val_loss: 1.6812 - val_lambda_6_loss: 1.6675 - val_all_loss: 0.0070 - val_lambda_7_loss: 0.0078\n",
      "Epoch 2/100\n",
      "18000/18000 [==============================] - 65s 4ms/sample - loss: 1.6339 - lambda_6_loss: 1.6188 - all_loss: 0.0074 - lambda_7_loss: 0.0081 - val_loss: 1.6313 - val_lambda_6_loss: 1.6175 - val_all_loss: 0.0070 - val_lambda_7_loss: 0.0077\n",
      "Epoch 3/100\n",
      "18000/18000 [==============================] - 65s 4ms/sample - loss: 1.5941 - lambda_6_loss: 1.5787 - all_loss: 0.0074 - lambda_7_loss: 0.0081 - val_loss: 1.5969 - val_lambda_6_loss: 1.5837 - val_all_loss: 0.0069 - val_lambda_7_loss: 0.0077\n",
      "Epoch 4/100\n",
      "18000/18000 [==============================] - 65s 4ms/sample - loss: 1.5579 - lambda_6_loss: 1.5426 - all_loss: 0.0074 - lambda_7_loss: 0.0081 - val_loss: 1.5686 - val_lambda_6_loss: 1.5547 - val_all_loss: 0.0071 - val_lambda_7_loss: 0.0079\n",
      "Epoch 5/100\n",
      "18000/18000 [==============================] - 65s 4ms/sample - loss: 1.5164 - lambda_6_loss: 1.5012 - all_loss: 0.0074 - lambda_7_loss: 0.0081 - val_loss: 1.5463 - val_lambda_6_loss: 1.5327 - val_all_loss: 0.0069 - val_lambda_7_loss: 0.0077\n",
      "Epoch 6/100\n",
      "18000/18000 [==============================] - 65s 4ms/sample - loss: 1.4803 - lambda_6_loss: 1.4649 - all_loss: 0.0074 - lambda_7_loss: 0.0081 - val_loss: 1.5101 - val_lambda_6_loss: 1.4952 - val_all_loss: 0.0070 - val_lambda_7_loss: 0.0078\n",
      "Epoch 7/100\n",
      "18000/18000 [==============================] - 66s 4ms/sample - loss: 1.4453 - lambda_6_loss: 1.4297 - all_loss: 0.0074 - lambda_7_loss: 0.0081 - val_loss: 1.4972 - val_lambda_6_loss: 1.4838 - val_all_loss: 0.0069 - val_lambda_7_loss: 0.0077\n",
      "Epoch 8/100\n",
      "18000/18000 [==============================] - 65s 4ms/sample - loss: 1.4112 - lambda_6_loss: 1.3957 - all_loss: 0.0074 - lambda_7_loss: 0.0081 - val_loss: 1.4883 - val_lambda_6_loss: 1.4740 - val_all_loss: 0.0070 - val_lambda_7_loss: 0.0077\n",
      "Epoch 9/100\n",
      "18000/18000 [==============================] - 65s 4ms/sample - loss: 1.3812 - lambda_6_loss: 1.3655 - all_loss: 0.0074 - lambda_7_loss: 0.0081 - val_loss: 1.5014 - val_lambda_6_loss: 1.4901 - val_all_loss: 0.0070 - val_lambda_7_loss: 0.0077\n",
      "Epoch 10/100\n",
      "18000/18000 [==============================] - 65s 4ms/sample - loss: 1.3428 - lambda_6_loss: 1.3273 - all_loss: 0.0074 - lambda_7_loss: 0.0081 - val_loss: 1.4915 - val_lambda_6_loss: 1.4770 - val_all_loss: 0.0069 - val_lambda_7_loss: 0.0077\n",
      "Epoch 11/100\n",
      "18000/18000 [==============================] - 65s 4ms/sample - loss: 1.2994 - lambda_6_loss: 1.2838 - all_loss: 0.0074 - lambda_7_loss: 0.0081 - val_loss: 1.4776 - val_lambda_6_loss: 1.4644 - val_all_loss: 0.0070 - val_lambda_7_loss: 0.0077\n",
      "Epoch 12/100\n",
      "18000/18000 [==============================] - 65s 4ms/sample - loss: 1.2441 - lambda_6_loss: 1.2286 - all_loss: 0.0074 - lambda_7_loss: 0.0081 - val_loss: 1.4962 - val_lambda_6_loss: 1.4830 - val_all_loss: 0.0070 - val_lambda_7_loss: 0.0078\n",
      "Epoch 13/100\n",
      "18000/18000 [==============================] - 65s 4ms/sample - loss: 1.1716 - lambda_6_loss: 1.1560 - all_loss: 0.0074 - lambda_7_loss: 0.0081 - val_loss: 1.5029 - val_lambda_6_loss: 1.4860 - val_all_loss: 0.0070 - val_lambda_7_loss: 0.0077\n",
      "Epoch 14/100\n",
      "18000/18000 [==============================] - 65s 4ms/sample - loss: 1.0835 - lambda_6_loss: 1.0682 - all_loss: 0.0074 - lambda_7_loss: 0.0081 - val_loss: 1.5498 - val_lambda_6_loss: 1.5339 - val_all_loss: 0.0070 - val_lambda_7_loss: 0.0077\n",
      "Epoch 15/100\n",
      "18000/18000 [==============================] - 65s 4ms/sample - loss: 0.9892 - lambda_6_loss: 0.9736 - all_loss: 0.0074 - lambda_7_loss: 0.0081 - val_loss: 1.5618 - val_lambda_6_loss: 1.5463 - val_all_loss: 0.0071 - val_lambda_7_loss: 0.0079\n",
      "Epoch 16/100\n",
      "18000/18000 [==============================] - 65s 4ms/sample - loss: 0.9042 - lambda_6_loss: 0.8887 - all_loss: 0.0074 - lambda_7_loss: 0.0081 - val_loss: 1.6132 - val_lambda_6_loss: 1.5994 - val_all_loss: 0.0070 - val_lambda_7_loss: 0.0078\n",
      "Epoch 17/100\n",
      "18000/18000 [==============================] - 65s 4ms/sample - loss: 0.8329 - lambda_6_loss: 0.8175 - all_loss: 0.0074 - lambda_7_loss: 0.0081 - val_loss: 1.6150 - val_lambda_6_loss: 1.5999 - val_all_loss: 0.0070 - val_lambda_7_loss: 0.0077\n",
      "Epoch 18/100\n",
      "18000/18000 [==============================] - 65s 4ms/sample - loss: 0.7710 - lambda_6_loss: 0.7556 - all_loss: 0.0074 - lambda_7_loss: 0.0081 - val_loss: 1.6244 - val_lambda_6_loss: 1.6082 - val_all_loss: 0.0070 - val_lambda_7_loss: 0.0078\n",
      "Epoch 19/100\n",
      "18000/18000 [==============================] - 65s 4ms/sample - loss: 0.7210 - lambda_6_loss: 0.7054 - all_loss: 0.0074 - lambda_7_loss: 0.0081 - val_loss: 1.6338 - val_lambda_6_loss: 1.6211 - val_all_loss: 0.0070 - val_lambda_7_loss: 0.0078\n",
      "Epoch 20/100\n",
      "18000/18000 [==============================] - 65s 4ms/sample - loss: 0.6816 - lambda_6_loss: 0.6660 - all_loss: 0.0074 - lambda_7_loss: 0.0081 - val_loss: 1.6563 - val_lambda_6_loss: 1.6426 - val_all_loss: 0.0071 - val_lambda_7_loss: 0.0078\n",
      "Epoch 21/100\n",
      "18000/18000 [==============================] - 65s 4ms/sample - loss: 0.6438 - lambda_6_loss: 0.6282 - all_loss: 0.0074 - lambda_7_loss: 0.0081 - val_loss: 1.6481 - val_lambda_6_loss: 1.6344 - val_all_loss: 0.0070 - val_lambda_7_loss: 0.0078\n",
      "Epoch 22/100\n",
      "18000/18000 [==============================] - 65s 4ms/sample - loss: 0.6150 - lambda_6_loss: 0.5995 - all_loss: 0.0074 - lambda_7_loss: 0.0081 - val_loss: 1.6453 - val_lambda_6_loss: 1.6271 - val_all_loss: 0.0072 - val_lambda_7_loss: 0.0079\n",
      "Epoch 23/100\n",
      "18000/18000 [==============================] - 65s 4ms/sample - loss: 0.5893 - lambda_6_loss: 0.5739 - all_loss: 0.0074 - lambda_7_loss: 0.0081 - val_loss: 1.6593 - val_lambda_6_loss: 1.6451 - val_all_loss: 0.0069 - val_lambda_7_loss: 0.0077\n"
     ]
    }
   ],
   "source": [
    "t = time.time()\n",
    "explainer.fit(x_train, y_train)\n",
    "training_time = time.time() - t\n",
    "\n",
    "with open(os.path.join(model_dir, 'training_time.pkl'), 'wb') as f:\n",
    "    pickle.dump(training_time, f)"
   ]
  },
  {
   "cell_type": "markdown",
   "id": "rocky-cross",
   "metadata": {},
   "source": [
    "# Explain w/ CXPlain"
   ]
  },
  {
   "cell_type": "markdown",
   "id": "spectacular-murder",
   "metadata": {},
   "source": [
    "### Load Images"
   ]
  },
  {
   "cell_type": "code",
   "execution_count": 24,
   "id": "coral-biotechnology",
   "metadata": {},
   "outputs": [],
   "source": [
    "images_dir = os.path.join(os.getcwd(), 'images')\n",
    "images = np.load(os.path.join(images_dir, 'processed_images.npy'), allow_pickle=True)"
   ]
  },
  {
   "cell_type": "markdown",
   "id": "based-liberal",
   "metadata": {},
   "source": [
    "### Explain"
   ]
  },
  {
   "cell_type": "code",
   "execution_count": 27,
   "id": "touched-lying",
   "metadata": {},
   "outputs": [],
   "source": [
    "t = time.time()\n",
    "explanations = explainer.explain(images)\n",
    "explaining_time = time.time() - t"
   ]
  },
  {
   "cell_type": "markdown",
   "id": "undefined-extension",
   "metadata": {},
   "source": [
    "### Save"
   ]
  },
  {
   "cell_type": "code",
   "execution_count": 28,
   "id": "rising-reflection",
   "metadata": {},
   "outputs": [],
   "source": [
    "with open(os.path.join(model_dir, 'explaining_time.pkl'), 'wb') as f:\n",
    "    pickle.dump(explaining_time, f)\n",
    "    \n",
    "explanations.dump(os.path.join(model_dir, 'explanations.npy'))"
   ]
  }
 ],
 "metadata": {
  "kernelspec": {
   "display_name": "Python 3",
   "language": "python",
   "name": "python3"
  },
  "language_info": {
   "codemirror_mode": {
    "name": "ipython",
    "version": 3
   },
   "file_extension": ".py",
   "mimetype": "text/x-python",
   "name": "python",
   "nbconvert_exporter": "python",
   "pygments_lexer": "ipython3",
   "version": "3.7.9"
  }
 },
 "nbformat": 4,
 "nbformat_minor": 5
}
