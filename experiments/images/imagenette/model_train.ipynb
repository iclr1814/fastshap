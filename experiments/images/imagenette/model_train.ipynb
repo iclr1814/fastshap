{
 "cells": [
  {
   "cell_type": "code",
   "execution_count": 2,
   "id": "planned-niagara",
   "metadata": {},
   "outputs": [],
   "source": [
    "import numpy as np\n",
    "import sys\n",
    "\n",
    "import tensorflow as tf\n",
    "from tensorflow.keras.layers import (Input, Layer, Dense, Lambda, \n",
    "                                     Dropout, Multiply, BatchNormalization, \n",
    "                                     Reshape, Concatenate, Conv2D, Permute)\n",
    "from tensorflow.keras.models import Model, Sequential\n",
    "from tensorflow.keras import regularizers\n",
    "from tensorflow.keras import backend as K\n",
    "from tensorflow.keras.callbacks import ModelCheckpoint, EarlyStopping, ReduceLROnPlateau\n",
    "\n",
    "import tensorflow_datasets as tfds\n",
    "\n",
    "from datetime import datetime\n",
    "import os\n",
    "\n",
    "#Select GPU\n",
    "os.environ['CUDA_VISIBLE_DEVICES'] = '0'"
   ]
  },
  {
   "cell_type": "code",
   "execution_count": 4,
   "id": "wired-survival",
   "metadata": {},
   "outputs": [],
   "source": [
    "# IMPORTANT: SET RANDOM SEEDS FOR REPRODUCIBILITY\n",
    "os.environ['PYTHONHASHSEED'] = str(420)\n",
    "import random\n",
    "random.seed(420)\n",
    "np.random.seed(420)\n",
    "tf.random.set_seed(420)"
   ]
  },
  {
   "cell_type": "markdown",
   "id": "danish-stereo",
   "metadata": {},
   "source": [
    "# Train Model to Be Explained"
   ]
  },
  {
   "cell_type": "markdown",
   "id": "radical-wisconsin",
   "metadata": {
    "ExecuteTime": {
     "end_time": "2021-03-16T18:52:03.110664Z",
     "start_time": "2021-03-16T18:52:03.106719Z"
    }
   },
   "source": [
    "### Parameters"
   ]
  },
  {
   "cell_type": "code",
   "execution_count": 5,
   "id": "crude-ready",
   "metadata": {
    "ExecuteTime": {
     "end_time": "2021-03-16T19:34:35.186987Z",
     "start_time": "2021-03-16T19:34:35.180960Z"
    }
   },
   "outputs": [],
   "source": [
    "BATCH_SIZE = 32\n",
    "EPOCHS = 50\n",
    "LR = 1e-2\n",
    "INPUT_SHAPE = (224, 224, 3)"
   ]
  },
  {
   "cell_type": "markdown",
   "id": "unavailable-adobe",
   "metadata": {},
   "source": [
    "### Load Data"
   ]
  },
  {
   "cell_type": "code",
   "execution_count": 6,
   "id": "intelligent-guinea",
   "metadata": {
    "ExecuteTime": {
     "end_time": "2021-03-16T19:34:36.732265Z",
     "start_time": "2021-03-16T19:34:36.267950Z"
    },
    "scrolled": true
   },
   "outputs": [],
   "source": [
    "(ds_train, ds_val, ds_test), ds_info = tfds.load(\n",
    "    'imagenette/full-size-v2',\n",
    "    split=['train', 'validation[:50%]', 'validation[-50%:]'],\n",
    "    as_supervised=False,\n",
    "    with_info=True\n",
    ")"
   ]
  },
  {
   "cell_type": "markdown",
   "id": "young-antibody",
   "metadata": {},
   "source": [
    "### Batch Data"
   ]
  },
  {
   "cell_type": "code",
   "execution_count": 7,
   "id": "mathematical-cartridge",
   "metadata": {
    "ExecuteTime": {
     "end_time": "2021-03-16T19:34:38.036975Z",
     "start_time": "2021-03-16T19:34:38.030145Z"
    }
   },
   "outputs": [],
   "source": [
    "def batch_data(dataset, fn, batch_size=32):\n",
    "    dataset = dataset.map(fn)\n",
    "    dataset = dataset.batch(batch_size)\n",
    "    dataset = dataset.prefetch(tf.data.experimental.AUTOTUNE)\n",
    "    \n",
    "    return dataset"
   ]
  },
  {
   "cell_type": "markdown",
   "id": "electrical-nature",
   "metadata": {},
   "source": [
    "### Reformat Data"
   ]
  },
  {
   "cell_type": "code",
   "execution_count": 8,
   "id": "hungry-master",
   "metadata": {
    "ExecuteTime": {
     "end_time": "2021-03-16T19:34:39.459330Z",
     "start_time": "2021-03-16T19:34:39.356585Z"
    }
   },
   "outputs": [],
   "source": [
    "def reformat(input_dict):\n",
    "    \n",
    "    i = input_dict['image']\n",
    "    i = tf.cast(i, tf.float32)\n",
    "    i = tf.image.resize_with_crop_or_pad(i, 224, 224)\n",
    "    i = tf.keras.applications.resnet50.preprocess_input(i)\n",
    "    \n",
    "    l = tf.one_hot(input_dict['label'], depth = 10)\n",
    "    \n",
    "    return (i, l)\n",
    "\n",
    "ds_train = batch_data(ds_train, reformat, BATCH_SIZE)\n",
    "ds_val = batch_data(ds_val, reformat, BATCH_SIZE)\n",
    "ds_test = batch_data(ds_test, reformat, BATCH_SIZE)"
   ]
  },
  {
   "cell_type": "markdown",
   "id": "seven-distance",
   "metadata": {},
   "source": [
    "### Model"
   ]
  },
  {
   "cell_type": "code",
   "execution_count": 9,
   "id": "beneficial-attachment",
   "metadata": {
    "ExecuteTime": {
     "end_time": "2021-03-16T19:34:55.664420Z",
     "start_time": "2021-03-16T19:34:51.327748Z"
    }
   },
   "outputs": [
    {
     "name": "stdout",
     "output_type": "stream",
     "text": [
      "Epoch 1/50\n",
      "296/296 [==============================] - ETA: 0s - loss: 1.0187 - auroc: 0.9965 - auprc: 0.9811 - accuracy: 0.9527\n",
      "Epoch 00001: val_loss improved from inf to 0.39218, saving model to /gpfs/data/paulab/nj594/fast_shap/experiments/images/imagenette/model/20210511_21_28_36/model_weights.h5\n",
      "296/296 [==============================] - 58s 195ms/step - loss: 1.0187 - auroc: 0.9965 - auprc: 0.9811 - accuracy: 0.9527 - val_loss: 0.3922 - val_auroc: 0.9995 - val_auprc: 0.9964 - val_accuracy: 0.9699\n",
      "Epoch 2/50\n",
      "295/296 [============================>.] - ETA: 0s - loss: 0.2810 - auroc: 0.9994 - auprc: 0.9963 - accuracy: 0.9742\n",
      "Epoch 00002: val_loss improved from 0.39218 to 0.20246, saving model to /gpfs/data/paulab/nj594/fast_shap/experiments/images/imagenette/model/20210511_21_28_36/model_weights.h5\n",
      "296/296 [==============================] - 24s 83ms/step - loss: 0.2807 - auroc: 0.9994 - auprc: 0.9964 - accuracy: 0.9742 - val_loss: 0.2025 - val_auroc: 0.9996 - val_auprc: 0.9968 - val_accuracy: 0.9750\n",
      "Epoch 3/50\n",
      "295/296 [============================>.] - ETA: 0s - loss: 0.1758 - auroc: 0.9996 - auprc: 0.9971 - accuracy: 0.9773\n",
      "Epoch 00003: val_loss improved from 0.20246 to 0.14931, saving model to /gpfs/data/paulab/nj594/fast_shap/experiments/images/imagenette/model/20210511_21_28_36/model_weights.h5\n",
      "296/296 [==============================] - 25s 83ms/step - loss: 0.1756 - auroc: 0.9996 - auprc: 0.9971 - accuracy: 0.9774 - val_loss: 0.1493 - val_auroc: 0.9996 - val_auprc: 0.9970 - val_accuracy: 0.9750\n",
      "Epoch 4/50\n",
      "296/296 [==============================] - ETA: 0s - loss: 0.1348 - auroc: 0.9996 - auprc: 0.9976 - accuracy: 0.9804\n",
      "Epoch 00004: val_loss improved from 0.14931 to 0.12468, saving model to /gpfs/data/paulab/nj594/fast_shap/experiments/images/imagenette/model/20210511_21_28_36/model_weights.h5\n",
      "296/296 [==============================] - 25s 83ms/step - loss: 0.1348 - auroc: 0.9996 - auprc: 0.9976 - accuracy: 0.9804 - val_loss: 0.1247 - val_auroc: 0.9996 - val_auprc: 0.9971 - val_accuracy: 0.9766\n",
      "Epoch 5/50\n",
      "295/296 [============================>.] - ETA: 0s - loss: 0.1118 - auroc: 0.9996 - auprc: 0.9979 - accuracy: 0.9828\n",
      "Epoch 00005: val_loss improved from 0.12468 to 0.11077, saving model to /gpfs/data/paulab/nj594/fast_shap/experiments/images/imagenette/model/20210511_21_28_36/model_weights.h5\n",
      "296/296 [==============================] - 25s 83ms/step - loss: 0.1118 - auroc: 0.9996 - auprc: 0.9979 - accuracy: 0.9829 - val_loss: 0.1108 - val_auroc: 0.9996 - val_auprc: 0.9971 - val_accuracy: 0.9771\n",
      "Epoch 6/50\n",
      "295/296 [============================>.] - ETA: 0s - loss: 0.0966 - auroc: 0.9996 - auprc: 0.9981 - accuracy: 0.9838\n",
      "Epoch 00006: val_loss improved from 0.11077 to 0.10208, saving model to /gpfs/data/paulab/nj594/fast_shap/experiments/images/imagenette/model/20210511_21_28_36/model_weights.h5\n",
      "296/296 [==============================] - 25s 83ms/step - loss: 0.0965 - auroc: 0.9996 - auprc: 0.9981 - accuracy: 0.9838 - val_loss: 0.1021 - val_auroc: 0.9996 - val_auprc: 0.9971 - val_accuracy: 0.9771\n",
      "Epoch 7/50\n",
      "295/296 [============================>.] - ETA: 0s - loss: 0.0855 - auroc: 0.9996 - auprc: 0.9983 - accuracy: 0.9855\n",
      "Epoch 00007: val_loss improved from 0.10208 to 0.09635, saving model to /gpfs/data/paulab/nj594/fast_shap/experiments/images/imagenette/model/20210511_21_28_36/model_weights.h5\n",
      "296/296 [==============================] - 24s 82ms/step - loss: 0.0854 - auroc: 0.9996 - auprc: 0.9983 - accuracy: 0.9855 - val_loss: 0.0963 - val_auroc: 0.9994 - val_auprc: 0.9970 - val_accuracy: 0.9760\n",
      "Epoch 8/50\n",
      "295/296 [============================>.] - ETA: 0s - loss: 0.0770 - auroc: 0.9996 - auprc: 0.9984 - accuracy: 0.9864\n",
      "Epoch 00008: val_loss improved from 0.09635 to 0.09246, saving model to /gpfs/data/paulab/nj594/fast_shap/experiments/images/imagenette/model/20210511_21_28_36/model_weights.h5\n",
      "296/296 [==============================] - 24s 82ms/step - loss: 0.0769 - auroc: 0.9996 - auprc: 0.9984 - accuracy: 0.9865 - val_loss: 0.0925 - val_auroc: 0.9994 - val_auprc: 0.9970 - val_accuracy: 0.9766\n",
      "Epoch 9/50\n",
      "295/296 [============================>.] - ETA: 0s - loss: 0.0701 - auroc: 0.9996 - auprc: 0.9986 - accuracy: 0.9878\n",
      "Epoch 00009: val_loss improved from 0.09246 to 0.08981, saving model to /gpfs/data/paulab/nj594/fast_shap/experiments/images/imagenette/model/20210511_21_28_36/model_weights.h5\n",
      "296/296 [==============================] - 25s 83ms/step - loss: 0.0701 - auroc: 0.9996 - auprc: 0.9986 - accuracy: 0.9879 - val_loss: 0.0898 - val_auroc: 0.9993 - val_auprc: 0.9969 - val_accuracy: 0.9760\n",
      "Epoch 10/50\n",
      "295/296 [============================>.] - ETA: 0s - loss: 0.0645 - auroc: 0.9996 - auprc: 0.9987 - accuracy: 0.9885\n",
      "Epoch 00010: val_loss improved from 0.08981 to 0.08803, saving model to /gpfs/data/paulab/nj594/fast_shap/experiments/images/imagenette/model/20210511_21_28_36/model_weights.h5\n",
      "296/296 [==============================] - 25s 84ms/step - loss: 0.0644 - auroc: 0.9996 - auprc: 0.9987 - accuracy: 0.9885 - val_loss: 0.0880 - val_auroc: 0.9993 - val_auprc: 0.9968 - val_accuracy: 0.9755\n",
      "Epoch 11/50\n",
      "295/296 [============================>.] - ETA: 0s - loss: 0.0597 - auroc: 0.9997 - auprc: 0.9987 - accuracy: 0.9891\n",
      "Epoch 00011: val_loss improved from 0.08803 to 0.08687, saving model to /gpfs/data/paulab/nj594/fast_shap/experiments/images/imagenette/model/20210511_21_28_36/model_weights.h5\n",
      "296/296 [==============================] - 24s 83ms/step - loss: 0.0597 - auroc: 0.9997 - auprc: 0.9987 - accuracy: 0.9891 - val_loss: 0.0869 - val_auroc: 0.9993 - val_auprc: 0.9968 - val_accuracy: 0.9755\n",
      "Epoch 12/50\n",
      "295/296 [============================>.] - ETA: 0s - loss: 0.0556 - auroc: 0.9997 - auprc: 0.9986 - accuracy: 0.9898\n",
      "Epoch 00012: val_loss improved from 0.08687 to 0.08620, saving model to /gpfs/data/paulab/nj594/fast_shap/experiments/images/imagenette/model/20210511_21_28_36/model_weights.h5\n",
      "296/296 [==============================] - 25s 83ms/step - loss: 0.0556 - auroc: 0.9997 - auprc: 0.9986 - accuracy: 0.9899 - val_loss: 0.0862 - val_auroc: 0.9993 - val_auprc: 0.9967 - val_accuracy: 0.9760\n",
      "Epoch 13/50\n",
      "295/296 [============================>.] - ETA: 0s - loss: 0.0521 - auroc: 0.9996 - auprc: 0.9987 - accuracy: 0.9905\n",
      "Epoch 00013: val_loss improved from 0.08620 to 0.08589, saving model to /gpfs/data/paulab/nj594/fast_shap/experiments/images/imagenette/model/20210511_21_28_36/model_weights.h5\n",
      "296/296 [==============================] - 25s 83ms/step - loss: 0.0520 - auroc: 0.9996 - auprc: 0.9987 - accuracy: 0.9905 - val_loss: 0.0859 - val_auroc: 0.9991 - val_auprc: 0.9965 - val_accuracy: 0.9755\n",
      "Epoch 14/50\n",
      "295/296 [============================>.] - ETA: 0s - loss: 0.0489 - auroc: 0.9996 - auprc: 0.9987 - accuracy: 0.9908\n",
      "Epoch 00014: val_loss improved from 0.08589 to 0.08587, saving model to /gpfs/data/paulab/nj594/fast_shap/experiments/images/imagenette/model/20210511_21_28_36/model_weights.h5\n",
      "296/296 [==============================] - 25s 83ms/step - loss: 0.0489 - auroc: 0.9996 - auprc: 0.9987 - accuracy: 0.9908 - val_loss: 0.0859 - val_auroc: 0.9989 - val_auprc: 0.9962 - val_accuracy: 0.9750\n",
      "Epoch 15/50\n",
      "295/296 [============================>.] - ETA: 0s - loss: 0.0462 - auroc: 0.9996 - auprc: 0.9987 - accuracy: 0.9912\n",
      "Epoch 00015: val_loss did not improve from 0.08587\n",
      "296/296 [==============================] - 24s 82ms/step - loss: 0.0461 - auroc: 0.9996 - auprc: 0.9987 - accuracy: 0.9912 - val_loss: 0.0861 - val_auroc: 0.9988 - val_auprc: 0.9962 - val_accuracy: 0.9750\n",
      "Epoch 16/50\n",
      "295/296 [============================>.] - ETA: 0s - loss: 0.0437 - auroc: 0.9996 - auprc: 0.9988 - accuracy: 0.9915\n",
      "Epoch 00016: val_loss did not improve from 0.08587\n",
      "\n",
      "Epoch 00016: ReduceLROnPlateau reducing learning rate to 0.009499999787658453.\n",
      "296/296 [==============================] - 24s 82ms/step - loss: 0.0436 - auroc: 0.9996 - auprc: 0.9988 - accuracy: 0.9916 - val_loss: 0.0865 - val_auroc: 0.9988 - val_auprc: 0.9961 - val_accuracy: 0.9755\n",
      "Epoch 17/50\n",
      "295/296 [============================>.] - ETA: 0s - loss: 0.0414 - auroc: 0.9996 - auprc: 0.9988 - accuracy: 0.9923\n",
      "Epoch 00017: val_loss did not improve from 0.08587\n",
      "296/296 [==============================] - 24s 82ms/step - loss: 0.0414 - auroc: 0.9996 - auprc: 0.9988 - accuracy: 0.9923 - val_loss: 0.0870 - val_auroc: 0.9988 - val_auprc: 0.9961 - val_accuracy: 0.9755\n"
     ]
    },
    {
     "name": "stdout",
     "output_type": "stream",
     "text": [
      "Epoch 18/50\n",
      "295/296 [============================>.] - ETA: 0s - loss: 0.0394 - auroc: 0.9997 - auprc: 0.9988 - accuracy: 0.9924\n",
      "Epoch 00018: val_loss did not improve from 0.08587\n",
      "296/296 [==============================] - 24s 82ms/step - loss: 0.0394 - auroc: 0.9997 - auprc: 0.9988 - accuracy: 0.9924 - val_loss: 0.0877 - val_auroc: 0.9986 - val_auprc: 0.9958 - val_accuracy: 0.9755\n",
      "Epoch 19/50\n",
      "295/296 [============================>.] - ETA: 0s - loss: 0.0376 - auroc: 0.9997 - auprc: 0.9988 - accuracy: 0.9931\n",
      "Epoch 00019: val_loss did not improve from 0.08587\n",
      "\n",
      "Epoch 00019: ReduceLROnPlateau reducing learning rate to 0.009024999709799886.\n",
      "296/296 [==============================] - 24s 83ms/step - loss: 0.0376 - auroc: 0.9997 - auprc: 0.9989 - accuracy: 0.9931 - val_loss: 0.0885 - val_auroc: 0.9986 - val_auprc: 0.9957 - val_accuracy: 0.9750\n",
      "Epoch 20/50\n",
      "295/296 [============================>.] - ETA: 0s - loss: 0.0359 - auroc: 0.9997 - auprc: 0.9989 - accuracy: 0.9935\n",
      "Epoch 00020: val_loss did not improve from 0.08587\n",
      "296/296 [==============================] - 24s 82ms/step - loss: 0.0359 - auroc: 0.9997 - auprc: 0.9989 - accuracy: 0.9936 - val_loss: 0.0892 - val_auroc: 0.9986 - val_auprc: 0.9957 - val_accuracy: 0.9745\n",
      "Epoch 21/50\n",
      "295/296 [============================>.] - ETA: 0s - loss: 0.0345 - auroc: 0.9997 - auprc: 0.9989 - accuracy: 0.9940\n",
      "Epoch 00021: val_loss did not improve from 0.08587\n",
      "296/296 [==============================] - 24s 82ms/step - loss: 0.0344 - auroc: 0.9997 - auprc: 0.9989 - accuracy: 0.9940 - val_loss: 0.0901 - val_auroc: 0.9986 - val_auprc: 0.9956 - val_accuracy: 0.9745\n",
      "Epoch 22/50\n",
      "295/296 [============================>.] - ETA: 0s - loss: 0.0331 - auroc: 0.9997 - auprc: 0.9990 - accuracy: 0.9944\n",
      "Epoch 00022: val_loss did not improve from 0.08587\n",
      "\n",
      "Epoch 00022: ReduceLROnPlateau reducing learning rate to 0.008573750033974648.\n",
      "296/296 [==============================] - 24s 82ms/step - loss: 0.0331 - auroc: 0.9997 - auprc: 0.9990 - accuracy: 0.9944 - val_loss: 0.0911 - val_auroc: 0.9986 - val_auprc: 0.9956 - val_accuracy: 0.9745\n",
      "Epoch 23/50\n",
      "295/296 [============================>.] - ETA: 0s - loss: 0.0318 - auroc: 0.9998 - auprc: 0.9991 - accuracy: 0.9948\n",
      "Epoch 00023: val_loss did not improve from 0.08587\n",
      "296/296 [==============================] - 24s 82ms/step - loss: 0.0318 - auroc: 0.9998 - auprc: 0.9991 - accuracy: 0.9948 - val_loss: 0.0920 - val_auroc: 0.9983 - val_auprc: 0.9953 - val_accuracy: 0.9740\n",
      "Epoch 24/50\n",
      "295/296 [============================>.] - ETA: 0s - loss: 0.0306 - auroc: 0.9998 - auprc: 0.9991 - accuracy: 0.9949\n",
      "Epoch 00024: val_loss did not improve from 0.08587\n",
      "296/296 [==============================] - 24s 83ms/step - loss: 0.0306 - auroc: 0.9998 - auprc: 0.9991 - accuracy: 0.9949 - val_loss: 0.0930 - val_auroc: 0.9981 - val_auprc: 0.9950 - val_accuracy: 0.9745\n",
      "/gpfs/data/paulab/nj594/fast_shap/experiments/images/imagenette/model/20210511_21_28_36/model_weights.h5\n",
      "62/62 [==============================] - 4s 66ms/step - loss: 0.0981 - auroc: 0.9990 - auprc: 0.9955 - accuracy: 0.9715\n"
     ]
    },
    {
     "data": {
      "text/plain": [
       "[0.0980679988861084,\n",
       " 0.9989628791809082,\n",
       " 0.9955040812492371,\n",
       " 0.9714577198028564]"
      ]
     },
     "execution_count": 9,
     "metadata": {},
     "output_type": "execute_result"
    }
   ],
   "source": [
    "from tensorflow.keras.applications.resnet50 import ResNet50\n",
    "\n",
    "base_model = ResNet50(\n",
    "    include_top=True, weights='imagenet', \n",
    "    input_shape=INPUT_SHAPE\n",
    ")\n",
    "base_model.trainable = False\n",
    "\n",
    "model_input = Input(shape=INPUT_SHAPE, dtype='float32', name='input')\n",
    "\n",
    "net = base_model(model_input)\n",
    "out = Dense(10, activation='softmax')(net)\n",
    "\n",
    "model = Model(model_input, out)\n",
    "\n",
    "# Metrics\n",
    "METRICS = [ \n",
    "  tf.keras.metrics.AUC(name='auroc'),\n",
    "  tf.keras.metrics.AUC(curve='PR', name='auprc'),\n",
    "  tf.keras.metrics.TopKCategoricalAccuracy(k=1, name='accuracy'),\n",
    "]\n",
    "\n",
    "# Model Checkpointing\n",
    "time = datetime.now().strftime(\"%Y%m%d_%H_%M_%S\")\n",
    "save_dir = 'model'\n",
    "model_dir = os.path.join(os.getcwd(), save_dir, time)\n",
    "if not os.path.isdir(model_dir):\n",
    "    os.makedirs(model_dir)\n",
    "model_weights_path = os.path.join(model_dir, 'model_weights.h5')\n",
    "checkpoint = ModelCheckpoint(model_weights_path, monitor='val_loss', verbose=1, \n",
    "                             save_best_only=True, mode='min', save_weights_only=True)\n",
    "\n",
    "# LR Schedule\n",
    "reduceLR = ReduceLROnPlateau(monitor='val_loss', factor=0.95, patience=3, \n",
    "                             verbose=1, mode='min', cooldown=1, min_lr=1e-4)\n",
    "\n",
    "# Early Stopping \n",
    "earlyStop = EarlyStopping(monitor=\"val_loss\", mode=\"min\", patience=10) \n",
    "\n",
    "# Compile Model\n",
    "CALLBACKS = [checkpoint, earlyStop, reduceLR]\n",
    "OPTIMIZER = tf.keras.optimizers.Adam(LR)\n",
    "\n",
    "model.compile(\n",
    "    loss='categorical_crossentropy',\n",
    "    optimizer=OPTIMIZER,\n",
    "    metrics=METRICS,\n",
    ")\n",
    "\n",
    "# Train Model\n",
    "model.fit(ds_train,\n",
    "          epochs = EPOCHS,\n",
    "          validation_data = ds_val,\n",
    "          callbacks = CALLBACKS)\n",
    "\n",
    "# Get Checkpointed Model\n",
    "print(model_weights_path)\n",
    "model.load_weights(model_weights_path)\n",
    "model.trainable = False\n",
    "\n",
    "# Evaluate\n",
    "model.evaluate(ds_test)"
   ]
  },
  {
   "cell_type": "code",
   "execution_count": null,
   "id": "robust-tuesday",
   "metadata": {},
   "outputs": [],
   "source": []
  }
 ],
 "metadata": {
  "kernelspec": {
   "display_name": "Python 3",
   "language": "python",
   "name": "python3"
  },
  "language_info": {
   "codemirror_mode": {
    "name": "ipython",
    "version": 3
   },
   "file_extension": ".py",
   "mimetype": "text/x-python",
   "name": "python",
   "nbconvert_exporter": "python",
   "pygments_lexer": "ipython3",
   "version": "3.7.9"
  }
 },
 "nbformat": 4,
 "nbformat_minor": 5
}
