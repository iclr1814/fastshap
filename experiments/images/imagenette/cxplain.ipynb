{
 "cells": [
  {
   "cell_type": "code",
   "execution_count": 1,
   "id": "ahead-endorsement",
   "metadata": {},
   "outputs": [
    {
     "ename": "RuntimeError",
     "evalue": "module compiled against API version 0xe but this version of numpy is 0xd",
     "output_type": "error",
     "traceback": [
      "\u001b[0;31m---------------------------------------------------------------------------\u001b[0m",
      "\u001b[0;31mRuntimeError\u001b[0m                              Traceback (most recent call last)",
      "\u001b[0;31mRuntimeError\u001b[0m: module compiled against API version 0xe but this version of numpy is 0xd"
     ]
    }
   ],
   "source": [
    "import sys\n",
    "sys.path.insert(0, '../../../fastshap_tf/')\n",
    "from surrogate import ImageSurrogate"
   ]
  },
  {
   "cell_type": "code",
   "execution_count": 2,
   "id": "comparable-nigeria",
   "metadata": {},
   "outputs": [],
   "source": [
    "import pickle\n",
    "import numpy as np\n",
    "import shap\n",
    "from tqdm.notebook import tqdm\n",
    "import time"
   ]
  },
  {
   "cell_type": "code",
   "execution_count": 3,
   "id": "authentic-emperor",
   "metadata": {},
   "outputs": [
    {
     "name": "stdout",
     "output_type": "stream",
     "text": [
      "WARNING:tensorflow:From /gpfs/data/paulab/miniconda3/envs/tf23/lib/python3.7/site-packages/tensorflow/python/compat/v2_compat.py:96: disable_resource_variables (from tensorflow.python.ops.variable_scope) is deprecated and will be removed in a future version.\n",
      "Instructions for updating:\n",
      "non-resource variables are not supported in the long term\n"
     ]
    }
   ],
   "source": [
    "import tensorflow as tf\n",
    "tf.compat.v1.disable_v2_behavior()\n",
    "import tensorflow_datasets as tfds\n",
    "\n",
    "from datetime import datetime\n",
    "import os"
   ]
  },
  {
   "cell_type": "code",
   "execution_count": 4,
   "id": "political-friend",
   "metadata": {},
   "outputs": [],
   "source": [
    "from tensorflow.keras.layers import (Input, Layer, Dense, Conv2D)\n",
    "from tensorflow.keras.models import Model"
   ]
  },
  {
   "cell_type": "code",
   "execution_count": 5,
   "id": "reasonable-trinity",
   "metadata": {},
   "outputs": [],
   "source": [
    "# IMPORTANT: SET RANDOM SEEDS FOR REPRODUCIBILITY\n",
    "os.environ['PYTHONHASHSEED'] = str(420)\n",
    "import random\n",
    "random.seed(420)\n",
    "np.random.seed(420)\n",
    "tf.random.set_seed(420)"
   ]
  },
  {
   "cell_type": "code",
   "execution_count": 6,
   "id": "environmental-color",
   "metadata": {},
   "outputs": [],
   "source": [
    "#Select GPU\n",
    "os.environ['CUDA_VISIBLE_DEVICES'] = '0'"
   ]
  },
  {
   "cell_type": "markdown",
   "id": "cellular-validity",
   "metadata": {},
   "source": [
    "## Save Dirs"
   ]
  },
  {
   "cell_type": "code",
   "execution_count": 7,
   "id": "pacific-nelson",
   "metadata": {},
   "outputs": [],
   "source": [
    "save_dir = 'cxplain'\n",
    "model_dir = os.path.join(os.getcwd(), save_dir, 'results')\n",
    "if not os.path.isdir(model_dir):\n",
    "    os.makedirs(model_dir)"
   ]
  },
  {
   "cell_type": "markdown",
   "id": "unavailable-adobe",
   "metadata": {},
   "source": [
    "## Load Data"
   ]
  },
  {
   "cell_type": "code",
   "execution_count": 8,
   "id": "abroad-terry",
   "metadata": {},
   "outputs": [],
   "source": [
    "import itertools\n",
    "x_train=[]\n",
    "y_train=[]\n",
    "for i in range(10):\n",
    "    x_train.append(np.load(os.path.join(model_dir,'x_train_'+str(i)+'.npy'), allow_pickle=True))\n",
    "    y_train.append(np.load(os.path.join(model_dir,'y_train_'+str(i)+'.npy'), allow_pickle=True))\n",
    "x_train=np.array(list(itertools.chain(*x_train)))\n",
    "y_train=np.array(list(itertools.chain(*y_train)))\n",
    "x_val=np.load(os.path.join(model_dir,'x_val.npy'), allow_pickle=True)\n",
    "y_val=np.load(os.path.join(model_dir,'y_val.npy'), allow_pickle=True)\n",
    "x_test=np.load(os.path.join(model_dir,'x_test.npy'), allow_pickle=True)\n",
    "y_test=np.load(os.path.join(model_dir,'y_test.npy'), allow_pickle=True)"
   ]
  },
  {
   "cell_type": "markdown",
   "id": "warming-foster",
   "metadata": {},
   "source": [
    "## Load Model"
   ]
  },
  {
   "cell_type": "code",
   "execution_count": 9,
   "id": "encouraging-digit",
   "metadata": {},
   "outputs": [],
   "source": [
    "from tensorflow.keras.applications.resnet50 import ResNet50\n",
    "\n",
    "INPUT_SHAPE = (224,224,3)\n",
    "\n",
    "base_model = ResNet50(\n",
    "    include_top=True, weights='imagenet', \n",
    "    input_shape=INPUT_SHAPE\n",
    ")\n",
    "base_model.trainable = False\n",
    "\n",
    "model_input = Input(shape=INPUT_SHAPE, dtype='float32', name='input')\n",
    "\n",
    "net = base_model(model_input)\n",
    "out = Dense(10, activation='softmax')(net)\n",
    "\n",
    "model = Model(model_input, out)\n",
    "\n",
    "model_weights_path = 'model/20210511_21_28_36/model_weights.h5'\n",
    "\n",
    "model.load_weights(model_weights_path)\n",
    "model.trainable = False"
   ]
  },
  {
   "cell_type": "markdown",
   "id": "becoming-advertising",
   "metadata": {},
   "source": [
    "# CXPlain"
   ]
  },
  {
   "cell_type": "code",
   "execution_count": 16,
   "id": "fleet-constitution",
   "metadata": {},
   "outputs": [],
   "source": [
    "import sys\n",
    "sys.path.insert(0, '../../../cxplain')\n",
    "from tensorflow.python.keras.losses import categorical_crossentropy\n",
    "from cxplain.backend.masking.zero_masking import ZeroMasking\n",
    "from cxplain.backend.tensorflow_cxplain import TensorflowCXPlain as CXPlain"
   ]
  },
  {
   "cell_type": "code",
   "execution_count": 17,
   "id": "desirable-poland",
   "metadata": {},
   "outputs": [],
   "source": [
    "downsample_factors = (16, 16)\n",
    "batch_size = 32\n",
    "learning_rate=0.001\n",
    "masking_operation = ZeroMasking()\n",
    "loss = categorical_crossentropy"
   ]
  },
  {
   "cell_type": "code",
   "execution_count": 18,
   "id": "protective-bachelor",
   "metadata": {},
   "outputs": [],
   "source": [
    "## ResNet Explainer Model Builder Class\n",
    "from cxplain.backend.model_builders.base_model_builder import BaseModelBuilder\n",
    "from tensorflow.keras.applications.resnet50 import ResNet50\n",
    "from tensorflow.keras.models import Model\n",
    "\n",
    "\n",
    "class ResNetModelBuilder(BaseModelBuilder):\n",
    "    def __init__(self, downsample_factors, \n",
    "                 callbacks=list([]), early_stopping_patience=12,\n",
    "                 batch_size=64, num_epochs=100, validation_fraction=0.1, shuffle=True,\n",
    "                 learning_rate=0.0001, optimizer=None, verbose=0):\n",
    "        super(ResNetModelBuilder, self).__init__(callbacks, early_stopping_patience, batch_size, num_epochs,\n",
    "                                                 validation_fraction, shuffle, learning_rate, optimizer, verbose)\n",
    "        self.downsample_factors = downsample_factors\n",
    "        self.num_output_channels = 1\n",
    "\n",
    "    def build(self, input_layer):\n",
    "        downsampling_factor = int(np.prod(self.downsample_factors))\n",
    "        last_layer = input_layer\n",
    "        \n",
    "        base_model = ResNet50(\n",
    "            include_top=False, weights='imagenet', \n",
    "            input_shape=(224,224,3)\n",
    "        )\n",
    "        base_model = Model(base_model.input, base_model.get_layer('conv4_block3_2_conv').output)\n",
    "        base_model.trainable = True\n",
    "\n",
    "        last_layer = base_model(last_layer)\n",
    "\n",
    "        # Learn Phi \n",
    "        last_layer = Conv2D(1, 1)(last_layer)\n",
    "        \n",
    "        return last_layer"
   ]
  },
  {
   "cell_type": "code",
   "execution_count": 19,
   "id": "freelance-container",
   "metadata": {},
   "outputs": [],
   "source": [
    "model_input = Input((224,224,3))\n",
    "base_model = ResNet50(\n",
    "            include_top=False, weights='imagenet', \n",
    "            input_shape=(224,224,3)\n",
    "        )\n",
    "base_model = Model(base_model.input, base_model.get_layer('conv4_block3_2_conv').output)\n",
    "base_model.trainable = True\n",
    "\n",
    "last_layer = base_model(model_input)\n",
    "\n",
    "# Learn Phi \n",
    "last_layer = Conv2D(1, 1)(last_layer)\n",
    "\n",
    "m = Model(model_input, last_layer)"
   ]
  },
  {
   "cell_type": "code",
   "execution_count": 20,
   "id": "czech-incident",
   "metadata": {},
   "outputs": [],
   "source": [
    "model_builder = ResNetModelBuilder(downsample_factors, verbose=1, batch_size=32,\n",
    "                                   learning_rate=0.001)\n",
    "\n",
    "explainer = CXPlain(model, model_builder, masking_operation, loss, \n",
    "                    num_models=1, downsample_factors=downsample_factors, flatten_for_explained_model=False)"
   ]
  },
  {
   "cell_type": "code",
   "execution_count": 21,
   "id": "canadian-words",
   "metadata": {
    "scrolled": true
   },
   "outputs": [
    {
     "data": {
      "application/vnd.jupyter.widget-view+json": {
       "model_id": "ae09a31bec6e463a95129142986a495a",
       "version_major": 2,
       "version_minor": 0
      },
      "text/plain": [
       "  0%|          | 0/296 [00:00<?, ?it/s]"
      ]
     },
     "metadata": {},
     "output_type": "display_data"
    },
    {
     "name": "stdout",
     "output_type": "stream",
     "text": [
      "Created Masked Data\n",
      "Fitting Explainer Model\n",
      "Train on 8522 samples, validate on 947 samples\n",
      "Epoch 1/100\n",
      "8522/8522 [==============================] - 73s 9ms/sample - loss: 1.0599 - lambda_6_loss: 1.0554 - all_loss: 0.0019 - lambda_7_loss: 0.0020 - val_loss: 1.0563 - val_lambda_6_loss: 1.0520 - val_all_loss: 0.0015 - val_lambda_7_loss: 0.0017\n",
      "Epoch 2/100\n",
      "8522/8522 [==============================] - 31s 4ms/sample - loss: 1.0295 - lambda_6_loss: 1.0251 - all_loss: 0.0019 - lambda_7_loss: 0.0020 - val_loss: 1.0498 - val_lambda_6_loss: 1.0413 - val_all_loss: 0.0015 - val_lambda_7_loss: 0.0016\n",
      "Epoch 3/100\n",
      "8522/8522 [==============================] - 31s 4ms/sample - loss: 1.0231 - lambda_6_loss: 1.0201 - all_loss: 0.0019 - lambda_7_loss: 0.0020 - val_loss: 1.0311 - val_lambda_6_loss: 1.0279 - val_all_loss: 0.0015 - val_lambda_7_loss: 0.0016\n",
      "Epoch 4/100\n",
      "8522/8522 [==============================] - 31s 4ms/sample - loss: 1.0111 - lambda_6_loss: 1.0073 - all_loss: 0.0019 - lambda_7_loss: 0.0020 - val_loss: 1.0284 - val_lambda_6_loss: 1.0232 - val_all_loss: 0.0015 - val_lambda_7_loss: 0.0016\n",
      "Epoch 5/100\n",
      "8522/8522 [==============================] - 31s 4ms/sample - loss: 1.0032 - lambda_6_loss: 1.0002 - all_loss: 0.0019 - lambda_7_loss: 0.0021 - val_loss: 1.0427 - val_lambda_6_loss: 1.0377 - val_all_loss: 0.0015 - val_lambda_7_loss: 0.0017\n",
      "Epoch 6/100\n",
      "8522/8522 [==============================] - 31s 4ms/sample - loss: 0.9921 - lambda_6_loss: 0.9884 - all_loss: 0.0019 - lambda_7_loss: 0.0020 - val_loss: 1.0289 - val_lambda_6_loss: 1.0271 - val_all_loss: 0.0015 - val_lambda_7_loss: 0.0016\n",
      "Epoch 7/100\n",
      "8522/8522 [==============================] - 31s 4ms/sample - loss: 0.9777 - lambda_6_loss: 0.9737 - all_loss: 0.0019 - lambda_7_loss: 0.0020 - val_loss: 1.0045 - val_lambda_6_loss: 1.0003 - val_all_loss: 0.0015 - val_lambda_7_loss: 0.0017\n",
      "Epoch 8/100\n",
      "8522/8522 [==============================] - 31s 4ms/sample - loss: 0.9632 - lambda_6_loss: 0.9591 - all_loss: 0.0019 - lambda_7_loss: 0.0020 - val_loss: 1.0136 - val_lambda_6_loss: 1.0120 - val_all_loss: 0.0015 - val_lambda_7_loss: 0.0016\n",
      "Epoch 9/100\n",
      "8522/8522 [==============================] - 31s 4ms/sample - loss: 0.9459 - lambda_6_loss: 0.9424 - all_loss: 0.0019 - lambda_7_loss: 0.0020 - val_loss: 1.0065 - val_lambda_6_loss: 1.0024 - val_all_loss: 0.0015 - val_lambda_7_loss: 0.0017\n",
      "Epoch 10/100\n",
      "8522/8522 [==============================] - 31s 4ms/sample - loss: 0.9194 - lambda_6_loss: 0.9152 - all_loss: 0.0019 - lambda_7_loss: 0.0020 - val_loss: 1.0116 - val_lambda_6_loss: 1.0069 - val_all_loss: 0.0015 - val_lambda_7_loss: 0.0016\n",
      "Epoch 11/100\n",
      "8522/8522 [==============================] - 31s 4ms/sample - loss: 0.8869 - lambda_6_loss: 0.8830 - all_loss: 0.0019 - lambda_7_loss: 0.0020 - val_loss: 1.0146 - val_lambda_6_loss: 1.0126 - val_all_loss: 0.0015 - val_lambda_7_loss: 0.0017\n",
      "Epoch 12/100\n",
      "8522/8522 [==============================] - 31s 4ms/sample - loss: 0.8481 - lambda_6_loss: 0.8439 - all_loss: 0.0019 - lambda_7_loss: 0.0020 - val_loss: 1.0126 - val_lambda_6_loss: 1.0098 - val_all_loss: 0.0015 - val_lambda_7_loss: 0.0016\n",
      "Epoch 13/100\n",
      "8522/8522 [==============================] - 31s 4ms/sample - loss: 0.7996 - lambda_6_loss: 0.7951 - all_loss: 0.0019 - lambda_7_loss: 0.0020 - val_loss: 1.0278 - val_lambda_6_loss: 1.0230 - val_all_loss: 0.0015 - val_lambda_7_loss: 0.0017\n",
      "Epoch 14/100\n",
      "8522/8522 [==============================] - 31s 4ms/sample - loss: 0.7483 - lambda_6_loss: 0.7437 - all_loss: 0.0019 - lambda_7_loss: 0.0020 - val_loss: 1.0419 - val_lambda_6_loss: 1.0343 - val_all_loss: 0.0016 - val_lambda_7_loss: 0.0017\n",
      "Epoch 15/100\n",
      "8522/8522 [==============================] - 31s 4ms/sample - loss: 0.6983 - lambda_6_loss: 0.6945 - all_loss: 0.0019 - lambda_7_loss: 0.0020 - val_loss: 1.0624 - val_lambda_6_loss: 1.0590 - val_all_loss: 0.0015 - val_lambda_7_loss: 0.0016\n",
      "Epoch 16/100\n",
      "8522/8522 [==============================] - 31s 4ms/sample - loss: 0.6518 - lambda_6_loss: 0.6482 - all_loss: 0.0019 - lambda_7_loss: 0.0020 - val_loss: 1.0559 - val_lambda_6_loss: 1.0519 - val_all_loss: 0.0015 - val_lambda_7_loss: 0.0016\n",
      "Epoch 17/100\n",
      "8522/8522 [==============================] - 31s 4ms/sample - loss: 0.6067 - lambda_6_loss: 0.6024 - all_loss: 0.0019 - lambda_7_loss: 0.0020 - val_loss: 1.0588 - val_lambda_6_loss: 1.0551 - val_all_loss: 0.0015 - val_lambda_7_loss: 0.0016\n",
      "Epoch 18/100\n",
      "8522/8522 [==============================] - 31s 4ms/sample - loss: 0.5679 - lambda_6_loss: 0.5640 - all_loss: 0.0019 - lambda_7_loss: 0.0020 - val_loss: 1.1008 - val_lambda_6_loss: 1.0956 - val_all_loss: 0.0015 - val_lambda_7_loss: 0.0016\n",
      "Epoch 19/100\n",
      "8522/8522 [==============================] - 31s 4ms/sample - loss: 0.5334 - lambda_6_loss: 0.5293 - all_loss: 0.0019 - lambda_7_loss: 0.0020 - val_loss: 1.0842 - val_lambda_6_loss: 1.0804 - val_all_loss: 0.0015 - val_lambda_7_loss: 0.0016\n"
     ]
    }
   ],
   "source": [
    "t = time.time()\n",
    "explainer.fit(x_train, y_train)\n",
    "training_time = time.time() - t\n",
    "\n",
    "with open(os.path.join(model_dir, 'training_time.pkl'), 'wb') as f:\n",
    "    pickle.dump(training_time, f)"
   ]
  },
  {
   "cell_type": "markdown",
   "id": "rocky-cross",
   "metadata": {},
   "source": [
    "# Explain w/ CXPlain"
   ]
  },
  {
   "cell_type": "markdown",
   "id": "spectacular-murder",
   "metadata": {},
   "source": [
    "### Load Images"
   ]
  },
  {
   "cell_type": "code",
   "execution_count": 22,
   "id": "coral-biotechnology",
   "metadata": {},
   "outputs": [],
   "source": [
    "images_dir = os.path.join(os.getcwd(), 'images')\n",
    "images = np.load(os.path.join(images_dir, 'processed_images.npy'), allow_pickle=True)"
   ]
  },
  {
   "cell_type": "markdown",
   "id": "based-liberal",
   "metadata": {},
   "source": [
    "### Explain"
   ]
  },
  {
   "cell_type": "code",
   "execution_count": 23,
   "id": "touched-lying",
   "metadata": {},
   "outputs": [],
   "source": [
    "t = time.time()\n",
    "explanations = explainer.explain(images)\n",
    "explaining_time = time.time() - t"
   ]
  },
  {
   "cell_type": "markdown",
   "id": "undefined-extension",
   "metadata": {},
   "source": [
    "### Save"
   ]
  },
  {
   "cell_type": "code",
   "execution_count": 24,
   "id": "rising-reflection",
   "metadata": {},
   "outputs": [],
   "source": [
    "with open(os.path.join(model_dir, 'explaining_time.pkl'), 'wb') as f:\n",
    "    pickle.dump(explaining_time, f)\n",
    "    \n",
    "explanations.dump(os.path.join(model_dir, 'explanations.npy'))"
   ]
  }
 ],
 "metadata": {
  "kernelspec": {
   "display_name": "Python 3",
   "language": "python",
   "name": "python3"
  },
  "language_info": {
   "codemirror_mode": {
    "name": "ipython",
    "version": 3
   },
   "file_extension": ".py",
   "mimetype": "text/x-python",
   "name": "python",
   "nbconvert_exporter": "python",
   "pygments_lexer": "ipython3",
   "version": "3.7.9"
  }
 },
 "nbformat": 4,
 "nbformat_minor": 5
}
