{
 "cells": [
  {
   "cell_type": "code",
   "execution_count": 1,
   "id": "closed-funds",
   "metadata": {},
   "outputs": [
    {
     "ename": "RuntimeError",
     "evalue": "module compiled against API version 0xe but this version of numpy is 0xd",
     "output_type": "error",
     "traceback": [
      "\u001b[0;31m---------------------------------------------------------------------------\u001b[0m",
      "\u001b[0;31mRuntimeError\u001b[0m                              Traceback (most recent call last)",
      "\u001b[0;31mRuntimeError\u001b[0m: module compiled against API version 0xe but this version of numpy is 0xd"
     ]
    }
   ],
   "source": [
    "import sys\n",
    "sys.path.insert(0, '../../../../fastshap_tf/')\n",
    "from fastshap import ResizeMask"
   ]
  },
  {
   "cell_type": "code",
   "execution_count": 2,
   "id": "comparable-nigeria",
   "metadata": {},
   "outputs": [],
   "source": [
    "import pickle\n",
    "import numpy as np\n",
    "import shap\n",
    "from tqdm.notebook import tqdm\n",
    "import time"
   ]
  },
  {
   "cell_type": "code",
   "execution_count": 3,
   "id": "authentic-emperor",
   "metadata": {},
   "outputs": [],
   "source": [
    "import tensorflow as tf\n",
    "import tensorflow_datasets as tfds\n",
    "\n",
    "from datetime import datetime\n",
    "import os"
   ]
  },
  {
   "cell_type": "code",
   "execution_count": 4,
   "id": "bacterial-blind",
   "metadata": {},
   "outputs": [],
   "source": [
    "from tensorflow.keras.layers import (Input, Layer, Dense, Lambda, \n",
    "                                     Dropout, Multiply, BatchNormalization, \n",
    "                                     Reshape, Concatenate, Conv2D, Permute)\n",
    "from tensorflow.keras.models import Model, Sequential\n",
    "from tensorflow.keras import regularizers\n",
    "from tensorflow.keras import backend as K\n",
    "from tensorflow.keras.callbacks import ModelCheckpoint, EarlyStopping, ReduceLROnPlateau"
   ]
  },
  {
   "cell_type": "code",
   "execution_count": 5,
   "id": "laughing-vancouver",
   "metadata": {},
   "outputs": [],
   "source": [
    "#Select GPU\n",
    "os.environ['CUDA_VISIBLE_DEVICES'] = '3'"
   ]
  },
  {
   "cell_type": "markdown",
   "id": "unavailable-adobe",
   "metadata": {},
   "source": [
    "## Load Data"
   ]
  },
  {
   "cell_type": "code",
   "execution_count": 6,
   "id": "intelligent-guinea",
   "metadata": {
    "ExecuteTime": {
     "end_time": "2021-03-16T19:34:36.732265Z",
     "start_time": "2021-03-16T19:34:36.267950Z"
    },
    "scrolled": true
   },
   "outputs": [],
   "source": [
    "(ds_train, ds_val, ds_test), ds_info = tfds.load(\n",
    "    'imagenette/full-size-v2',\n",
    "    split=['train', 'validation[:50%]', 'validation[-50%:]'],\n",
    "    as_supervised=False,\n",
    "    with_info=True\n",
    ")"
   ]
  },
  {
   "cell_type": "markdown",
   "id": "young-antibody",
   "metadata": {},
   "source": [
    "### Batch Data"
   ]
  },
  {
   "cell_type": "code",
   "execution_count": 7,
   "id": "mathematical-cartridge",
   "metadata": {
    "ExecuteTime": {
     "end_time": "2021-03-16T19:34:38.036975Z",
     "start_time": "2021-03-16T19:34:38.030145Z"
    }
   },
   "outputs": [],
   "source": [
    "def batch_data(dataset, fn, batch_size=32):\n",
    "    dataset = dataset.map(fn)\n",
    "    dataset = dataset.batch(batch_size)\n",
    "    dataset = dataset.prefetch(tf.data.experimental.AUTOTUNE)\n",
    "    \n",
    "    return dataset"
   ]
  },
  {
   "cell_type": "markdown",
   "id": "electrical-nature",
   "metadata": {},
   "source": [
    "### Reformat Data"
   ]
  },
  {
   "cell_type": "code",
   "execution_count": 8,
   "id": "hungry-master",
   "metadata": {
    "ExecuteTime": {
     "end_time": "2021-03-16T19:34:39.459330Z",
     "start_time": "2021-03-16T19:34:39.356585Z"
    }
   },
   "outputs": [],
   "source": [
    "BATCH_SIZE = 32\n",
    "\n",
    "def reformat(input_dict):\n",
    "    \n",
    "    i = input_dict['image']\n",
    "    i = tf.cast(i, tf.float32)\n",
    "    i = tf.image.resize_with_crop_or_pad(i, 224, 224)\n",
    "    i = tf.keras.applications.resnet50.preprocess_input(i)\n",
    "    \n",
    "    l = tf.one_hot(input_dict['label'], depth = 10)\n",
    "    \n",
    "    return (i, l)\n",
    "\n",
    "ds_train = batch_data(ds_train, reformat, BATCH_SIZE)\n",
    "ds_val = batch_data(ds_val, reformat, BATCH_SIZE)\n",
    "ds_test = batch_data(ds_test, reformat, BATCH_SIZE)"
   ]
  },
  {
   "cell_type": "markdown",
   "id": "warming-foster",
   "metadata": {},
   "source": [
    "## Load Model"
   ]
  },
  {
   "cell_type": "code",
   "execution_count": 9,
   "id": "encouraging-digit",
   "metadata": {},
   "outputs": [],
   "source": [
    "from tensorflow.keras.applications.resnet50 import ResNet50\n",
    "\n",
    "INPUT_SHAPE = (224,224,3)\n",
    "\n",
    "base_model = ResNet50(\n",
    "    include_top=True, weights='imagenet', \n",
    "    input_shape=INPUT_SHAPE\n",
    ")\n",
    "base_model.trainable = False\n",
    "\n",
    "model_input = Input(shape=INPUT_SHAPE, dtype='float32', name='input')\n",
    "\n",
    "net = base_model(model_input)\n",
    "out = Dense(10, activation='softmax')(net)\n",
    "\n",
    "model = Model(model_input, out)\n",
    "\n",
    "model_weights_path = '../model/20210511_21_28_36/model_weights.h5'\n",
    "\n",
    "model.load_weights(model_weights_path)\n",
    "model.trainable = False"
   ]
  },
  {
   "cell_type": "markdown",
   "id": "eastern-diving",
   "metadata": {},
   "source": [
    "# Train Evaluator"
   ]
  },
  {
   "cell_type": "markdown",
   "id": "verbal-superintendent",
   "metadata": {},
   "source": [
    "### Prepare Dataset w/ Model Predictions"
   ]
  },
  {
   "cell_type": "code",
   "execution_count": 10,
   "id": "dynamic-bubble",
   "metadata": {},
   "outputs": [],
   "source": [
    "@tf.function\n",
    "def make_prediction_data(x, y):\n",
    "    with tf.device(\"gpu:3\"):\n",
    "        y_model = model(x)\n",
    "    \n",
    "    return (x, y_model)\n",
    "\n",
    "with tf.device(\"gpu:3\"):\n",
    "    ds_train_pred = ds_train.map(make_prediction_data)\n",
    "    ds_val_pred = ds_val.map(make_prediction_data)\n",
    "    ds_test_pred = ds_test.map(make_prediction_data)"
   ]
  },
  {
   "cell_type": "markdown",
   "id": "absent-wildlife",
   "metadata": {},
   "source": [
    "### Save Dir"
   ]
  },
  {
   "cell_type": "code",
   "execution_count": 11,
   "id": "rubber-pontiac",
   "metadata": {},
   "outputs": [],
   "source": [
    "save_dir = 'evaluator'\n",
    "model_dir = os.path.join(os.getcwd(), save_dir)\n",
    "if not os.path.isdir(model_dir):\n",
    "    os.makedirs(model_dir)"
   ]
  },
  {
   "cell_type": "markdown",
   "id": "egyptian-observation",
   "metadata": {},
   "source": [
    "### Initialize Model"
   ]
  },
  {
   "cell_type": "code",
   "execution_count": 12,
   "id": "loved-secret",
   "metadata": {},
   "outputs": [],
   "source": [
    "class Random_Bernoulli_Sampler(Layer):\n",
    "    '''\n",
    "    Layer to Sample r\n",
    "    '''\n",
    "    def __init__(self, num_features, **kwargs):\n",
    "        super(Random_Bernoulli_Sampler, self).__init__(**kwargs)\n",
    "        \n",
    "        self.num_features = num_features\n",
    "        \n",
    "        \n",
    "    def call(self,  logits):\n",
    "        batch_size = tf.shape(logits)[0]\n",
    "        \n",
    "        u = tf.random.uniform(shape=(batch_size, self.num_features),\n",
    "                                    minval=np.finfo(\n",
    "                                        tf.float32.as_numpy_dtype).tiny,\n",
    "                                    maxval=1.0) \n",
    "\n",
    "        r = K.cast(tf.stop_gradient(u > 0.5), tf.float32)\n",
    "        \n",
    "        return r"
   ]
  },
  {
   "cell_type": "code",
   "execution_count": 13,
   "id": "previous-attempt",
   "metadata": {},
   "outputs": [],
   "source": [
    "base_model = ResNet50(\n",
    "    include_top=False, weights='imagenet', \n",
    "    input_shape=INPUT_SHAPE, pooling='avg'\n",
    ")\n",
    "base_model.trainable = True\n",
    "\n",
    "model_input = Input(shape=INPUT_SHAPE, dtype='float32', name='input')\n",
    "R = Random_Bernoulli_Sampler(14*14)(model_input)\n",
    "R = ResizeMask(in_shape=INPUT_SHAPE, mask_size=14*14)(R)\n",
    "xr = Multiply()([model_input, R])\n",
    "\n",
    "net = base_model(xr)\n",
    "out = Dense(10, activation='softmax')(net)\n",
    "\n",
    "evaluator_model = Model(model_input, out)"
   ]
  },
  {
   "cell_type": "markdown",
   "id": "square-cedar",
   "metadata": {},
   "source": [
    "### Train Model"
   ]
  },
  {
   "cell_type": "code",
   "execution_count": 14,
   "id": "quality-drunk",
   "metadata": {},
   "outputs": [
    {
     "name": "stdout",
     "output_type": "stream",
     "text": [
      "Epoch 1/100\n",
      "296/296 [==============================] - ETA: 0s - loss: 1.2913 - auroc: 0.9084 - auprc: 0.6571 - accuracy: 0.6109\n",
      "Epoch 00001: val_loss improved from inf to 1.39231, saving model to /gpfs/data/paulab/nj594/fast_shap/experiments/images/imagenette/evaluation/evaluator/model_weights.h5\n",
      "296/296 [==============================] - 152s 515ms/step - loss: 1.2913 - auroc: 0.9084 - auprc: 0.6571 - accuracy: 0.6109 - val_loss: 1.3923 - val_auroc: 0.8918 - val_auprc: 0.6019 - val_accuracy: 0.5550\n",
      "Epoch 2/100\n",
      "296/296 [==============================] - ETA: 0s - loss: 0.7731 - auroc: 0.9633 - auprc: 0.8389 - accuracy: 0.7577\n",
      "Epoch 00002: val_loss did not improve from 1.39231\n",
      "296/296 [==============================] - 47s 157ms/step - loss: 0.7731 - auroc: 0.9633 - auprc: 0.8389 - accuracy: 0.7577 - val_loss: 2.7971 - val_auroc: 0.8034 - val_auprc: 0.4614 - val_accuracy: 0.4638\n",
      "Epoch 3/100\n",
      "296/296 [==============================] - ETA: 0s - loss: 0.6722 - auroc: 0.9721 - auprc: 0.8702 - accuracy: 0.7841\n",
      "Epoch 00003: val_loss did not improve from 1.39231\n",
      "296/296 [==============================] - 44s 148ms/step - loss: 0.6722 - auroc: 0.9721 - auprc: 0.8702 - accuracy: 0.7841 - val_loss: 1.4829 - val_auroc: 0.8894 - val_auprc: 0.6094 - val_accuracy: 0.5489\n",
      "Epoch 4/100\n",
      "296/296 [==============================] - ETA: 0s - loss: 0.5578 - auroc: 0.9806 - auprc: 0.9039 - accuracy: 0.8172\n",
      "Epoch 00004: val_loss did not improve from 1.39231\n",
      "296/296 [==============================] - 38s 129ms/step - loss: 0.5578 - auroc: 0.9806 - auprc: 0.9039 - accuracy: 0.8172 - val_loss: 1.6931 - val_auroc: 0.8798 - val_auprc: 0.6206 - val_accuracy: 0.5739\n",
      "Epoch 5/100\n",
      "296/296 [==============================] - ETA: 0s - loss: 0.4981 - auroc: 0.9845 - auprc: 0.9191 - accuracy: 0.8374\n",
      "Epoch 00005: val_loss did not improve from 1.39231\n",
      "296/296 [==============================] - 40s 134ms/step - loss: 0.4981 - auroc: 0.9845 - auprc: 0.9191 - accuracy: 0.8374 - val_loss: 1.5682 - val_auroc: 0.8990 - val_auprc: 0.6350 - val_accuracy: 0.5999\n",
      "Epoch 6/100\n",
      "296/296 [==============================] - ETA: 0s - loss: 0.4244 - auroc: 0.9886 - auprc: 0.9377 - accuracy: 0.8611\n",
      "Epoch 00006: val_loss did not improve from 1.39231\n",
      "\n",
      "Epoch 00006: ReduceLROnPlateau reducing learning rate to 0.0009500000451225787.\n",
      "296/296 [==============================] - 39s 131ms/step - loss: 0.4244 - auroc: 0.9886 - auprc: 0.9377 - accuracy: 0.8611 - val_loss: 1.6681 - val_auroc: 0.8922 - val_auprc: 0.6285 - val_accuracy: 0.5892\n",
      "Epoch 7/100\n",
      "296/296 [==============================] - ETA: 0s - loss: 0.3667 - auroc: 0.9909 - auprc: 0.9512 - accuracy: 0.8770\n",
      "Epoch 00007: val_loss did not improve from 1.39231\n",
      "296/296 [==============================] - 42s 143ms/step - loss: 0.3667 - auroc: 0.9909 - auprc: 0.9512 - accuracy: 0.8770 - val_loss: 2.5267 - val_auroc: 0.8639 - val_auprc: 0.5559 - val_accuracy: 0.5790\n",
      "Epoch 8/100\n",
      "296/296 [==============================] - ETA: 0s - loss: 0.3242 - auroc: 0.9927 - auprc: 0.9599 - accuracy: 0.8921\n",
      "Epoch 00008: val_loss did not improve from 1.39231\n",
      "296/296 [==============================] - 43s 144ms/step - loss: 0.3242 - auroc: 0.9927 - auprc: 0.9599 - accuracy: 0.8921 - val_loss: 3.3942 - val_auroc: 0.8117 - val_auprc: 0.4526 - val_accuracy: 0.5158\n",
      "Epoch 9/100\n",
      "296/296 [==============================] - ETA: 0s - loss: 0.3177 - auroc: 0.9928 - auprc: 0.9610 - accuracy: 0.8944\n",
      "Epoch 00009: val_loss did not improve from 1.39231\n",
      "296/296 [==============================] - 43s 144ms/step - loss: 0.3177 - auroc: 0.9928 - auprc: 0.9610 - accuracy: 0.8944 - val_loss: 1.9194 - val_auroc: 0.8819 - val_auprc: 0.6278 - val_accuracy: 0.5877\n",
      "Epoch 10/100\n",
      "296/296 [==============================] - ETA: 0s - loss: 0.2486 - auroc: 0.9959 - auprc: 0.9747 - accuracy: 0.9180\n",
      "Epoch 00010: val_loss improved from 1.39231 to 1.38693, saving model to /gpfs/data/paulab/nj594/fast_shap/experiments/images/imagenette/evaluation/evaluator/model_weights.h5\n",
      "296/296 [==============================] - 42s 143ms/step - loss: 0.2486 - auroc: 0.9959 - auprc: 0.9747 - accuracy: 0.9180 - val_loss: 1.3869 - val_auroc: 0.9188 - val_auprc: 0.7373 - val_accuracy: 0.6743\n",
      "Epoch 11/100\n",
      "296/296 [==============================] - ETA: 0s - loss: 0.2859 - auroc: 0.9943 - auprc: 0.9672 - accuracy: 0.9043\n",
      "Epoch 00011: val_loss improved from 1.38693 to 0.95027, saving model to /gpfs/data/paulab/nj594/fast_shap/experiments/images/imagenette/evaluation/evaluator/model_weights.h5\n",
      "296/296 [==============================] - 43s 145ms/step - loss: 0.2859 - auroc: 0.9943 - auprc: 0.9672 - accuracy: 0.9043 - val_loss: 0.9503 - val_auroc: 0.9517 - val_auprc: 0.8205 - val_accuracy: 0.7452\n",
      "Epoch 12/100\n",
      "296/296 [==============================] - ETA: 0s - loss: 0.1915 - auroc: 0.9976 - auprc: 0.9842 - accuracy: 0.9363\n",
      "Epoch 00012: val_loss did not improve from 0.95027\n",
      "296/296 [==============================] - 42s 143ms/step - loss: 0.1915 - auroc: 0.9976 - auprc: 0.9842 - accuracy: 0.9363 - val_loss: 0.9636 - val_auroc: 0.9483 - val_auprc: 0.8332 - val_accuracy: 0.7579\n",
      "Epoch 13/100\n",
      "296/296 [==============================] - ETA: 0s - loss: 0.1770 - auroc: 0.9977 - auprc: 0.9853 - accuracy: 0.9400\n",
      "Epoch 00013: val_loss did not improve from 0.95027\n",
      "296/296 [==============================] - 43s 144ms/step - loss: 0.1770 - auroc: 0.9977 - auprc: 0.9853 - accuracy: 0.9400 - val_loss: 1.5554 - val_auroc: 0.9043 - val_auprc: 0.7078 - val_accuracy: 0.6417\n",
      "Epoch 14/100\n",
      "296/296 [==============================] - ETA: 0s - loss: 0.1622 - auroc: 0.9978 - auprc: 0.9870 - accuracy: 0.9467\n",
      "Epoch 00014: val_loss did not improve from 0.95027\n",
      "296/296 [==============================] - 42s 143ms/step - loss: 0.1622 - auroc: 0.9978 - auprc: 0.9870 - accuracy: 0.9467 - val_loss: 1.5025 - val_auroc: 0.9180 - val_auprc: 0.7182 - val_accuracy: 0.6809\n",
      "Epoch 15/100\n",
      "296/296 [==============================] - ETA: 0s - loss: 0.1711 - auroc: 0.9974 - auprc: 0.9860 - accuracy: 0.9436\n",
      "Epoch 00015: val_loss did not improve from 0.95027\n",
      "296/296 [==============================] - 42s 143ms/step - loss: 0.1711 - auroc: 0.9974 - auprc: 0.9860 - accuracy: 0.9436 - val_loss: 1.3007 - val_auroc: 0.9289 - val_auprc: 0.7756 - val_accuracy: 0.7023\n",
      "Epoch 16/100\n",
      "120/296 [===========>..................] - ETA: 20s - loss: 0.1525 - auroc: 0.9979 - auprc: 0.9884 - accuracy: 0.9484"
     ]
    },
    {
     "name": "stderr",
     "output_type": "stream",
     "text": [
      "IOPub message rate exceeded.\n",
      "The notebook server will temporarily stop sending output\n",
      "to the client in order to avoid crashing it.\n",
      "To change this limit, set the config variable\n",
      "`--NotebookApp.iopub_msg_rate_limit`.\n",
      "\n",
      "Current values:\n",
      "NotebookApp.iopub_msg_rate_limit=1000.0 (msgs/sec)\n",
      "NotebookApp.rate_limit_window=3.0 (secs)\n",
      "\n"
     ]
    },
    {
     "name": "stdout",
     "output_type": "stream",
     "text": [
      "296/296 [==============================] - ETA: 0s - loss: 0.0416 - auroc: 0.9997 - auprc: 0.9984 - accuracy: 0.9865\n",
      "Epoch 00039: val_loss did not improve from 0.86846\n",
      "\n",
      "Epoch 00039: ReduceLROnPlateau reducing learning rate to 0.000735091819660738.\n",
      "296/296 [==============================] - 37s 125ms/step - loss: 0.0416 - auroc: 0.9997 - auprc: 0.9984 - accuracy: 0.9865 - val_loss: 1.4299 - val_auroc: 0.9275 - val_auprc: 0.7852 - val_accuracy: 0.7452\n",
      "Epoch 40/100\n",
      "296/296 [==============================] - ETA: 0s - loss: 0.0421 - auroc: 0.9998 - auprc: 0.9989 - accuracy: 0.9854\n",
      "Epoch 00040: val_loss did not improve from 0.86846\n",
      "296/296 [==============================] - 37s 126ms/step - loss: 0.0421 - auroc: 0.9998 - auprc: 0.9989 - accuracy: 0.9854 - val_loss: 0.9447 - val_auroc: 0.9534 - val_auprc: 0.8652 - val_accuracy: 0.8043\n",
      "Epoch 41/100\n",
      "296/296 [==============================] - ETA: 0s - loss: 0.0556 - auroc: 0.9992 - auprc: 0.9969 - accuracy: 0.9829\n",
      "Epoch 00041: val_loss did not improve from 0.86846\n",
      "296/296 [==============================] - 37s 127ms/step - loss: 0.0556 - auroc: 0.9992 - auprc: 0.9969 - accuracy: 0.9829 - val_loss: 1.1996 - val_auroc: 0.9438 - val_auprc: 0.8207 - val_accuracy: 0.7599\n",
      "Epoch 42/100\n",
      "296/296 [==============================] - ETA: 0s - loss: 0.0293 - auroc: 0.9996 - auprc: 0.9987 - accuracy: 0.9918\n",
      "Epoch 00042: val_loss did not improve from 0.86846\n",
      "296/296 [==============================] - 37s 126ms/step - loss: 0.0293 - auroc: 0.9996 - auprc: 0.9987 - accuracy: 0.9918 - val_loss: 1.2729 - val_auroc: 0.9387 - val_auprc: 0.8176 - val_accuracy: 0.7686\n",
      "Epoch 43/100\n",
      "296/296 [==============================] - ETA: 0s - loss: 0.0531 - auroc: 0.9993 - auprc: 0.9975 - accuracy: 0.9846\n",
      "Epoch 00043: val_loss did not improve from 0.86846\n",
      "296/296 [==============================] - 37s 126ms/step - loss: 0.0531 - auroc: 0.9993 - auprc: 0.9975 - accuracy: 0.9846 - val_loss: 4.6855 - val_auroc: 0.8006 - val_auprc: 0.4682 - val_accuracy: 0.5245\n",
      "Epoch 44/100\n",
      "296/296 [==============================] - ETA: 0s - loss: 0.0616 - auroc: 0.9995 - auprc: 0.9974 - accuracy: 0.9808\n",
      "Epoch 00044: val_loss did not improve from 0.86846\n",
      "\n",
      "Epoch 00044: ReduceLROnPlateau reducing learning rate to 0.0006983372120885178.\n",
      "296/296 [==============================] - 37s 126ms/step - loss: 0.0616 - auroc: 0.9995 - auprc: 0.9974 - accuracy: 0.9808 - val_loss: 0.8959 - val_auroc: 0.9578 - val_auprc: 0.8798 - val_accuracy: 0.8242\n",
      "Epoch 45/100\n",
      "296/296 [==============================] - ETA: 0s - loss: 0.0265 - auroc: 0.9998 - auprc: 0.9993 - accuracy: 0.9916\n",
      "Epoch 00045: val_loss did not improve from 0.86846\n",
      "296/296 [==============================] - 37s 126ms/step - loss: 0.0265 - auroc: 0.9998 - auprc: 0.9993 - accuracy: 0.9916 - val_loss: 0.9071 - val_auroc: 0.9573 - val_auprc: 0.8761 - val_accuracy: 0.8078\n",
      "Epoch 46/100\n",
      "296/296 [==============================] - ETA: 0s - loss: 0.0145 - auroc: 1.0000 - auprc: 0.9999 - accuracy: 0.9959\n",
      "Epoch 00046: val_loss did not improve from 0.86846\n",
      "296/296 [==============================] - 37s 126ms/step - loss: 0.0145 - auroc: 1.0000 - auprc: 0.9999 - accuracy: 0.9959 - val_loss: 0.9380 - val_auroc: 0.9557 - val_auprc: 0.8754 - val_accuracy: 0.8257\n",
      "Epoch 47/100\n",
      "296/296 [==============================] - ETA: 0s - loss: 0.0117 - auroc: 0.9999 - auprc: 0.9999 - accuracy: 0.9962\n",
      "Epoch 00047: val_loss did not improve from 0.86846\n",
      "296/296 [==============================] - 37s 125ms/step - loss: 0.0117 - auroc: 0.9999 - auprc: 0.9999 - accuracy: 0.9962 - val_loss: 0.8911 - val_auroc: 0.9593 - val_auprc: 0.8795 - val_accuracy: 0.8287\n",
      "Epoch 48/100\n",
      "296/296 [==============================] - ETA: 0s - loss: 0.0233 - auroc: 0.9999 - auprc: 0.9995 - accuracy: 0.9921\n",
      "Epoch 00048: val_loss did not improve from 0.86846\n",
      "296/296 [==============================] - 37s 126ms/step - loss: 0.0233 - auroc: 0.9999 - auprc: 0.9995 - accuracy: 0.9921 - val_loss: 1.3068 - val_auroc: 0.9382 - val_auprc: 0.8194 - val_accuracy: 0.7834\n",
      "Epoch 49/100\n",
      "296/296 [==============================] - ETA: 0s - loss: 0.0433 - auroc: 0.9994 - auprc: 0.9980 - accuracy: 0.9862\n",
      "Epoch 00049: val_loss did not improve from 0.86846\n",
      "\n",
      "Epoch 00049: ReduceLROnPlateau reducing learning rate to 0.0006634203542489559.\n",
      "296/296 [==============================] - 37s 126ms/step - loss: 0.0433 - auroc: 0.9994 - auprc: 0.9980 - accuracy: 0.9862 - val_loss: 1.3850 - val_auroc: 0.9291 - val_auprc: 0.7907 - val_accuracy: 0.7482\n",
      "/gpfs/data/paulab/nj594/fast_shap/experiments/images/imagenette/evaluation/evaluator/model_weights.h5\n"
     ]
    }
   ],
   "source": [
    "LR = 1e-3\n",
    "\n",
    "# Metrics\n",
    "METRICS = [ \n",
    "  tf.keras.metrics.AUC(name='auroc'),\n",
    "  tf.keras.metrics.AUC(curve='PR', name='auprc'),\n",
    "  tf.keras.metrics.TopKCategoricalAccuracy(k=1, name='accuracy'),\n",
    "]\n",
    "\n",
    "# Model Checkpointing\n",
    "model_weights_path = os.path.join(model_dir, 'model_weights.h5')\n",
    "checkpoint = ModelCheckpoint(model_weights_path, monitor='val_loss', verbose=1, \n",
    "                             save_best_only=True, mode='min', save_weights_only=True)\n",
    "\n",
    "# LR Schedule\n",
    "reduceLR = ReduceLROnPlateau(monitor='val_loss', factor=0.95, patience=5, \n",
    "                             verbose=1, mode='min', cooldown=1, min_lr=1e-3/10)\n",
    "\n",
    "# Early Stopping \n",
    "earlyStop = EarlyStopping(monitor=\"val_loss\", mode=\"min\", patience=20) \n",
    "\n",
    "# Compile Model\n",
    "CALLBACKS = [checkpoint, earlyStop, reduceLR]\n",
    "OPTIMIZER = tf.keras.optimizers.Adam(LR)\n",
    "\n",
    "evaluator_model.compile(\n",
    "    loss='categorical_crossentropy',\n",
    "    optimizer=OPTIMIZER,\n",
    "    metrics=METRICS,\n",
    ")\n",
    "\n",
    "# Train Model\n",
    "evaluator_model.fit(ds_train,\n",
    "          epochs = 100,\n",
    "          validation_data = ds_val,\n",
    "          callbacks = CALLBACKS)\n",
    "\n",
    "# Get Checkpointed Model\n",
    "print(model_weights_path)\n",
    "evaluator_model.load_weights(model_weights_path)\n",
    "evaluator_model = Sequential(   \n",
    "            [l for l in evaluator_model.layers[-2:]]\n",
    "        )\n",
    "evaluator_model.trainable = False"
   ]
  },
  {
   "cell_type": "code",
   "execution_count": 17,
   "id": "critical-bubble",
   "metadata": {},
   "outputs": [
    {
     "name": "stdout",
     "output_type": "stream",
     "text": [
      "62/62 [==============================] - 4s 68ms/step - loss: 0.9058 - auroc: 0.9495 - auprc: 0.8493 - accuracy: 0.7999\n"
     ]
    },
    {
     "data": {
      "text/plain": [
       "[0.9057774543762207, 0.9494587779045105, 0.849315881729126, 0.7998641133308411]"
      ]
     },
     "execution_count": 17,
     "metadata": {},
     "output_type": "execute_result"
    }
   ],
   "source": [
    "# Evaluate\n",
    "evaluator_model.compile(\n",
    "    loss='categorical_crossentropy',\n",
    "    optimizer=OPTIMIZER,\n",
    "    metrics=METRICS,\n",
    ")\n",
    "evaluator_model.evaluate(ds_test)"
   ]
  },
  {
   "cell_type": "code",
   "execution_count": 18,
   "id": "discrete-laundry",
   "metadata": {},
   "outputs": [
    {
     "name": "stdout",
     "output_type": "stream",
     "text": [
      "Model: \"sequential\"\n",
      "_________________________________________________________________\n",
      "Layer (type)                 Output Shape              Param #   \n",
      "=================================================================\n",
      "resnet50 (Functional)        (None, 2048)              23587712  \n",
      "_________________________________________________________________\n",
      "dense_1 (Dense)              (None, 10)                20490     \n",
      "=================================================================\n",
      "Total params: 23,608,202\n",
      "Trainable params: 0\n",
      "Non-trainable params: 23,608,202\n",
      "_________________________________________________________________\n"
     ]
    }
   ],
   "source": [
    "evaluator_model.summary()"
   ]
  }
 ],
 "metadata": {
  "kernelspec": {
   "display_name": "Python 3",
   "language": "python",
   "name": "python3"
  },
  "language_info": {
   "codemirror_mode": {
    "name": "ipython",
    "version": 3
   },
   "file_extension": ".py",
   "mimetype": "text/x-python",
   "name": "python",
   "nbconvert_exporter": "python",
   "pygments_lexer": "ipython3",
   "version": "3.7.9"
  }
 },
 "nbformat": 4,
 "nbformat_minor": 5
}
