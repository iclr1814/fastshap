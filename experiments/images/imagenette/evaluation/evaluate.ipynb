{
 "cells": [
  {
   "cell_type": "code",
   "execution_count": 103,
   "id": "closed-funds",
   "metadata": {},
   "outputs": [],
   "source": [
    "import sys\n",
    "sys.path.insert(0, '../../../fastshap_tf/')\n",
    "from fastshap import ResizeMask"
   ]
  },
  {
   "cell_type": "code",
   "execution_count": 41,
   "id": "comparable-nigeria",
   "metadata": {},
   "outputs": [],
   "source": [
    "import pickle\n",
    "import numpy as np"
   ]
  },
  {
   "cell_type": "code",
   "execution_count": 42,
   "id": "authentic-emperor",
   "metadata": {},
   "outputs": [],
   "source": [
    "import tensorflow as tf\n",
    "import tensorflow_datasets as tfds\n",
    "\n",
    "from datetime import datetime\n",
    "import os"
   ]
  },
  {
   "cell_type": "code",
   "execution_count": 43,
   "id": "bacterial-blind",
   "metadata": {},
   "outputs": [],
   "source": [
    "from tensorflow.keras.layers import (Input, Layer, Dense, Lambda, \n",
    "                                     Dropout, Multiply, BatchNormalization, \n",
    "                                     Reshape, Concatenate, Conv2D, Permute)\n",
    "from tensorflow.keras.models import Model, Sequential\n",
    "from tensorflow.keras import regularizers\n",
    "from tensorflow.keras import backend as K\n",
    "from tensorflow.keras.callbacks import ModelCheckpoint, EarlyStopping, ReduceLROnPlateau\n",
    "\n",
    "from tensorflow.keras.applications.resnet50 import ResNet50"
   ]
  },
  {
   "cell_type": "code",
   "execution_count": 44,
   "id": "closed-kinase",
   "metadata": {},
   "outputs": [],
   "source": [
    "import pandas as pd\n",
    "from functools import reduce"
   ]
  },
  {
   "cell_type": "code",
   "execution_count": 45,
   "id": "laughing-vancouver",
   "metadata": {},
   "outputs": [],
   "source": [
    "#Select GPU\n",
    "os.environ['CUDA_VISIBLE_DEVICES'] = '2'"
   ]
  },
  {
   "cell_type": "code",
   "execution_count": 119,
   "id": "military-campus",
   "metadata": {},
   "outputs": [],
   "source": [
    "# IMPORTANT: SET RANDOM SEEDS FOR REPRODUCIBILITY\n",
    "os.environ['PYTHONHASHSEED'] = str(420)\n",
    "import random\n",
    "random.seed(420)\n",
    "np.random.seed(420)"
   ]
  },
  {
   "cell_type": "code",
   "execution_count": 46,
   "id": "understanding-mills",
   "metadata": {},
   "outputs": [],
   "source": [
    "#################### Load Images + Predictions ####################\n",
    "images_dir = os.path.join('../', 'images')\n",
    "images = np.load(os.path.join(images_dir, 'processed_images.npy'), allow_pickle=True)\n",
    "\n",
    "\n",
    "preds_path = os.path.join(images_dir, 'predictions.npy')\n",
    "preds = np.load(preds_path, allow_pickle=True)\n",
    "preds_discrete = np.eye(10)[preds.argmax(1)]"
   ]
  },
  {
   "cell_type": "code",
   "execution_count": 47,
   "id": "stretch-forestry",
   "metadata": {},
   "outputs": [],
   "source": [
    "#################### Load Evaluator Model ####################\n",
    "class Random_Bernoulli_Sampler(Layer):\n",
    "    '''\n",
    "    Layer to Sample r\n",
    "    '''\n",
    "    def __init__(self, num_features, **kwargs):\n",
    "        super(Random_Bernoulli_Sampler, self).__init__(**kwargs)\n",
    "        \n",
    "        self.num_features = num_features\n",
    "        \n",
    "        \n",
    "    def call(self,  logits):\n",
    "        batch_size = tf.shape(logits)[0]\n",
    "        \n",
    "        u = tf.random.uniform(shape=(batch_size, self.num_features),\n",
    "                                    minval=np.finfo(\n",
    "                                        tf.float32.as_numpy_dtype).tiny,\n",
    "                                    maxval=1.0) \n",
    "\n",
    "        r = K.cast(tf.stop_gradient(u > 0.5), tf.float32)\n",
    "        \n",
    "        return r\n",
    "\n",
    "    \n",
    "INPUT_SHAPE = (224,224,3)\n",
    "base_model = ResNet50(\n",
    "    include_top=False, weights='imagenet', \n",
    "    input_shape=INPUT_SHAPE, pooling='avg'\n",
    ")\n",
    "base_model.trainable = True\n",
    "\n",
    "model_input = Input(shape=INPUT_SHAPE, dtype='float32', name='input')\n",
    "R = Random_Bernoulli_Sampler(14*14)(model_input)\n",
    "R = ResizeMask(in_shape=INPUT_SHAPE, mask_size=14*14)(R)\n",
    "xr = Multiply()([model_input, R])\n",
    "\n",
    "net = base_model(xr)\n",
    "out = Dense(10, activation='softmax')(net)\n",
    "\n",
    "evaluator_model = Model(model_input, out)\n",
    "\n",
    "evaluator_weights = 'evaluator/model_weights.h5'\n",
    "evaluator_model.load_weights(evaluator_weights)\n",
    "evaluator_model = Sequential(   \n",
    "            [l for l in evaluator_model.layers[-2:]]\n",
    "        )\n",
    "evaluator_model.trainable = False\n",
    "\n",
    "OPTIMIZER = tf.keras.optimizers.Adam(1e-3)\n",
    "METRICS = [ \n",
    "  tf.keras.metrics.AUC(name='auroc'),\n",
    "  tf.keras.metrics.AUC(curve='PR', name='auprc'),\n",
    "  tf.keras.metrics.TopKCategoricalAccuracy(k=1, name='accuracy'),\n",
    "]\n",
    "\n",
    "evaluator_model.compile(\n",
    "    loss='categorical_crossentropy',\n",
    "    optimizer=OPTIMIZER,\n",
    "    metrics=METRICS,\n",
    ")"
   ]
  },
  {
   "cell_type": "markdown",
   "id": "danish-antique",
   "metadata": {},
   "source": [
    "# Run Evaluations for Each Method and Masking Percent"
   ]
  },
  {
   "cell_type": "code",
   "execution_count": 104,
   "id": "decreased-federation",
   "metadata": {},
   "outputs": [
    {
     "name": "stdout",
     "output_type": "stream",
     "text": [
      "gradcam\n",
      "32/32 [==============================] - 1s 35ms/step - loss: 1.0373 - auroc: 0.9520 - auprc: 0.8657 - accuracy: 0.8190\n",
      "32/32 [==============================] - 1s 37ms/step - loss: 1.1181 - auroc: 0.9479 - auprc: 0.8535 - accuracy: 0.8040\n",
      "32/32 [==============================] - 1s 35ms/step - loss: 1.2405 - auroc: 0.9403 - auprc: 0.8272 - accuracy: 0.7760\n",
      "32/32 [==============================] - 1s 37ms/step - loss: 1.3358 - auroc: 0.9333 - auprc: 0.8008 - accuracy: 0.7530\n",
      "32/32 [==============================] - 1s 38ms/step - loss: 1.4816 - auroc: 0.9281 - auprc: 0.7657 - accuracy: 0.7120\n",
      "32/32 [==============================] - 1s 38ms/step - loss: 1.9975 - auroc: 0.8717 - auprc: 0.6037 - accuracy: 0.5720\n",
      "32/32 [==============================] - 1s 37ms/step - loss: 2.5753 - auroc: 0.7762 - auprc: 0.3780 - accuracy: 0.3750\n",
      "32/32 [==============================] - 1s 35ms/step - loss: 3.0002 - auroc: 0.6991 - auprc: 0.2538 - accuracy: 0.2470\n",
      "32/32 [==============================] - 1s 38ms/step - loss: 3.2921 - auroc: 0.6526 - auprc: 0.1904 - accuracy: 0.1900\n",
      "32/32 [==============================] - 1s 37ms/step - loss: 3.8045 - auroc: 0.5864 - auprc: 0.1438 - accuracy: 0.1260\n",
      "32/32 [==============================] - 1s 35ms/step - loss: 4.4006 - auroc: 0.5205 - auprc: 0.1140 - accuracy: 0.0960\n",
      "integratedgradients\n",
      "32/32 [==============================] - 1s 39ms/step - loss: 1.0268 - auroc: 0.9541 - auprc: 0.8692 - accuracy: 0.8190\n",
      "32/32 [==============================] - 1s 36ms/step - loss: 1.0506 - auroc: 0.9508 - auprc: 0.8612 - accuracy: 0.8150\n",
      "32/32 [==============================] - 1s 36ms/step - loss: 1.1125 - auroc: 0.9479 - auprc: 0.8516 - accuracy: 0.7980\n",
      "32/32 [==============================] - 1s 36ms/step - loss: 1.1373 - auroc: 0.9465 - auprc: 0.8437 - accuracy: 0.7930\n",
      "32/32 [==============================] - 1s 35ms/step - loss: 1.1799 - auroc: 0.9409 - auprc: 0.8303 - accuracy: 0.7670\n",
      "32/32 [==============================] - 1s 35ms/step - loss: 1.3593 - auroc: 0.9250 - auprc: 0.7799 - accuracy: 0.7140\n",
      "32/32 [==============================] - 1s 38ms/step - loss: 1.5923 - auroc: 0.8957 - auprc: 0.6870 - accuracy: 0.6260\n",
      "32/32 [==============================] - 1s 37ms/step - loss: 1.8736 - auroc: 0.8587 - auprc: 0.5789 - accuracy: 0.5300\n",
      "32/32 [==============================] - 1s 35ms/step - loss: 2.1061 - auroc: 0.8181 - auprc: 0.4813 - accuracy: 0.4480\n",
      "32/32 [==============================] - 1s 37ms/step - loss: 2.6537 - auroc: 0.7294 - auprc: 0.3096 - accuracy: 0.3260\n",
      "32/32 [==============================] - 1s 35ms/step - loss: 4.1281 - auroc: 0.5357 - auprc: 0.1194 - accuracy: 0.1050\n",
      "smoothgrad\n",
      "32/32 [==============================] - 1s 37ms/step - loss: 1.0291 - auroc: 0.9542 - auprc: 0.8711 - accuracy: 0.8220\n",
      "32/32 [==============================] - 1s 37ms/step - loss: 1.0150 - auroc: 0.9530 - auprc: 0.8674 - accuracy: 0.8240\n",
      "32/32 [==============================] - 1s 35ms/step - loss: 1.0023 - auroc: 0.9545 - auprc: 0.8681 - accuracy: 0.8220\n",
      "32/32 [==============================] - 1s 35ms/step - loss: 1.0292 - auroc: 0.9515 - auprc: 0.8605 - accuracy: 0.8230\n",
      "32/32 [==============================] - 1s 38ms/step - loss: 1.0265 - auroc: 0.9502 - auprc: 0.8598 - accuracy: 0.8130\n",
      "32/32 [==============================] - 1s 38ms/step - loss: 1.0177 - auroc: 0.9500 - auprc: 0.8576 - accuracy: 0.7930\n",
      "32/32 [==============================] - 1s 35ms/step - loss: 1.0881 - auroc: 0.9420 - auprc: 0.8133 - accuracy: 0.7300\n",
      "32/32 [==============================] - 1s 35ms/step - loss: 1.3430 - auroc: 0.9158 - auprc: 0.7134 - accuracy: 0.6560\n",
      "32/32 [==============================] - 1s 38ms/step - loss: 1.6682 - auroc: 0.8746 - auprc: 0.5910 - accuracy: 0.5460\n",
      "32/32 [==============================] - 1s 37ms/step - loss: 2.5096 - auroc: 0.7487 - auprc: 0.3092 - accuracy: 0.3330\n",
      "32/32 [==============================] - 1s 36ms/step - loss: 4.0904 - auroc: 0.5327 - auprc: 0.1169 - accuracy: 0.1130\n",
      "deepshap\n",
      "32/32 [==============================] - 1s 36ms/step - loss: 1.0180 - auroc: 0.9562 - auprc: 0.8740 - accuracy: 0.8250\n",
      "32/32 [==============================] - 1s 37ms/step - loss: 1.0144 - auroc: 0.9535 - auprc: 0.8674 - accuracy: 0.8190\n",
      "32/32 [==============================] - 1s 36ms/step - loss: 1.0399 - auroc: 0.9514 - auprc: 0.8616 - accuracy: 0.8130\n",
      "32/32 [==============================] - 1s 38ms/step - loss: 1.0473 - auroc: 0.9501 - auprc: 0.8586 - accuracy: 0.8090\n",
      "32/32 [==============================] - 1s 37ms/step - loss: 1.0453 - auroc: 0.9496 - auprc: 0.8528 - accuracy: 0.8060\n",
      "32/32 [==============================] - 1s 37ms/step - loss: 1.0785 - auroc: 0.9483 - auprc: 0.8421 - accuracy: 0.7800\n",
      "32/32 [==============================] - 1s 35ms/step - loss: 1.2557 - auroc: 0.9281 - auprc: 0.7594 - accuracy: 0.6890\n",
      "32/32 [==============================] - 1s 37ms/step - loss: 1.5203 - auroc: 0.8959 - auprc: 0.6430 - accuracy: 0.5750\n",
      "32/32 [==============================] - 1s 38ms/step - loss: 1.9169 - auroc: 0.8353 - auprc: 0.4896 - accuracy: 0.4720\n",
      "32/32 [==============================] - 1s 35ms/step - loss: 2.6946 - auroc: 0.7038 - auprc: 0.2808 - accuracy: 0.2830\n",
      "32/32 [==============================] - 1s 37ms/step - loss: 4.1097 - auroc: 0.5324 - auprc: 0.1114 - accuracy: 0.1020\n"
     ]
    }
   ],
   "source": [
    "methods = ['fastshap', 'kernelshap', 'kernelshap_plus', 'gradcam', 'integratedgradients', 'smoothgrad', 'deepshap']\n",
    "# for method in methods:\n",
    "for method in ['gradcam', 'integratedgradients', 'smoothgrad', 'deepshap']:\n",
    "    print(method)\n",
    "    evaluation_results = {}\n",
    "    \n",
    "    #################### Load Masks ####################\n",
    "    if method in ['gradcam', 'integratedgradients', 'smoothgrad','deepshap']:\n",
    "        method_dir = os.path.join('../', method) \n",
    "    else:\n",
    "        method_dir = os.path.join('../', method, 'results')\n",
    "    \n",
    "    with open(os.path.join(method_dir, 'masks.pkl'), 'rb') as f:\n",
    "        mask_dict = pickle.load(f)\n",
    "    \n",
    "    evaluation_results['acc'] = {}\n",
    "    evaluation_results['auroc'] = {}\n",
    "    evaluation_results['auprc'] = {}\n",
    "    evaluation_results['preds'] = {}    \n",
    "    for p, masks in mask_dict.items():\n",
    "        #################### Mask Images ####################\n",
    "        if len(masks.shape) < 4:\n",
    "            masks = np.expand_dims(masks, -1)\n",
    "        masked_images = images * masks\n",
    "\n",
    "        #################### Evaluate Masked Images ####################\n",
    "        _, auroc, auprc, acc = evaluator_model.evaluate(x = masked_images, \n",
    "                                                        y = preds_discrete)\n",
    "        preds = evaluator_model.predict(masked_images)\n",
    "        \n",
    "        evaluation_results['acc'][p] = acc\n",
    "        evaluation_results['auroc'][p] = auroc\n",
    "        evaluation_results['auprc'][p] = auprc\n",
    "        evaluation_results['preds'][p] = preds\n",
    "    \n",
    "    #################### Save ####################\n",
    "    with open(os.path.join(method_dir, 'evaluation_results_out.pkl'), 'wb') as f:\n",
    "        pickle.dump(evaluation_results, f)"
   ]
  },
  {
   "cell_type": "code",
   "execution_count": 105,
   "id": "processed-communication",
   "metadata": {},
   "outputs": [
    {
     "name": "stdout",
     "output_type": "stream",
     "text": [
      "gradcam\n",
      "32/32 [==============================] - 1s 35ms/step - loss: 3.3264 - auroc: 0.6410 - auprc: 0.1945 - accuracy: 0.2070\n",
      "32/32 [==============================] - 1s 38ms/step - loss: 2.0318 - auroc: 0.8314 - auprc: 0.5149 - accuracy: 0.4690\n",
      "32/32 [==============================] - 1s 35ms/step - loss: 1.4243 - auroc: 0.9051 - auprc: 0.6886 - accuracy: 0.6260\n",
      "32/32 [==============================] - 1s 37ms/step - loss: 1.1885 - auroc: 0.9349 - auprc: 0.7699 - accuracy: 0.6870\n",
      "32/32 [==============================] - 1s 35ms/step - loss: 0.9753 - auroc: 0.9481 - auprc: 0.8301 - accuracy: 0.7600\n",
      "32/32 [==============================] - 1s 38ms/step - loss: 0.8701 - auroc: 0.9589 - auprc: 0.8722 - accuracy: 0.8110\n",
      "32/32 [==============================] - 1s 36ms/step - loss: 0.9152 - auroc: 0.9570 - auprc: 0.8803 - accuracy: 0.8190\n",
      "32/32 [==============================] - 1s 38ms/step - loss: 0.9607 - auroc: 0.9563 - auprc: 0.8759 - accuracy: 0.8220\n",
      "32/32 [==============================] - 1s 35ms/step - loss: 0.9882 - auroc: 0.9572 - auprc: 0.8767 - accuracy: 0.8220\n",
      "32/32 [==============================] - 1s 37ms/step - loss: 1.0169 - auroc: 0.9561 - auprc: 0.8748 - accuracy: 0.8180\n",
      "32/32 [==============================] - 1s 36ms/step - loss: 1.0235 - auroc: 0.9547 - auprc: 0.8700 - accuracy: 0.8220\n",
      "integratedgradients\n",
      "32/32 [==============================] - 1s 38ms/step - loss: 3.6341 - auroc: 0.5917 - auprc: 0.1611 - accuracy: 0.1420\n",
      "32/32 [==============================] - 1s 35ms/step - loss: 2.2620 - auroc: 0.7910 - auprc: 0.4212 - accuracy: 0.3950\n",
      "32/32 [==============================] - 1s 37ms/step - loss: 1.5521 - auroc: 0.8862 - auprc: 0.6446 - accuracy: 0.5850\n",
      "32/32 [==============================] - 1s 35ms/step - loss: 1.2506 - auroc: 0.9247 - auprc: 0.7462 - accuracy: 0.6660\n",
      "32/32 [==============================] - 1s 37ms/step - loss: 1.0639 - auroc: 0.9461 - auprc: 0.8175 - accuracy: 0.7300\n",
      "32/32 [==============================] - 1s 35ms/step - loss: 0.9177 - auroc: 0.9566 - auprc: 0.8648 - accuracy: 0.8000\n",
      "32/32 [==============================] - 1s 38ms/step - loss: 0.9753 - auroc: 0.9546 - auprc: 0.8722 - accuracy: 0.8180\n",
      "32/32 [==============================] - 1s 35ms/step - loss: 0.9948 - auroc: 0.9543 - auprc: 0.8684 - accuracy: 0.8160\n",
      "32/32 [==============================] - 1s 37ms/step - loss: 1.0069 - auroc: 0.9550 - auprc: 0.8697 - accuracy: 0.8220\n",
      "32/32 [==============================] - 1s 34ms/step - loss: 1.0299 - auroc: 0.9537 - auprc: 0.8698 - accuracy: 0.8200\n",
      "32/32 [==============================] - 1s 37ms/step - loss: 1.0292 - auroc: 0.9556 - auprc: 0.8708 - accuracy: 0.8240\n",
      "smoothgrad\n",
      "32/32 [==============================] - 1s 38ms/step - loss: 3.7209 - auroc: 0.5736 - auprc: 0.1345 - accuracy: 0.1340\n",
      "32/32 [==============================] - 1s 36ms/step - loss: 2.3444 - auroc: 0.7787 - auprc: 0.3843 - accuracy: 0.3870\n",
      "32/32 [==============================] - 1s 37ms/step - loss: 1.5347 - auroc: 0.8911 - auprc: 0.6298 - accuracy: 0.5760\n",
      "32/32 [==============================] - 1s 35ms/step - loss: 1.2059 - auroc: 0.9273 - auprc: 0.7526 - accuracy: 0.6740\n",
      "32/32 [==============================] - 1s 35ms/step - loss: 1.0398 - auroc: 0.9445 - auprc: 0.8223 - accuracy: 0.7410\n",
      "32/32 [==============================] - 1s 38ms/step - loss: 0.9188 - auroc: 0.9552 - auprc: 0.8752 - accuracy: 0.8090\n",
      "32/32 [==============================] - 1s 36ms/step - loss: 0.9465 - auroc: 0.9548 - auprc: 0.8799 - accuracy: 0.8270\n",
      "32/32 [==============================] - 1s 35ms/step - loss: 0.9789 - auroc: 0.9582 - auprc: 0.8802 - accuracy: 0.8260\n",
      "32/32 [==============================] - 1s 36ms/step - loss: 0.9917 - auroc: 0.9562 - auprc: 0.8745 - accuracy: 0.8290\n",
      "32/32 [==============================] - 1s 37ms/step - loss: 1.0102 - auroc: 0.9562 - auprc: 0.8735 - accuracy: 0.8270\n",
      "32/32 [==============================] - 1s 35ms/step - loss: 1.0263 - auroc: 0.9551 - auprc: 0.8703 - accuracy: 0.8220\n",
      "deepshap\n",
      "32/32 [==============================] - 1s 37ms/step - loss: 3.5735 - auroc: 0.5912 - auprc: 0.1521 - accuracy: 0.1570\n",
      "32/32 [==============================] - 1s 35ms/step - loss: 2.2651 - auroc: 0.7903 - auprc: 0.4104 - accuracy: 0.4060\n",
      "32/32 [==============================] - 1s 37ms/step - loss: 1.5017 - auroc: 0.8973 - auprc: 0.6454 - accuracy: 0.5990\n",
      "32/32 [==============================] - 1s 36ms/step - loss: 1.1652 - auroc: 0.9309 - auprc: 0.7625 - accuracy: 0.6880\n",
      "32/32 [==============================] - 1s 37ms/step - loss: 0.9678 - auroc: 0.9525 - auprc: 0.8397 - accuracy: 0.7590\n",
      "32/32 [==============================] - 1s 37ms/step - loss: 0.8794 - auroc: 0.9593 - auprc: 0.8884 - accuracy: 0.8220\n",
      "32/32 [==============================] - 1s 35ms/step - loss: 0.9403 - auroc: 0.9558 - auprc: 0.8785 - accuracy: 0.8250\n",
      "32/32 [==============================] - 1s 36ms/step - loss: 0.9655 - auroc: 0.9571 - auprc: 0.8757 - accuracy: 0.8260\n",
      "32/32 [==============================] - 1s 35ms/step - loss: 0.9881 - auroc: 0.9554 - auprc: 0.8745 - accuracy: 0.8240\n",
      "32/32 [==============================] - 1s 36ms/step - loss: 1.0001 - auroc: 0.9558 - auprc: 0.8747 - accuracy: 0.8250\n",
      "32/32 [==============================] - 1s 38ms/step - loss: 1.0283 - auroc: 0.9541 - auprc: 0.8683 - accuracy: 0.8220\n"
     ]
    }
   ],
   "source": [
    "methods = ['fastshap', 'kernelshap', 'kernelshap_plus', 'gradcam', 'integratedgradients', 'smoothgrad', 'deepshap']\n",
    "# for method in methods:\n",
    "for method in ['gradcam', 'integratedgradients', 'smoothgrad', 'deepshap']:\n",
    "    print(method)\n",
    "    evaluation_results = {}\n",
    "    \n",
    "    #################### Load Masks ####################\n",
    "    if method in ['gradcam', 'integratedgradients', 'smoothgrad','deepshap']:\n",
    "        method_dir = os.path.join('../', method) \n",
    "    else:\n",
    "        method_dir = os.path.join('../', method, 'results')\n",
    "    \n",
    "    with open(os.path.join(method_dir, 'masks_in.pkl'), 'rb') as f:\n",
    "        mask_dict = pickle.load(f)\n",
    "    \n",
    "    evaluation_results['acc'] = {}\n",
    "    evaluation_results['auroc'] = {}\n",
    "    evaluation_results['auprc'] = {}\n",
    "    evaluation_results['preds'] = {}   \n",
    "    for p, masks in mask_dict.items():\n",
    "        #################### Mask Images ####################\n",
    "        if len(masks.shape) < 4:\n",
    "            masks = np.expand_dims(masks, -1)\n",
    "        masked_images = images * masks\n",
    "\n",
    "        #################### Evaluate Masked Images ####################\n",
    "        _, auroc, auprc, acc = evaluator_model.evaluate(x = masked_images, \n",
    "                                                        y = preds_discrete)\n",
    "        preds = evaluator_model.predict(masked_images)\n",
    "        \n",
    "        evaluation_results['acc'][p] = acc\n",
    "        evaluation_results['auroc'][p] = auroc\n",
    "        evaluation_results['auprc'][p] = auprc\n",
    "        evaluation_results['preds'][p] = preds\n",
    "    \n",
    "    #################### Save ####################\n",
    "    with open(os.path.join(method_dir, 'evaluation_results_in.pkl'), 'wb') as f:\n",
    "        pickle.dump(evaluation_results, f)"
   ]
  },
  {
   "cell_type": "markdown",
   "id": "minimal-evidence",
   "metadata": {},
   "source": [
    "# Graph Degradation"
   ]
  },
  {
   "cell_type": "code",
   "execution_count": 120,
   "id": "eastern-peninsula",
   "metadata": {},
   "outputs": [],
   "source": [
    "results_dir = 'results'\n",
    "if not os.path.isdir(results_dir):\n",
    "    os.makedirs(results_dir)"
   ]
  },
  {
   "cell_type": "markdown",
   "id": "dangerous-passport",
   "metadata": {},
   "source": [
    "### Load Results"
   ]
  },
  {
   "cell_type": "code",
   "execution_count": 121,
   "id": "stopped-creature",
   "metadata": {},
   "outputs": [],
   "source": [
    "methods = ['fastshap', 'kernelshap', 'kernelshap_plus', 'gradcam', 'integratedgradients', 'smoothgrad', 'deepshap']\n",
    "all_results_out = {}\n",
    "for method in methods:\n",
    "\n",
    "    if method in ['gradcam', 'integratedgradients', 'smoothgrad','deepshap']:\n",
    "        method_dir = os.path.join('../', method) \n",
    "    else:\n",
    "        method_dir = os.path.join('../', method, 'results')\n",
    "    \n",
    "    with open(os.path.join(method_dir, 'evaluation_results_out.pkl'), 'rb') as f:\n",
    "        evaluation_results = pickle.load(f)\n",
    "    \n",
    "    all_results_out[method] = evaluation_results"
   ]
  },
  {
   "cell_type": "code",
   "execution_count": 122,
   "id": "specialized-burton",
   "metadata": {},
   "outputs": [],
   "source": [
    "all_results_in = {}\n",
    "for method in methods:\n",
    "\n",
    "    if method in ['gradcam', 'integratedgradients', 'smoothgrad','deepshap']:\n",
    "        method_dir = os.path.join('../', method) \n",
    "    else:\n",
    "        method_dir = os.path.join('../', method, 'results')\n",
    "    \n",
    "    with open(os.path.join(method_dir, 'evaluation_results_in.pkl'), 'rb') as f:\n",
    "        evaluation_results = pickle.load(f)\n",
    "    \n",
    "    all_results_in[method] = evaluation_results"
   ]
  },
  {
   "cell_type": "markdown",
   "id": "precise-might",
   "metadata": {},
   "source": [
    "### Get Bootstrap Accuracys"
   ]
  },
  {
   "cell_type": "code",
   "execution_count": 123,
   "id": "headed-studio",
   "metadata": {},
   "outputs": [
    {
     "data": {
      "application/vnd.jupyter.widget-view+json": {
       "model_id": "84d1140afb8447e0a4fa3f8bfb90a08e",
       "version_major": 2,
       "version_minor": 0
      },
      "text/plain": [
       "  0%|          | 0/100 [00:00<?, ?it/s]"
      ]
     },
     "metadata": {},
     "output_type": "display_data"
    }
   ],
   "source": [
    "from sklearn.metrics import accuracy_score\n",
    "from tqdm.notebook import tqdm \n",
    "\n",
    "#Initialize Dictionary\n",
    "for method in methods:\n",
    "    all_results_out[method]['bootstrap_acc'] = {}\n",
    "    for p in all_results_out[method]['preds'].keys():\n",
    "        all_results_out[method]['bootstrap_acc'][p] = []\n",
    "\n",
    "for i in tqdm(range(100)):\n",
    "    # Get Bootstrap Indices\n",
    "    inds = np.random.choice(np.arange(1000), 666, replace=False)\n",
    "    \n",
    "    for method in methods:\n",
    "        for p in all_results_out[method]['preds'].keys():\n",
    "            # Prediction\n",
    "            y_p = all_results_out[method]['preds'][p][inds]\n",
    "            y_p = np.eye(10)[y_p.argmax(1)]\n",
    "            #Label\n",
    "            y = preds_discrete[inds]\n",
    "            #Acc\n",
    "            acc = accuracy_score(y, y_p)\n",
    "            #Add to Dict\n",
    "            all_results_out[method]['bootstrap_acc'][p].append(acc)       "
   ]
  },
  {
   "cell_type": "code",
   "execution_count": 124,
   "id": "front-cycle",
   "metadata": {},
   "outputs": [
    {
     "data": {
      "application/vnd.jupyter.widget-view+json": {
       "model_id": "4eb525fb4199486ea9aa25797cca6758",
       "version_major": 2,
       "version_minor": 0
      },
      "text/plain": [
       "  0%|          | 0/100 [00:00<?, ?it/s]"
      ]
     },
     "metadata": {},
     "output_type": "display_data"
    }
   ],
   "source": [
    "#Initialize Dictionary\n",
    "for method in methods:\n",
    "    all_results_in[method]['bootstrap_acc'] = {}\n",
    "    for p in all_results_in[method]['preds'].keys():\n",
    "        all_results_in[method]['bootstrap_acc'][p] = []\n",
    "\n",
    "for i in tqdm(range(100)):\n",
    "    # Get Bootstrap Indices\n",
    "    inds = np.random.choice(np.arange(1000), 666, replace=False)\n",
    "    \n",
    "    for method in methods:\n",
    "        for p in all_results_in[method]['preds'].keys():\n",
    "            # Prediction\n",
    "            y_p = all_results_in[method]['preds'][p][inds]\n",
    "            y_p = np.eye(10)[y_p.argmax(1)]\n",
    "            #Label\n",
    "            y = preds_discrete[inds]\n",
    "            #Acc\n",
    "            acc = accuracy_score(y, y_p)\n",
    "            #Add to Dict\n",
    "            all_results_in[method]['bootstrap_acc'][p].append(acc)"
   ]
  },
  {
   "cell_type": "markdown",
   "id": "premier-still",
   "metadata": {},
   "source": [
    "### Graph"
   ]
  },
  {
   "cell_type": "code",
   "execution_count": 125,
   "id": "original-glory",
   "metadata": {},
   "outputs": [],
   "source": [
    "import matplotlib.pyplot as plt\n",
    "from matplotlib.backends.backend_pdf import PdfPages\n",
    "# plt.style.use('clean.mplstyle')"
   ]
  },
  {
   "cell_type": "code",
   "execution_count": 126,
   "id": "medium-republic",
   "metadata": {},
   "outputs": [],
   "source": [
    "def acc_error(x):\n",
    "    return (x*(1-x)/len(images))**.5"
   ]
  },
  {
   "cell_type": "code",
   "execution_count": 135,
   "id": "angry-charge",
   "metadata": {
    "scrolled": false
   },
   "outputs": [
    {
     "data": {
      "image/png": "[encoded data removed]",
      "text/plain": [
       "<Figure size 403.2x705.6 with 2 Axes>"
      ]
     },
     "metadata": {
      "needs_background": "light"
     },
     "output_type": "display_data"
    }
   ],
   "source": [
    "method_names = ['FastSHAP', 'KernelSHAP', 'KernelSHAP-E', 'GradCAM', 'Integrated Gradients', 'SmoothGrad', 'DeepSHAP']\n",
    "accuracy_out = []\n",
    "for method in methods:\n",
    "    df =  pd.DataFrame([(int(k), v) for k, v in all_results_out[method]['acc'].items()])\n",
    "    df.columns = ['Exclusion %', method]\n",
    "    accuracy_out.append(df)\n",
    "\n",
    "accuracy_out = reduce(lambda x, y: pd.merge(x, y, on = 'Exclusion %'), accuracy_out)\n",
    "accuracy_out.columns = ['Exclusion %'] + method_names\n",
    "\n",
    "#### FIGURE #####\n",
    "colors = {'FastSHAP':'#f94144', 'KernelSHAP':'#43aa8b', 'KernelSHAP-E':'#43aa8b', \n",
    "          'GradCAM':'#f9c74f', 'Integrated Gradients':'#7209b7', \n",
    "          'SmoothGrad':'#577590', 'DeepSHAP':'#f9844a'}\n",
    "\n",
    "fig, axs = plt.subplots(2, 1, figsize=(7*.8, 14*.7))\n",
    "for method in method_names[1:] + ['FastSHAP']:\n",
    "    if method == 'KernelSHAP-E':\n",
    "        axs[0].plot(accuracy_out['Exclusion %'], accuracy_out[method],\n",
    "                 label=method, color=colors[method], linestyle='--')\n",
    "    else:\n",
    "        axs[0].plot(accuracy_out['Exclusion %'], accuracy_out[method],\n",
    "                 label=method, color=colors[method])\n",
    "    axs[0].fill_between(accuracy_out['Exclusion %'],\n",
    "                     accuracy_out[method] - 1.96*acc_error(accuracy_out[method]),\n",
    "                     accuracy_out[method] + 1.96*acc_error(accuracy_out[method]),\n",
    "                     color=colors[method], alpha=0.2)\n",
    "axs[0].set_xlabel('Exclusion %')\n",
    "axs[0].set_ylabel('Top 1 Accuracy')\n",
    "axs[0].set_title('Exclusion Curve')\n",
    "\n",
    "\n",
    "accuracy_in = []\n",
    "for method in methods:\n",
    "    df =  pd.DataFrame([(int(k), v) for k, v in all_results_in[method]['acc'].items()])\n",
    "    df.columns = ['Inclusion %', method]\n",
    "    accuracy_in.append(df)\n",
    "\n",
    "accuracy_in = reduce(lambda x, y: pd.merge(x, y, on = 'Inclusion %'), accuracy_in)\n",
    "accuracy_in.columns = ['Inclusion %'] + method_names\n",
    "\n",
    "for method in method_names[1:] + ['FastSHAP']:\n",
    "    if method == 'KernelSHAP-E':\n",
    "        axs[1].plot(accuracy_in['Inclusion %'], accuracy_in[method],\n",
    "                 label=method, color=colors[method], linestyle='--')\n",
    "    else:\n",
    "        axs[1].plot(accuracy_in['Inclusion %'], accuracy_in[method],\n",
    "                 label=method, color=colors[method])\n",
    "    axs[1].fill_between(accuracy_in['Inclusion %'],\n",
    "                     accuracy_in[method] - 1.96*acc_error(accuracy_in[method]),\n",
    "                     accuracy_in[method] + 1.96*acc_error(accuracy_in[method]),\n",
    "                     color=colors[method], alpha=0.2)\n",
    "\n",
    "axs[1].set_xlabel('Inclusion %')\n",
    "axs[1].set_ylabel('Top 1 Accuracy')\n",
    "axs[1].set_title('Inclusion Curve')\n",
    "\n",
    "leg = axs[1].legend(loc='right',\n",
    "                      bbox_to_anchor=(1, 0.4),\n",
    "                      fancybox=False,\n",
    "                      shadow=False,\n",
    "                      ncol=1,\n",
    "                      fontsize=14,\n",
    "                      frameon=False)\n",
    "for legobj in leg.legendHandles:\n",
    "    legobj.set_linewidth(3.0)\n",
    "\n",
    "\n",
    "plt.ylim(0, .95)\n",
    "plt.xlim(0, 100)\n",
    "plt.tick_params(labelsize=14)\n",
    "plt.tight_layout()\n",
    "\n",
    "pdf = PdfPages(os.path.join(results_dir, 'inclusion.pdf'))\n",
    "pdf.savefig(pad_inches=0, bbox_inches='tight')\n",
    "pdf.close()\n",
    "\n",
    "plt.show()"
   ]
  },
  {
   "cell_type": "markdown",
   "id": "choice-cargo",
   "metadata": {},
   "source": [
    "### AUCs"
   ]
  },
  {
   "cell_type": "code",
   "execution_count": 134,
   "id": "missing-softball",
   "metadata": {},
   "outputs": [
    {
     "name": "stdout",
     "output_type": "stream",
     "text": [
      "FastSHAP & 0.51 (0.49, 0.52) & 0.79 (0.78, 0.80)\n",
      "KernelSHAP & 0.68 (0.67, 0.70) & 0.77 (0.75, 0.78)\n",
      "KernelSHAP-S & 0.61 (0.60, 0.62) & 0.82 (0.80, 0.83)\n",
      "GradCAM & 0.52 (0.50, 0.53) & 0.74 (0.73, 0.76)\n",
      "Integrated Gradients & 0.65 (0.64, 0.67) & 0.73 (0.71, 0.74)\n",
      "SmoothGrad & 0.72 (0.71, 0.73) & 0.73 (0.72, 0.75)\n",
      "DeepSHAP & 0.69 (0.68, 0.71) & 0.74 (0.73, 0.75)\n"
     ]
    }
   ],
   "source": [
    "for method, name in zip(methods, method_names):\n",
    "    # Exlcusion\n",
    "    auc_outs = []\n",
    "    for i in range(100):\n",
    "        x = []\n",
    "        y = []\n",
    "        for p in all_results_out[method]['bootstrap_acc'].keys():\n",
    "            x.append(float(p))\n",
    "            y.append(all_results_out[method]['bootstrap_acc'][p][i])\n",
    "        auc_outs.append(auc(np.array(x), np.array(y)))\n",
    "    auc_outs = np.array(auc_outs)/100\n",
    "    \n",
    "    # Inclusion\n",
    "    auc_ins = []\n",
    "    for i in range(100):\n",
    "        x = []\n",
    "        y = []\n",
    "        for p in all_results_in[method]['bootstrap_acc'].keys():\n",
    "            x.append(float(p))\n",
    "            y.append(all_results_in[method]['bootstrap_acc'][p][i])\n",
    "        auc_ins.append(auc(np.array(x), np.array(y)))\n",
    "    auc_ins = np.array(auc_ins)/100\n",
    "    \n",
    "    # Print\n",
    "    print('{} & {:.2f} ({:.2f}, {:.2f}) & {:.2f} ({:.2f}, {:.2f})'.format(name, \n",
    "                                                                        auc_outs.mean(), \n",
    "                                                                        np.percentile(auc_outs, 2.5), \n",
    "                                                                        np.percentile(auc_outs, 97.5), \n",
    "                                                                        auc_ins.mean(), \n",
    "                                                                        np.percentile(auc_ins, 2.5), \n",
    "                                                                        np.percentile(auc_ins, 97.5)))"
   ]
  },
  {
   "cell_type": "markdown",
   "id": "human-watch",
   "metadata": {},
   "source": [
    "# Runtimes"
   ]
  },
  {
   "cell_type": "markdown",
   "id": "military-nebraska",
   "metadata": {},
   "source": [
    "### Explaining"
   ]
  },
  {
   "cell_type": "code",
   "execution_count": 131,
   "id": "worse-uganda",
   "metadata": {},
   "outputs": [
    {
     "name": "stdout",
     "output_type": "stream",
     "text": [
      "FastSHAP & 0.04\n",
      "KernelSHAP & 1089.50\n",
      "KernelSHAP-S & 586.12\n",
      "GradCAM & 0.30\n",
      "Integrated Gradients & 0.92\n",
      "SmoothGrad & 1.05\n",
      "DeepSHAP & 6.01\n"
     ]
    }
   ],
   "source": [
    "methods = ['fastshap', 'kernelshap', 'kernelshap_plus', 'gradcam', 'integratedgradients', 'smoothgrad', 'deepshap']\n",
    "for method, name in zip(methods, method_names):\n",
    "    evaluation_results = {}\n",
    "    \n",
    "    #################### Load Masks ####################\n",
    "    if method in ['gradcam', 'integratedgradients', 'smoothgrad','deepshap']:\n",
    "        method_dir = os.path.join('../', method) \n",
    "    else:\n",
    "        method_dir = os.path.join('../', method, 'results')\n",
    "    \n",
    "    with open(os.path.join(method_dir, 'explaining_time.pkl'), 'rb') as f:\n",
    "        explaining_time = pickle.load(f)\n",
    "        \n",
    "    if method in ['kernelshap', 'kernelshap_plus']:\n",
    "        explaining_time *= 60\n",
    "    else:\n",
    "        explaining_time /= 60\n",
    "        \n",
    "    print('{} & {:.2f}'.format(name, explaining_time))"
   ]
  },
  {
   "cell_type": "markdown",
   "id": "great-sociology",
   "metadata": {},
   "source": [
    "### Training"
   ]
  },
  {
   "cell_type": "code",
   "execution_count": 132,
   "id": "happy-nevada",
   "metadata": {},
   "outputs": [
    {
     "name": "stdout",
     "output_type": "stream",
     "text": [
      "fastshap & 73.27\n",
      "surrogate & 73.22\n"
     ]
    }
   ],
   "source": [
    "from pathlib import Path\n",
    "\n",
    "for method in ['fastshap', 'surrogate']:\n",
    "    method_dir = os.path.join('../', method)\n",
    "    model_path = sorted(Path(method_dir).iterdir(), key=os.path.getmtime)[-1]\n",
    "    \n",
    "    with open(os.path.join(model_path, 'training_time.pkl'), 'rb') as f:\n",
    "        training_time = pickle.load(f)\n",
    "        \n",
    "    training_time /= 60\n",
    "    \n",
    "    print('{} & {:.2f}'.format(method, training_time))"
   ]
  }
 ],
 "metadata": {
  "kernelspec": {
   "display_name": "Python 3",
   "language": "python",
   "name": "python3"
  },
  "language_info": {
   "codemirror_mode": {
    "name": "ipython",
    "version": 3
   },
   "file_extension": ".py",
   "mimetype": "text/x-python",
   "name": "python",
   "nbconvert_exporter": "python",
   "pygments_lexer": "ipython3",
   "version": "3.7.9"
  }
 },
 "nbformat": 4,
 "nbformat_minor": 5
}
