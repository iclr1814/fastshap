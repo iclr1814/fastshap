{
 "cells": [
  {
   "cell_type": "code",
   "execution_count": 1,
   "id": "comfortable-hamburg",
   "metadata": {},
   "outputs": [],
   "source": [
    "import os\n",
    "import pickle\n",
    "import numpy as np\n",
    "\n",
    "import tensorflow as tf"
   ]
  },
  {
   "cell_type": "code",
   "execution_count": 2,
   "id": "promising-snowboard",
   "metadata": {},
   "outputs": [],
   "source": [
    "from tensorflow.keras.layers import (Input, Layer, Dense, Lambda, \n",
    "                                     Dropout, Multiply, Reshape, Conv2D, Permute)\n",
    "from tensorflow.keras.models import Model, Sequential\n",
    "from tensorflow.keras.applications.resnet50 import ResNet50\n",
    "from tensorflow.keras import backend as K"
   ]
  },
  {
   "cell_type": "code",
   "execution_count": 3,
   "id": "roman-copying",
   "metadata": {},
   "outputs": [],
   "source": [
    "#Select GPU\n",
    "os.environ['CUDA_VISIBLE_DEVICES'] = '0'"
   ]
  },
  {
   "cell_type": "code",
   "execution_count": null,
   "id": "selective-intensity",
   "metadata": {},
   "outputs": [],
   "source": [
    "# IMPORTANT: SET RANDOM SEEDS FOR REPRODUCIBILITY\n",
    "os.environ['PYTHONHASHSEED'] = str(420)\n",
    "import random\n",
    "random.seed(420)\n",
    "np.random.seed(420)\n",
    "tf.random.set_seed(420)"
   ]
  },
  {
   "cell_type": "markdown",
   "id": "about-backing",
   "metadata": {},
   "source": [
    "# Load and Select Image"
   ]
  },
  {
   "cell_type": "code",
   "execution_count": 4,
   "id": "infrared-vaccine",
   "metadata": {},
   "outputs": [],
   "source": [
    "images_dir = os.path.join(os.getcwd(), 'images')\n",
    "images = np.load(os.path.join(images_dir, 'processed_images.npy'), allow_pickle=True)"
   ]
  },
  {
   "cell_type": "markdown",
   "id": "unique-flesh",
   "metadata": {},
   "source": [
    "## Load Original Model"
   ]
  },
  {
   "cell_type": "code",
   "execution_count": 5,
   "id": "alternate-vacuum",
   "metadata": {},
   "outputs": [],
   "source": [
    "INPUT_SHAPE = (224,224,3)\n",
    "\n",
    "base_model = ResNet50(\n",
    "    include_top=True, weights='imagenet', \n",
    "    input_shape=INPUT_SHAPE\n",
    ")\n",
    "base_model.trainable = False\n",
    "\n",
    "model_input = Input(shape=INPUT_SHAPE, dtype='float32', name='input')\n",
    "\n",
    "net = base_model(model_input)\n",
    "out = Dense(10, activation='softmax')(net)\n",
    "\n",
    "model = Model(model_input, out)\n",
    "\n",
    "model_weights_path = 'model/20210511_21_28_36/model_weights.h5'\n",
    "\n",
    "model.load_weights(model_weights_path)\n",
    "model.trainable = False"
   ]
  },
  {
   "cell_type": "markdown",
   "id": "liberal-mother",
   "metadata": {},
   "source": [
    "# Model Predictions"
   ]
  },
  {
   "cell_type": "code",
   "execution_count": 6,
   "id": "individual-height",
   "metadata": {},
   "outputs": [],
   "source": [
    "predictions = model.predict(images)\n",
    "\n",
    "predictions.dump(os.path.join(images_dir, 'predictions.npy'))"
   ]
  }
 ],
 "metadata": {
  "kernelspec": {
   "display_name": "Python 3",
   "language": "python",
   "name": "python3"
  },
  "language_info": {
   "codemirror_mode": {
    "name": "ipython",
    "version": 3
   },
   "file_extension": ".py",
   "mimetype": "text/x-python",
   "name": "python",
   "nbconvert_exporter": "python",
   "pygments_lexer": "ipython3",
   "version": "3.7.9"
  }
 },
 "nbformat": 4,
 "nbformat_minor": 5
}
