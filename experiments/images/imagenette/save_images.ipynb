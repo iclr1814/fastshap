{
 "cells": [
  {
   "cell_type": "code",
   "execution_count": 1,
   "id": "blessed-universal",
   "metadata": {},
   "outputs": [],
   "source": [
    "import numpy as np\n",
    "import sys\n",
    "\n",
    "import tensorflow as tf\n",
    "import tensorflow_datasets as tfds\n",
    "\n",
    "from datetime import datetime\n",
    "import os\n",
    "\n",
    "#Select GPU\n",
    "os.environ['CUDA_VISIBLE_DEVICES'] = '1'"
   ]
  },
  {
   "cell_type": "code",
   "execution_count": null,
   "id": "experienced-blank",
   "metadata": {},
   "outputs": [],
   "source": [
    "# IMPORTANT: SET RANDOM SEEDS FOR REPRODUCIBILITY\n",
    "os.environ['PYTHONHASHSEED'] = str(420)\n",
    "import random\n",
    "random.seed(420)\n",
    "np.random.seed(420)\n",
    "tf.random.set_seed(420)"
   ]
  },
  {
   "cell_type": "markdown",
   "id": "unavailable-adobe",
   "metadata": {},
   "source": [
    "### Load Data"
   ]
  },
  {
   "cell_type": "code",
   "execution_count": 2,
   "id": "intelligent-guinea",
   "metadata": {
    "ExecuteTime": {
     "end_time": "2021-03-16T19:34:36.732265Z",
     "start_time": "2021-03-16T19:34:36.267950Z"
    },
    "scrolled": true
   },
   "outputs": [],
   "source": [
    "(ds_train, ds_val, ds_test), ds_info = tfds.load(\n",
    "    'imagenette/full-size-v2',\n",
    "    split=['train', 'validation[:50%]', 'validation[-50%:]'],\n",
    "    as_supervised=False,\n",
    "    with_info=True\n",
    ")"
   ]
  },
  {
   "cell_type": "markdown",
   "id": "technical-sheet",
   "metadata": {},
   "source": [
    "### Save 1000 Images to Explain"
   ]
  },
  {
   "cell_type": "code",
   "execution_count": 3,
   "id": "maritime-pressing",
   "metadata": {},
   "outputs": [],
   "source": [
    "#Get Directory \n",
    "save_dir = 'images'\n",
    "images_dir = os.path.join(os.getcwd(), save_dir)\n",
    "if not os.path.isdir(images_dir):\n",
    "    os.makedirs(images_dir)\n",
    "    \n",
    "\n",
    "# Load 1,000 Images\n",
    "imgs = []\n",
    "processed_imgs = []\n",
    "labels = []\n",
    "for i, x in enumerate(ds_test):\n",
    "    img = x['image']\n",
    "    imgs.append(img.numpy())\n",
    "    img_new = tf.cast(img, tf.float32)\n",
    "    img_new = tf.image.resize_with_crop_or_pad(img_new, 224, 224)\n",
    "    img_new = tf.keras.applications.resnet50.preprocess_input(img_new)\n",
    "    processed_imgs.append(img_new.numpy())\n",
    "    \n",
    "    label = x['label']\n",
    "    labels.append(label.numpy())\n",
    "    \n",
    "    if i >= 999:\n",
    "        break\n",
    "        \n",
    "# imgs = np.array(imgs)\n",
    "processed_imgs = np.array(processed_imgs)\n",
    "labels = np.array(labels)\n",
    "\n",
    "# imgs.dump(os.path.join(images_dir, 'images.npy'))\n",
    "processed_imgs.dump(os.path.join(images_dir, 'processed_images.npy'))\n",
    "labels.dump(os.path.join(images_dir, 'labels.npy'))"
   ]
  }
 ],
 "metadata": {
  "kernelspec": {
   "display_name": "Python 3",
   "language": "python",
   "name": "python3"
  },
  "language_info": {
   "codemirror_mode": {
    "name": "ipython",
    "version": 3
   },
   "file_extension": ".py",
   "mimetype": "text/x-python",
   "name": "python",
   "nbconvert_exporter": "python",
   "pygments_lexer": "ipython3",
   "version": "3.7.9"
  }
 },
 "nbformat": 4,
 "nbformat_minor": 5
}
